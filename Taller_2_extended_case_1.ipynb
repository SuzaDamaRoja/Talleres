{
 "cells": [
  {
   "cell_type": "markdown",
   "metadata": {},
   "source": [
    "# ¿Cómo podemos controlar el creciente número de accidentes en Nueva York?"
   ]
  },
  {
   "cell_type": "code",
   "execution_count": 1,
   "metadata": {},
   "outputs": [],
   "source": [
    "import json\n",
    "#import requests\n",
    "from bs4 import BeautifulSoup\n",
    "import pandas as pd\n",
    "import matplotlib.pyplot as plt\n",
    "import seaborn as sns\n",
    "import numpy\n",
    "\n",
    "#Para leer archivos: https://www.w3schools.com/python/pandas/ref_df_agg.asp"
   ]
  },
  {
   "cell_type": "markdown",
   "metadata": {},
   "source": [
    "## Introduccion"
   ]
  },
  {
   "cell_type": "markdown",
   "metadata": {},
   "source": [
    "**Contexto empresarial.** La ciudad de Nueva York ha experimentado un aumento en el número de accidentes en las carreteras de la ciudad. Quieren saber si el número de accidentes ha aumentado en las últimas semanas. Para todos los accidentes reportados, han recopilado detalles para cada accidente y han estado manteniendo registros durante el último año y medio (desde enero de 2018 hasta agosto de 2019).\n",
    "\n",
    "La ciudad te ha contratado para que construyas visualizaciones que les ayuden a identificar patrones en accidentes, lo que les ayudaría a tomar acciones preventivas para reducir la cantidad de accidentes en el futuro. Tienen ciertos parámetros como municipio, hora del día, motivo del accidente, etc. De los que se preocupan y de los que les gustaría obtener información específica."
   ]
  },
  {
   "cell_type": "markdown",
   "metadata": {},
   "source": [
    "**Problema comercial.** Su tarea es formatear los datos proporcionados y proporcionar visualizaciones que respondan las preguntas específicas que tiene el cliente, que se mencionan a continuación."
   ]
  },
  {
   "cell_type": "markdown",
   "metadata": {},
   "source": [
    "**Contexto analítico.** Se le proporciona un archivo CSV (almacenado en la carpeta ```datos``` ya creada) que contiene detalles sobre cada accidente, como fecha, hora, ubicación del accidente, motivo del accidente, tipos de vehículos involucrados, recuento de lesiones y muertes, etc. El delimitador en el archivo CSV dado es `;` en lugar del predeterminado `,`. Realizará las siguientes tareas con los datos:\n",
    "\n",
    "1. Extraiga datos adicionales del municipio almacenados en un archivo JSON\n",
    "2. Leer, transformar y preparar datos para su visualización\n",
    "3. Realizar análisis y construir visualizaciones de los datos para identificar patrones en el conjunto de datos.\n",
    "        \n",
    "El cliente tiene un conjunto específico de preguntas a las que le gustaría obtener respuestas. Deberá proporcionar visualizaciones para acompañar estos:\n",
    "\n",
    "1. ¿Cómo ha fluctuado el número de accidentes durante el último año y medio? ¿Han aumentado con el tiempo?\n",
    "2. Para un día en particular, ¿durante qué horas es más probable que ocurran accidentes?\n",
    "3. ¿Hay más accidentes entre semana que durante los fines de semana?\n",
    "4. ¿Cuál es la proporción de recuento de accidentes por área por municipio? ¿Qué distritos tienen un número desproporcionadamente grande de accidentes para su tamaño?\n",
    "5. Para cada municipio, ¿durante qué horas es más probable que ocurran accidentes?\n",
    "6. ¿Cuáles son las 5 principales causas de accidentes en la ciudad?\n",
    "7. ¿Qué tipos de vehículos están más involucrados en accidentes por municipio?\n",
    "8. ¿Qué tipos de vehículos están más involucrados en las muertes?"
   ]
  },
  {
   "cell_type": "markdown",
   "metadata": {},
   "source": [
    "## Obteniendo los datos relevantes"
   ]
  },
  {
   "cell_type": "markdown",
   "metadata": {},
   "source": [
    "El cliente ha solicitado un análisis de la relación accidentes-área de los distritos. Los datos del municipio se almacenan en un archivo JSON en la carpeta ```datos```."
   ]
  },
  {
   "cell_type": "markdown",
   "metadata": {},
   "source": [
    "### Question (5 min):\n",
    "\n",
    "Utilice la función ```json.load()``` para cargar el archivo ```borough_data.json``` como diccionario."
   ]
  },
  {
   "cell_type": "markdown",
   "metadata": {},
   "source": [
    "**Answer.** "
   ]
  },
  {
   "cell_type": "code",
   "execution_count": 2,
   "metadata": {},
   "outputs": [
    {
     "data": {
      "text/plain": [
       "{'the bronx': {'name': 'the bronx', 'population': 1471160.0, 'area': 42.1},\n",
       " 'brooklyn': {'name': 'brooklyn', 'population': 2648771.0, 'area': 70.82},\n",
       " 'manhattan': {'name': 'manhattan', 'population': 1664727.0, 'area': 22.83},\n",
       " 'queens': {'name': 'queens', 'population': 2358582.0, 'area': 108.53},\n",
       " 'staten island': {'name': 'staten island',\n",
       "  'population': 479458.0,\n",
       "  'area': 58.37}}"
      ]
     },
     "execution_count": 2,
     "metadata": {},
     "output_type": "execute_result"
    }
   ],
   "source": [
    "with open('borough_data.json') as f:\n",
    "    borough_data=json.load(f)\n",
    "    \n",
    "borough_data"
   ]
  },
  {
   "cell_type": "code",
   "execution_count": 3,
   "metadata": {},
   "outputs": [
    {
     "data": {
      "text/plain": [
       "dict"
      ]
     },
     "execution_count": 3,
     "metadata": {},
     "output_type": "execute_result"
    }
   ],
   "source": [
    "type(borough_data)"
   ]
  },
  {
   "cell_type": "markdown",
   "metadata": {},
   "source": [
    "### Question (5 min):\n",
    "De manera similar, use la función pandas ```read_csv()``` para cargar el archivo ```accidentes.csv``` como un DataFrame. Nombra este DataFrame ```df```.\n"
   ]
  },
  {
   "cell_type": "markdown",
   "metadata": {},
   "source": [
    "**Answer.** "
   ]
  },
  {
   "cell_type": "code",
   "execution_count": 4,
   "metadata": {},
   "outputs": [],
   "source": [
    "with open('accidents.csv') as f:\n",
    "    df=pd.read_csv(f, delimiter=';')"
   ]
  },
  {
   "cell_type": "code",
   "execution_count": 5,
   "metadata": {},
   "outputs": [
    {
     "data": {
      "text/html": [
       "<div>\n",
       "<style scoped>\n",
       "    .dataframe tbody tr th:only-of-type {\n",
       "        vertical-align: middle;\n",
       "    }\n",
       "\n",
       "    .dataframe tbody tr th {\n",
       "        vertical-align: top;\n",
       "    }\n",
       "\n",
       "    .dataframe thead th {\n",
       "        text-align: right;\n",
       "    }\n",
       "</style>\n",
       "<table border=\"1\" class=\"dataframe\">\n",
       "  <thead>\n",
       "    <tr style=\"text-align: right;\">\n",
       "      <th></th>\n",
       "      <th>DATE</th>\n",
       "      <th>TIME</th>\n",
       "      <th>BOROUGH</th>\n",
       "      <th>ZIP CODE</th>\n",
       "      <th>LATITUDE</th>\n",
       "      <th>LONGITUDE</th>\n",
       "      <th>ON STREET NAME</th>\n",
       "      <th>NUMBER OF PEDESTRIANS INJURED</th>\n",
       "      <th>NUMBER OF PEDESTRIANS KILLED</th>\n",
       "      <th>NUMBER OF CYCLIST INJURED</th>\n",
       "      <th>...</th>\n",
       "      <th>CONTRIBUTING FACTOR VEHICLE 2</th>\n",
       "      <th>CONTRIBUTING FACTOR VEHICLE 3</th>\n",
       "      <th>CONTRIBUTING FACTOR VEHICLE 4</th>\n",
       "      <th>CONTRIBUTING FACTOR VEHICLE 5</th>\n",
       "      <th>COLLISION_ID</th>\n",
       "      <th>VEHICLE TYPE CODE 1</th>\n",
       "      <th>VEHICLE TYPE CODE 2</th>\n",
       "      <th>VEHICLE TYPE CODE 3</th>\n",
       "      <th>VEHICLE TYPE CODE 4</th>\n",
       "      <th>VEHICLE TYPE CODE 5</th>\n",
       "    </tr>\n",
       "  </thead>\n",
       "  <tbody>\n",
       "    <tr>\n",
       "      <th>0</th>\n",
       "      <td>09/26/2018</td>\n",
       "      <td>12:12</td>\n",
       "      <td>BRONX</td>\n",
       "      <td>10454.0</td>\n",
       "      <td>40.808987</td>\n",
       "      <td>-73.911316</td>\n",
       "      <td>NaN</td>\n",
       "      <td>0</td>\n",
       "      <td>0</td>\n",
       "      <td>0</td>\n",
       "      <td>...</td>\n",
       "      <td>NaN</td>\n",
       "      <td>NaN</td>\n",
       "      <td>NaN</td>\n",
       "      <td>NaN</td>\n",
       "      <td>3988123</td>\n",
       "      <td>Sedan</td>\n",
       "      <td>NaN</td>\n",
       "      <td>NaN</td>\n",
       "      <td>NaN</td>\n",
       "      <td>NaN</td>\n",
       "    </tr>\n",
       "    <tr>\n",
       "      <th>1</th>\n",
       "      <td>09/25/2018</td>\n",
       "      <td>16:30</td>\n",
       "      <td>BROOKLYN</td>\n",
       "      <td>11236.0</td>\n",
       "      <td>40.636005</td>\n",
       "      <td>-73.912510</td>\n",
       "      <td>FLATLANDS AVENUE</td>\n",
       "      <td>1</td>\n",
       "      <td>0</td>\n",
       "      <td>0</td>\n",
       "      <td>...</td>\n",
       "      <td>NaN</td>\n",
       "      <td>NaN</td>\n",
       "      <td>NaN</td>\n",
       "      <td>NaN</td>\n",
       "      <td>3987962</td>\n",
       "      <td>Sedan</td>\n",
       "      <td>NaN</td>\n",
       "      <td>NaN</td>\n",
       "      <td>NaN</td>\n",
       "      <td>NaN</td>\n",
       "    </tr>\n",
       "    <tr>\n",
       "      <th>2</th>\n",
       "      <td>08/22/2019</td>\n",
       "      <td>19:30</td>\n",
       "      <td>QUEENS</td>\n",
       "      <td>11101.0</td>\n",
       "      <td>40.755490</td>\n",
       "      <td>-73.939530</td>\n",
       "      <td>NaN</td>\n",
       "      <td>0</td>\n",
       "      <td>0</td>\n",
       "      <td>0</td>\n",
       "      <td>...</td>\n",
       "      <td>NaN</td>\n",
       "      <td>NaN</td>\n",
       "      <td>NaN</td>\n",
       "      <td>NaN</td>\n",
       "      <td>4193132</td>\n",
       "      <td>Sedan</td>\n",
       "      <td>NaN</td>\n",
       "      <td>NaN</td>\n",
       "      <td>NaN</td>\n",
       "      <td>NaN</td>\n",
       "    </tr>\n",
       "    <tr>\n",
       "      <th>3</th>\n",
       "      <td>09/23/2018</td>\n",
       "      <td>13:10</td>\n",
       "      <td>QUEENS</td>\n",
       "      <td>11367.0</td>\n",
       "      <td>NaN</td>\n",
       "      <td>NaN</td>\n",
       "      <td>MAIN STREET</td>\n",
       "      <td>0</td>\n",
       "      <td>0</td>\n",
       "      <td>1</td>\n",
       "      <td>...</td>\n",
       "      <td>Unspecified</td>\n",
       "      <td>NaN</td>\n",
       "      <td>NaN</td>\n",
       "      <td>NaN</td>\n",
       "      <td>3985962</td>\n",
       "      <td>Bike</td>\n",
       "      <td>Station Wagon/Sport Utility Vehicle</td>\n",
       "      <td>NaN</td>\n",
       "      <td>NaN</td>\n",
       "      <td>NaN</td>\n",
       "    </tr>\n",
       "    <tr>\n",
       "      <th>4</th>\n",
       "      <td>08/20/2019</td>\n",
       "      <td>22:40</td>\n",
       "      <td>BRONX</td>\n",
       "      <td>10468.0</td>\n",
       "      <td>40.868336</td>\n",
       "      <td>-73.901270</td>\n",
       "      <td>NaN</td>\n",
       "      <td>0</td>\n",
       "      <td>0</td>\n",
       "      <td>0</td>\n",
       "      <td>...</td>\n",
       "      <td>Unspecified</td>\n",
       "      <td>NaN</td>\n",
       "      <td>NaN</td>\n",
       "      <td>NaN</td>\n",
       "      <td>4192111</td>\n",
       "      <td>Sedan</td>\n",
       "      <td>Sedan</td>\n",
       "      <td>NaN</td>\n",
       "      <td>NaN</td>\n",
       "      <td>NaN</td>\n",
       "    </tr>\n",
       "  </tbody>\n",
       "</table>\n",
       "<p>5 rows × 24 columns</p>\n",
       "</div>"
      ],
      "text/plain": [
       "         DATE   TIME   BOROUGH  ZIP CODE   LATITUDE  LONGITUDE  \\\n",
       "0  09/26/2018  12:12     BRONX   10454.0  40.808987 -73.911316   \n",
       "1  09/25/2018  16:30  BROOKLYN   11236.0  40.636005 -73.912510   \n",
       "2  08/22/2019  19:30    QUEENS   11101.0  40.755490 -73.939530   \n",
       "3  09/23/2018  13:10    QUEENS   11367.0        NaN        NaN   \n",
       "4  08/20/2019  22:40     BRONX   10468.0  40.868336 -73.901270   \n",
       "\n",
       "                     ON STREET NAME  NUMBER OF PEDESTRIANS INJURED  \\\n",
       "0                               NaN                              0   \n",
       "1  FLATLANDS AVENUE                                              1   \n",
       "2                               NaN                              0   \n",
       "3  MAIN STREET                                                   0   \n",
       "4                               NaN                              0   \n",
       "\n",
       "   NUMBER OF PEDESTRIANS KILLED  NUMBER OF CYCLIST INJURED  ...  \\\n",
       "0                             0                          0  ...   \n",
       "1                             0                          0  ...   \n",
       "2                             0                          0  ...   \n",
       "3                             0                          1  ...   \n",
       "4                             0                          0  ...   \n",
       "\n",
       "   CONTRIBUTING FACTOR VEHICLE 2  CONTRIBUTING FACTOR VEHICLE 3  \\\n",
       "0                            NaN                            NaN   \n",
       "1                            NaN                            NaN   \n",
       "2                            NaN                            NaN   \n",
       "3                    Unspecified                            NaN   \n",
       "4                    Unspecified                            NaN   \n",
       "\n",
       "   CONTRIBUTING FACTOR VEHICLE 4 CONTRIBUTING FACTOR VEHICLE 5 COLLISION_ID  \\\n",
       "0                            NaN                           NaN      3988123   \n",
       "1                            NaN                           NaN      3987962   \n",
       "2                            NaN                           NaN      4193132   \n",
       "3                            NaN                           NaN      3985962   \n",
       "4                            NaN                           NaN      4192111   \n",
       "\n",
       "  VEHICLE TYPE CODE 1                  VEHICLE TYPE CODE 2  \\\n",
       "0               Sedan                                  NaN   \n",
       "1               Sedan                                  NaN   \n",
       "2               Sedan                                  NaN   \n",
       "3                Bike  Station Wagon/Sport Utility Vehicle   \n",
       "4               Sedan                                Sedan   \n",
       "\n",
       "  VEHICLE TYPE CODE 3  VEHICLE TYPE CODE 4 VEHICLE TYPE CODE 5  \n",
       "0                 NaN                  NaN                 NaN  \n",
       "1                 NaN                  NaN                 NaN  \n",
       "2                 NaN                  NaN                 NaN  \n",
       "3                 NaN                  NaN                 NaN  \n",
       "4                 NaN                  NaN                 NaN  \n",
       "\n",
       "[5 rows x 24 columns]"
      ]
     },
     "execution_count": 5,
     "metadata": {},
     "output_type": "execute_result"
    }
   ],
   "source": [
    "df.head()#Para visualizar los primeros 5 registros"
   ]
  },
  {
   "cell_type": "code",
   "execution_count": 6,
   "metadata": {},
   "outputs": [
    {
     "data": {
      "text/html": [
       "<div>\n",
       "<style scoped>\n",
       "    .dataframe tbody tr th:only-of-type {\n",
       "        vertical-align: middle;\n",
       "    }\n",
       "\n",
       "    .dataframe tbody tr th {\n",
       "        vertical-align: top;\n",
       "    }\n",
       "\n",
       "    .dataframe thead th {\n",
       "        text-align: right;\n",
       "    }\n",
       "</style>\n",
       "<table border=\"1\" class=\"dataframe\">\n",
       "  <thead>\n",
       "    <tr style=\"text-align: right;\">\n",
       "      <th></th>\n",
       "      <th>DATE</th>\n",
       "      <th>TIME</th>\n",
       "      <th>BOROUGH</th>\n",
       "      <th>ZIP CODE</th>\n",
       "      <th>LATITUDE</th>\n",
       "      <th>LONGITUDE</th>\n",
       "      <th>ON STREET NAME</th>\n",
       "      <th>NUMBER OF PEDESTRIANS INJURED</th>\n",
       "      <th>NUMBER OF PEDESTRIANS KILLED</th>\n",
       "      <th>NUMBER OF CYCLIST INJURED</th>\n",
       "      <th>...</th>\n",
       "      <th>CONTRIBUTING FACTOR VEHICLE 2</th>\n",
       "      <th>CONTRIBUTING FACTOR VEHICLE 3</th>\n",
       "      <th>CONTRIBUTING FACTOR VEHICLE 4</th>\n",
       "      <th>CONTRIBUTING FACTOR VEHICLE 5</th>\n",
       "      <th>COLLISION_ID</th>\n",
       "      <th>VEHICLE TYPE CODE 1</th>\n",
       "      <th>VEHICLE TYPE CODE 2</th>\n",
       "      <th>VEHICLE TYPE CODE 3</th>\n",
       "      <th>VEHICLE TYPE CODE 4</th>\n",
       "      <th>VEHICLE TYPE CODE 5</th>\n",
       "    </tr>\n",
       "  </thead>\n",
       "  <tbody>\n",
       "    <tr>\n",
       "      <th>238517</th>\n",
       "      <td>01/20/2018</td>\n",
       "      <td>15:00</td>\n",
       "      <td>QUEENS</td>\n",
       "      <td>11436.0</td>\n",
       "      <td>40.685356</td>\n",
       "      <td>-73.797230</td>\n",
       "      <td>LINDEN BOULEVARD</td>\n",
       "      <td>0</td>\n",
       "      <td>0</td>\n",
       "      <td>0</td>\n",
       "      <td>...</td>\n",
       "      <td>Unspecified</td>\n",
       "      <td>NaN</td>\n",
       "      <td>NaN</td>\n",
       "      <td>NaN</td>\n",
       "      <td>3832275</td>\n",
       "      <td>SPORT UTILITY / STATION WAGON</td>\n",
       "      <td>PASSENGER VEHICLE</td>\n",
       "      <td>NaN</td>\n",
       "      <td>NaN</td>\n",
       "      <td>NaN</td>\n",
       "    </tr>\n",
       "    <tr>\n",
       "      <th>238518</th>\n",
       "      <td>01/04/2018</td>\n",
       "      <td>14:00</td>\n",
       "      <td>BRONX</td>\n",
       "      <td>10452.0</td>\n",
       "      <td>40.845180</td>\n",
       "      <td>-73.914170</td>\n",
       "      <td>JEROME AVENUE</td>\n",
       "      <td>0</td>\n",
       "      <td>0</td>\n",
       "      <td>0</td>\n",
       "      <td>...</td>\n",
       "      <td>NaN</td>\n",
       "      <td>NaN</td>\n",
       "      <td>NaN</td>\n",
       "      <td>NaN</td>\n",
       "      <td>3822315</td>\n",
       "      <td>SPORT UTILITY / STATION WAGON</td>\n",
       "      <td>NaN</td>\n",
       "      <td>NaN</td>\n",
       "      <td>NaN</td>\n",
       "      <td>NaN</td>\n",
       "    </tr>\n",
       "    <tr>\n",
       "      <th>238519</th>\n",
       "      <td>01/20/2018</td>\n",
       "      <td>13:05</td>\n",
       "      <td>BRONX</td>\n",
       "      <td>10462.0</td>\n",
       "      <td>40.831210</td>\n",
       "      <td>-73.850876</td>\n",
       "      <td>CASTLE HILL AVENUE</td>\n",
       "      <td>0</td>\n",
       "      <td>0</td>\n",
       "      <td>0</td>\n",
       "      <td>...</td>\n",
       "      <td>Unspecified</td>\n",
       "      <td>NaN</td>\n",
       "      <td>NaN</td>\n",
       "      <td>NaN</td>\n",
       "      <td>3832513</td>\n",
       "      <td>PASSENGER VEHICLE</td>\n",
       "      <td>SPORT UTILITY / STATION WAGON</td>\n",
       "      <td>NaN</td>\n",
       "      <td>NaN</td>\n",
       "      <td>NaN</td>\n",
       "    </tr>\n",
       "    <tr>\n",
       "      <th>238520</th>\n",
       "      <td>01/29/2018</td>\n",
       "      <td>17:45</td>\n",
       "      <td>QUEENS</td>\n",
       "      <td>11377.0</td>\n",
       "      <td>40.757250</td>\n",
       "      <td>-73.904854</td>\n",
       "      <td>31 AVENUE</td>\n",
       "      <td>0</td>\n",
       "      <td>0</td>\n",
       "      <td>0</td>\n",
       "      <td>...</td>\n",
       "      <td>Unspecified</td>\n",
       "      <td>NaN</td>\n",
       "      <td>NaN</td>\n",
       "      <td>NaN</td>\n",
       "      <td>3837608</td>\n",
       "      <td>SPORT UTILITY / STATION WAGON</td>\n",
       "      <td>PASSENGER VEHICLE</td>\n",
       "      <td>NaN</td>\n",
       "      <td>NaN</td>\n",
       "      <td>NaN</td>\n",
       "    </tr>\n",
       "    <tr>\n",
       "      <th>238521</th>\n",
       "      <td>01/23/2018</td>\n",
       "      <td>16:38</td>\n",
       "      <td>BROOKLYN</td>\n",
       "      <td>11211.0</td>\n",
       "      <td>40.710197</td>\n",
       "      <td>-73.958430</td>\n",
       "      <td>HAVEMEYER STREET</td>\n",
       "      <td>0</td>\n",
       "      <td>0</td>\n",
       "      <td>0</td>\n",
       "      <td>...</td>\n",
       "      <td>Passing or Lane Usage Improper</td>\n",
       "      <td>NaN</td>\n",
       "      <td>NaN</td>\n",
       "      <td>NaN</td>\n",
       "      <td>3833631</td>\n",
       "      <td>SPORT UTILITY / STATION WAGON</td>\n",
       "      <td>SPORT UTILITY / STATION WAGON</td>\n",
       "      <td>NaN</td>\n",
       "      <td>NaN</td>\n",
       "      <td>NaN</td>\n",
       "    </tr>\n",
       "  </tbody>\n",
       "</table>\n",
       "<p>5 rows × 24 columns</p>\n",
       "</div>"
      ],
      "text/plain": [
       "              DATE   TIME   BOROUGH  ZIP CODE   LATITUDE  LONGITUDE  \\\n",
       "238517  01/20/2018  15:00    QUEENS   11436.0  40.685356 -73.797230   \n",
       "238518  01/04/2018  14:00     BRONX   10452.0  40.845180 -73.914170   \n",
       "238519  01/20/2018  13:05     BRONX   10462.0  40.831210 -73.850876   \n",
       "238520  01/29/2018  17:45    QUEENS   11377.0  40.757250 -73.904854   \n",
       "238521  01/23/2018  16:38  BROOKLYN   11211.0  40.710197 -73.958430   \n",
       "\n",
       "                          ON STREET NAME  NUMBER OF PEDESTRIANS INJURED  \\\n",
       "238517  LINDEN BOULEVARD                                              0   \n",
       "238518  JEROME AVENUE                                                 0   \n",
       "238519  CASTLE HILL AVENUE                                            0   \n",
       "238520  31 AVENUE                                                     0   \n",
       "238521  HAVEMEYER STREET                                              0   \n",
       "\n",
       "        NUMBER OF PEDESTRIANS KILLED  NUMBER OF CYCLIST INJURED  ...  \\\n",
       "238517                             0                          0  ...   \n",
       "238518                             0                          0  ...   \n",
       "238519                             0                          0  ...   \n",
       "238520                             0                          0  ...   \n",
       "238521                             0                          0  ...   \n",
       "\n",
       "         CONTRIBUTING FACTOR VEHICLE 2  CONTRIBUTING FACTOR VEHICLE 3  \\\n",
       "238517                     Unspecified                            NaN   \n",
       "238518                             NaN                            NaN   \n",
       "238519                     Unspecified                            NaN   \n",
       "238520                     Unspecified                            NaN   \n",
       "238521  Passing or Lane Usage Improper                            NaN   \n",
       "\n",
       "        CONTRIBUTING FACTOR VEHICLE 4 CONTRIBUTING FACTOR VEHICLE 5  \\\n",
       "238517                            NaN                           NaN   \n",
       "238518                            NaN                           NaN   \n",
       "238519                            NaN                           NaN   \n",
       "238520                            NaN                           NaN   \n",
       "238521                            NaN                           NaN   \n",
       "\n",
       "       COLLISION_ID            VEHICLE TYPE CODE 1  \\\n",
       "238517      3832275  SPORT UTILITY / STATION WAGON   \n",
       "238518      3822315  SPORT UTILITY / STATION WAGON   \n",
       "238519      3832513              PASSENGER VEHICLE   \n",
       "238520      3837608  SPORT UTILITY / STATION WAGON   \n",
       "238521      3833631  SPORT UTILITY / STATION WAGON   \n",
       "\n",
       "                  VEHICLE TYPE CODE 2 VEHICLE TYPE CODE 3  \\\n",
       "238517              PASSENGER VEHICLE                 NaN   \n",
       "238518                            NaN                 NaN   \n",
       "238519  SPORT UTILITY / STATION WAGON                 NaN   \n",
       "238520              PASSENGER VEHICLE                 NaN   \n",
       "238521  SPORT UTILITY / STATION WAGON                 NaN   \n",
       "\n",
       "        VEHICLE TYPE CODE 4 VEHICLE TYPE CODE 5  \n",
       "238517                  NaN                 NaN  \n",
       "238518                  NaN                 NaN  \n",
       "238519                  NaN                 NaN  \n",
       "238520                  NaN                 NaN  \n",
       "238521                  NaN                 NaN  \n",
       "\n",
       "[5 rows x 24 columns]"
      ]
     },
     "execution_count": 6,
     "metadata": {},
     "output_type": "execute_result"
    }
   ],
   "source": [
    "df.tail()#ver los últimos 5 registros"
   ]
  },
  {
   "cell_type": "code",
   "execution_count": 7,
   "metadata": {},
   "outputs": [
    {
     "data": {
      "text/html": [
       "<div>\n",
       "<style scoped>\n",
       "    .dataframe tbody tr th:only-of-type {\n",
       "        vertical-align: middle;\n",
       "    }\n",
       "\n",
       "    .dataframe tbody tr th {\n",
       "        vertical-align: top;\n",
       "    }\n",
       "\n",
       "    .dataframe thead th {\n",
       "        text-align: right;\n",
       "    }\n",
       "</style>\n",
       "<table border=\"1\" class=\"dataframe\">\n",
       "  <thead>\n",
       "    <tr style=\"text-align: right;\">\n",
       "      <th></th>\n",
       "      <th>DATE</th>\n",
       "      <th>TIME</th>\n",
       "      <th>BOROUGH</th>\n",
       "      <th>ZIP CODE</th>\n",
       "      <th>LATITUDE</th>\n",
       "      <th>LONGITUDE</th>\n",
       "      <th>ON STREET NAME</th>\n",
       "      <th>NUMBER OF PEDESTRIANS INJURED</th>\n",
       "      <th>NUMBER OF PEDESTRIANS KILLED</th>\n",
       "      <th>NUMBER OF CYCLIST INJURED</th>\n",
       "      <th>...</th>\n",
       "      <th>CONTRIBUTING FACTOR VEHICLE 2</th>\n",
       "      <th>CONTRIBUTING FACTOR VEHICLE 3</th>\n",
       "      <th>CONTRIBUTING FACTOR VEHICLE 4</th>\n",
       "      <th>CONTRIBUTING FACTOR VEHICLE 5</th>\n",
       "      <th>COLLISION_ID</th>\n",
       "      <th>VEHICLE TYPE CODE 1</th>\n",
       "      <th>VEHICLE TYPE CODE 2</th>\n",
       "      <th>VEHICLE TYPE CODE 3</th>\n",
       "      <th>VEHICLE TYPE CODE 4</th>\n",
       "      <th>VEHICLE TYPE CODE 5</th>\n",
       "    </tr>\n",
       "  </thead>\n",
       "  <tbody>\n",
       "    <tr>\n",
       "      <th>93530</th>\n",
       "      <td>03/28/2019</td>\n",
       "      <td>7:55</td>\n",
       "      <td>BROOKLYN</td>\n",
       "      <td>11236.0</td>\n",
       "      <td>40.639275</td>\n",
       "      <td>-73.907460</td>\n",
       "      <td>FLATLANDS AVENUE</td>\n",
       "      <td>0</td>\n",
       "      <td>0</td>\n",
       "      <td>0</td>\n",
       "      <td>...</td>\n",
       "      <td>Unspecified</td>\n",
       "      <td>NaN</td>\n",
       "      <td>NaN</td>\n",
       "      <td>NaN</td>\n",
       "      <td>4105784</td>\n",
       "      <td>Sedan</td>\n",
       "      <td>Station Wagon/Sport Utility Vehicle</td>\n",
       "      <td>NaN</td>\n",
       "      <td>NaN</td>\n",
       "      <td>NaN</td>\n",
       "    </tr>\n",
       "    <tr>\n",
       "      <th>15731</th>\n",
       "      <td>07/16/2019</td>\n",
       "      <td>4:30</td>\n",
       "      <td>QUEENS</td>\n",
       "      <td>11379.0</td>\n",
       "      <td>40.712204</td>\n",
       "      <td>-73.886380</td>\n",
       "      <td>69 STREET</td>\n",
       "      <td>0</td>\n",
       "      <td>0</td>\n",
       "      <td>0</td>\n",
       "      <td>...</td>\n",
       "      <td>NaN</td>\n",
       "      <td>NaN</td>\n",
       "      <td>NaN</td>\n",
       "      <td>NaN</td>\n",
       "      <td>4171101</td>\n",
       "      <td>Sedan</td>\n",
       "      <td>NaN</td>\n",
       "      <td>NaN</td>\n",
       "      <td>NaN</td>\n",
       "      <td>NaN</td>\n",
       "    </tr>\n",
       "    <tr>\n",
       "      <th>109039</th>\n",
       "      <td>03/06/2019</td>\n",
       "      <td>10:25</td>\n",
       "      <td>QUEENS</td>\n",
       "      <td>11004.0</td>\n",
       "      <td>40.744026</td>\n",
       "      <td>-73.717636</td>\n",
       "      <td>UNION TURNPIKE</td>\n",
       "      <td>0</td>\n",
       "      <td>0</td>\n",
       "      <td>0</td>\n",
       "      <td>...</td>\n",
       "      <td>Unspecified</td>\n",
       "      <td>NaN</td>\n",
       "      <td>NaN</td>\n",
       "      <td>NaN</td>\n",
       "      <td>4093141</td>\n",
       "      <td>Sedan</td>\n",
       "      <td>Station Wagon/Sport Utility Vehicle</td>\n",
       "      <td>NaN</td>\n",
       "      <td>NaN</td>\n",
       "      <td>NaN</td>\n",
       "    </tr>\n",
       "    <tr>\n",
       "      <th>182585</th>\n",
       "      <td>05/03/2018</td>\n",
       "      <td>9:50</td>\n",
       "      <td>QUEENS</td>\n",
       "      <td>11377.0</td>\n",
       "      <td>40.735550</td>\n",
       "      <td>-73.894226</td>\n",
       "      <td>51 AVENUE</td>\n",
       "      <td>0</td>\n",
       "      <td>0</td>\n",
       "      <td>0</td>\n",
       "      <td>...</td>\n",
       "      <td>Unspecified</td>\n",
       "      <td>NaN</td>\n",
       "      <td>NaN</td>\n",
       "      <td>NaN</td>\n",
       "      <td>3894043</td>\n",
       "      <td>CONV</td>\n",
       "      <td>PASSENGER VEHICLE</td>\n",
       "      <td>NaN</td>\n",
       "      <td>NaN</td>\n",
       "      <td>NaN</td>\n",
       "    </tr>\n",
       "    <tr>\n",
       "      <th>63421</th>\n",
       "      <td>05/27/2019</td>\n",
       "      <td>22:40</td>\n",
       "      <td>BROOKLYN</td>\n",
       "      <td>11201.0</td>\n",
       "      <td>40.698376</td>\n",
       "      <td>-73.983055</td>\n",
       "      <td>GOLD STREET</td>\n",
       "      <td>0</td>\n",
       "      <td>0</td>\n",
       "      <td>0</td>\n",
       "      <td>...</td>\n",
       "      <td>Unspecified</td>\n",
       "      <td>NaN</td>\n",
       "      <td>NaN</td>\n",
       "      <td>NaN</td>\n",
       "      <td>4140535</td>\n",
       "      <td>Sedan</td>\n",
       "      <td>Sedan</td>\n",
       "      <td>NaN</td>\n",
       "      <td>NaN</td>\n",
       "      <td>NaN</td>\n",
       "    </tr>\n",
       "  </tbody>\n",
       "</table>\n",
       "<p>5 rows × 24 columns</p>\n",
       "</div>"
      ],
      "text/plain": [
       "              DATE   TIME   BOROUGH  ZIP CODE   LATITUDE  LONGITUDE  \\\n",
       "93530   03/28/2019   7:55  BROOKLYN   11236.0  40.639275 -73.907460   \n",
       "15731   07/16/2019   4:30    QUEENS   11379.0  40.712204 -73.886380   \n",
       "109039  03/06/2019  10:25    QUEENS   11004.0  40.744026 -73.717636   \n",
       "182585  05/03/2018   9:50    QUEENS   11377.0  40.735550 -73.894226   \n",
       "63421   05/27/2019  22:40  BROOKLYN   11201.0  40.698376 -73.983055   \n",
       "\n",
       "                          ON STREET NAME  NUMBER OF PEDESTRIANS INJURED  \\\n",
       "93530   FLATLANDS AVENUE                                              0   \n",
       "15731   69 STREET                                                     0   \n",
       "109039  UNION TURNPIKE                                                0   \n",
       "182585  51 AVENUE                                                     0   \n",
       "63421   GOLD STREET                                                   0   \n",
       "\n",
       "        NUMBER OF PEDESTRIANS KILLED  NUMBER OF CYCLIST INJURED  ...  \\\n",
       "93530                              0                          0  ...   \n",
       "15731                              0                          0  ...   \n",
       "109039                             0                          0  ...   \n",
       "182585                             0                          0  ...   \n",
       "63421                              0                          0  ...   \n",
       "\n",
       "        CONTRIBUTING FACTOR VEHICLE 2  CONTRIBUTING FACTOR VEHICLE 3  \\\n",
       "93530                     Unspecified                            NaN   \n",
       "15731                             NaN                            NaN   \n",
       "109039                    Unspecified                            NaN   \n",
       "182585                    Unspecified                            NaN   \n",
       "63421                     Unspecified                            NaN   \n",
       "\n",
       "        CONTRIBUTING FACTOR VEHICLE 4 CONTRIBUTING FACTOR VEHICLE 5  \\\n",
       "93530                             NaN                           NaN   \n",
       "15731                             NaN                           NaN   \n",
       "109039                            NaN                           NaN   \n",
       "182585                            NaN                           NaN   \n",
       "63421                             NaN                           NaN   \n",
       "\n",
       "       COLLISION_ID VEHICLE TYPE CODE 1                  VEHICLE TYPE CODE 2  \\\n",
       "93530       4105784               Sedan  Station Wagon/Sport Utility Vehicle   \n",
       "15731       4171101               Sedan                                  NaN   \n",
       "109039      4093141               Sedan  Station Wagon/Sport Utility Vehicle   \n",
       "182585      3894043                CONV                    PASSENGER VEHICLE   \n",
       "63421       4140535               Sedan                                Sedan   \n",
       "\n",
       "       VEHICLE TYPE CODE 3  VEHICLE TYPE CODE 4 VEHICLE TYPE CODE 5  \n",
       "93530                  NaN                  NaN                 NaN  \n",
       "15731                  NaN                  NaN                 NaN  \n",
       "109039                 NaN                  NaN                 NaN  \n",
       "182585                 NaN                  NaN                 NaN  \n",
       "63421                  NaN                  NaN                 NaN  \n",
       "\n",
       "[5 rows x 24 columns]"
      ]
     },
     "execution_count": 7,
     "metadata": {},
     "output_type": "execute_result"
    }
   ],
   "source": [
    "df.sample(5)#Trae registros de manera aleatoria. Sólo da un registro pseudoaleatorio por defecto"
   ]
  },
  {
   "cell_type": "markdown",
   "metadata": {},
   "source": [
    "## Overview de la data"
   ]
  },
  {
   "cell_type": "markdown",
   "metadata": {},
   "source": [
    "Analizemos las columnas presentes en el data frame"
   ]
  },
  {
   "cell_type": "code",
   "execution_count": 8,
   "metadata": {
    "scrolled": true
   },
   "outputs": [
    {
     "data": {
      "text/plain": [
       "Index(['DATE', 'TIME', 'BOROUGH', 'ZIP CODE', 'LATITUDE', 'LONGITUDE',\n",
       "       'ON STREET NAME', 'NUMBER OF PEDESTRIANS INJURED',\n",
       "       'NUMBER OF PEDESTRIANS KILLED', 'NUMBER OF CYCLIST INJURED',\n",
       "       'NUMBER OF CYCLIST KILLED', 'NUMBER OF MOTORIST INJURED',\n",
       "       'NUMBER OF MOTORIST KILLED', 'CONTRIBUTING FACTOR VEHICLE 1',\n",
       "       'CONTRIBUTING FACTOR VEHICLE 2', 'CONTRIBUTING FACTOR VEHICLE 3',\n",
       "       'CONTRIBUTING FACTOR VEHICLE 4', 'CONTRIBUTING FACTOR VEHICLE 5',\n",
       "       'COLLISION_ID', 'VEHICLE TYPE CODE 1', 'VEHICLE TYPE CODE 2',\n",
       "       'VEHICLE TYPE CODE 3', 'VEHICLE TYPE CODE 4', 'VEHICLE TYPE CODE 5'],\n",
       "      dtype='object')"
      ]
     },
     "execution_count": 8,
     "metadata": {},
     "output_type": "execute_result"
    }
   ],
   "source": [
    "df.columns"
   ]
  },
  {
   "cell_type": "code",
   "execution_count": 9,
   "metadata": {},
   "outputs": [
    {
     "data": {
      "text/plain": [
       "['DATE',\n",
       " 'TIME',\n",
       " 'BOROUGH',\n",
       " 'ZIP CODE',\n",
       " 'LATITUDE',\n",
       " 'LONGITUDE',\n",
       " 'ON STREET NAME',\n",
       " 'NUMBER OF PEDESTRIANS INJURED',\n",
       " 'NUMBER OF PEDESTRIANS KILLED',\n",
       " 'NUMBER OF CYCLIST INJURED',\n",
       " 'NUMBER OF CYCLIST KILLED',\n",
       " 'NUMBER OF MOTORIST INJURED',\n",
       " 'NUMBER OF MOTORIST KILLED',\n",
       " 'CONTRIBUTING FACTOR VEHICLE 1',\n",
       " 'CONTRIBUTING FACTOR VEHICLE 2',\n",
       " 'CONTRIBUTING FACTOR VEHICLE 3',\n",
       " 'CONTRIBUTING FACTOR VEHICLE 4',\n",
       " 'CONTRIBUTING FACTOR VEHICLE 5',\n",
       " 'COLLISION_ID',\n",
       " 'VEHICLE TYPE CODE 1',\n",
       " 'VEHICLE TYPE CODE 2',\n",
       " 'VEHICLE TYPE CODE 3',\n",
       " 'VEHICLE TYPE CODE 4',\n",
       " 'VEHICLE TYPE CODE 5']"
      ]
     },
     "execution_count": 9,
     "metadata": {},
     "output_type": "execute_result"
    }
   ],
   "source": [
    "list(df.columns) #convertir el dataframe en lista"
   ]
  },
  {
   "cell_type": "code",
   "execution_count": 10,
   "metadata": {},
   "outputs": [
    {
     "name": "stdout",
     "output_type": "stream",
     "text": [
      "<class 'pandas.core.frame.DataFrame'>\n",
      "RangeIndex: 238522 entries, 0 to 238521\n",
      "Data columns (total 24 columns):\n",
      " #   Column                         Non-Null Count   Dtype  \n",
      "---  ------                         --------------   -----  \n",
      " 0   DATE                           238522 non-null  object \n",
      " 1   TIME                           238522 non-null  object \n",
      " 2   BOROUGH                        238522 non-null  object \n",
      " 3   ZIP CODE                       238452 non-null  float64\n",
      " 4   LATITUDE                       231544 non-null  float64\n",
      " 5   LONGITUDE                      231544 non-null  float64\n",
      " 6   ON STREET NAME                 153918 non-null  object \n",
      " 7   NUMBER OF PEDESTRIANS INJURED  238522 non-null  int64  \n",
      " 8   NUMBER OF PEDESTRIANS KILLED   238522 non-null  int64  \n",
      " 9   NUMBER OF CYCLIST INJURED      238522 non-null  int64  \n",
      " 10  NUMBER OF CYCLIST KILLED       238522 non-null  int64  \n",
      " 11  NUMBER OF MOTORIST INJURED     238522 non-null  int64  \n",
      " 12  NUMBER OF MOTORIST KILLED      238522 non-null  int64  \n",
      " 13  CONTRIBUTING FACTOR VEHICLE 1  237638 non-null  object \n",
      " 14  CONTRIBUTING FACTOR VEHICLE 2  198514 non-null  object \n",
      " 15  CONTRIBUTING FACTOR VEHICLE 3  13072 non-null   object \n",
      " 16  CONTRIBUTING FACTOR VEHICLE 4  2856 non-null    object \n",
      " 17  CONTRIBUTING FACTOR VEHICLE 5  792 non-null     object \n",
      " 18  COLLISION_ID                   238522 non-null  int64  \n",
      " 19  VEHICLE TYPE CODE 1            236801 non-null  object \n",
      " 20  VEHICLE TYPE CODE 2            182932 non-null  object \n",
      " 21  VEHICLE TYPE CODE 3            12301 non-null   object \n",
      " 22  VEHICLE TYPE CODE 4            2716 non-null    object \n",
      " 23  VEHICLE TYPE CODE 5            753 non-null     object \n",
      "dtypes: float64(3), int64(7), object(14)\n",
      "memory usage: 43.7+ MB\n"
     ]
    }
   ],
   "source": [
    "df.info()#Permite conocer los datos que tienen las columnas"
   ]
  },
  {
   "cell_type": "code",
   "execution_count": 11,
   "metadata": {},
   "outputs": [
    {
     "data": {
      "text/html": [
       "<div>\n",
       "<style scoped>\n",
       "    .dataframe tbody tr th:only-of-type {\n",
       "        vertical-align: middle;\n",
       "    }\n",
       "\n",
       "    .dataframe tbody tr th {\n",
       "        vertical-align: top;\n",
       "    }\n",
       "\n",
       "    .dataframe thead th {\n",
       "        text-align: right;\n",
       "    }\n",
       "</style>\n",
       "<table border=\"1\" class=\"dataframe\">\n",
       "  <thead>\n",
       "    <tr style=\"text-align: right;\">\n",
       "      <th></th>\n",
       "      <th>ZIP CODE</th>\n",
       "      <th>LATITUDE</th>\n",
       "      <th>LONGITUDE</th>\n",
       "      <th>NUMBER OF PEDESTRIANS INJURED</th>\n",
       "      <th>NUMBER OF PEDESTRIANS KILLED</th>\n",
       "      <th>NUMBER OF CYCLIST INJURED</th>\n",
       "      <th>NUMBER OF CYCLIST KILLED</th>\n",
       "      <th>NUMBER OF MOTORIST INJURED</th>\n",
       "      <th>NUMBER OF MOTORIST KILLED</th>\n",
       "      <th>COLLISION_ID</th>\n",
       "    </tr>\n",
       "  </thead>\n",
       "  <tbody>\n",
       "    <tr>\n",
       "      <th>count</th>\n",
       "      <td>238452.000000</td>\n",
       "      <td>231544.000000</td>\n",
       "      <td>231544.000000</td>\n",
       "      <td>238522.000000</td>\n",
       "      <td>238522.000000</td>\n",
       "      <td>238522.000000</td>\n",
       "      <td>238522.000000</td>\n",
       "      <td>238522.000000</td>\n",
       "      <td>238522.000000</td>\n",
       "      <td>2.385220e+05</td>\n",
       "    </tr>\n",
       "    <tr>\n",
       "      <th>mean</th>\n",
       "      <td>10865.578838</td>\n",
       "      <td>40.656873</td>\n",
       "      <td>-73.797699</td>\n",
       "      <td>0.054523</td>\n",
       "      <td>0.000532</td>\n",
       "      <td>0.023482</td>\n",
       "      <td>0.000084</td>\n",
       "      <td>0.178076</td>\n",
       "      <td>0.000310</td>\n",
       "      <td>4.008044e+06</td>\n",
       "    </tr>\n",
       "    <tr>\n",
       "      <th>std</th>\n",
       "      <td>546.056571</td>\n",
       "      <td>1.632850</td>\n",
       "      <td>2.961521</td>\n",
       "      <td>0.237834</td>\n",
       "      <td>0.023250</td>\n",
       "      <td>0.152835</td>\n",
       "      <td>0.009157</td>\n",
       "      <td>0.587479</td>\n",
       "      <td>0.017848</td>\n",
       "      <td>1.084693e+05</td>\n",
       "    </tr>\n",
       "    <tr>\n",
       "      <th>min</th>\n",
       "      <td>10000.000000</td>\n",
       "      <td>0.000000</td>\n",
       "      <td>-74.253930</td>\n",
       "      <td>0.000000</td>\n",
       "      <td>0.000000</td>\n",
       "      <td>0.000000</td>\n",
       "      <td>0.000000</td>\n",
       "      <td>0.000000</td>\n",
       "      <td>0.000000</td>\n",
       "      <td>3.511951e+06</td>\n",
       "    </tr>\n",
       "    <tr>\n",
       "      <th>25%</th>\n",
       "      <td>10452.000000</td>\n",
       "      <td>40.666750</td>\n",
       "      <td>-73.973860</td>\n",
       "      <td>0.000000</td>\n",
       "      <td>0.000000</td>\n",
       "      <td>0.000000</td>\n",
       "      <td>0.000000</td>\n",
       "      <td>0.000000</td>\n",
       "      <td>0.000000</td>\n",
       "      <td>3.913739e+06</td>\n",
       "    </tr>\n",
       "    <tr>\n",
       "      <th>50%</th>\n",
       "      <td>11208.000000</td>\n",
       "      <td>40.717007</td>\n",
       "      <td>-73.922770</td>\n",
       "      <td>0.000000</td>\n",
       "      <td>0.000000</td>\n",
       "      <td>0.000000</td>\n",
       "      <td>0.000000</td>\n",
       "      <td>0.000000</td>\n",
       "      <td>0.000000</td>\n",
       "      <td>4.006476e+06</td>\n",
       "    </tr>\n",
       "    <tr>\n",
       "      <th>75%</th>\n",
       "      <td>11354.000000</td>\n",
       "      <td>40.765715</td>\n",
       "      <td>-73.864890</td>\n",
       "      <td>0.000000</td>\n",
       "      <td>0.000000</td>\n",
       "      <td>0.000000</td>\n",
       "      <td>0.000000</td>\n",
       "      <td>0.000000</td>\n",
       "      <td>0.000000</td>\n",
       "      <td>4.102648e+06</td>\n",
       "    </tr>\n",
       "    <tr>\n",
       "      <th>max</th>\n",
       "      <td>11697.000000</td>\n",
       "      <td>40.912884</td>\n",
       "      <td>0.000000</td>\n",
       "      <td>6.000000</td>\n",
       "      <td>2.000000</td>\n",
       "      <td>3.000000</td>\n",
       "      <td>1.000000</td>\n",
       "      <td>21.000000</td>\n",
       "      <td>2.000000</td>\n",
       "      <td>4.195347e+06</td>\n",
       "    </tr>\n",
       "  </tbody>\n",
       "</table>\n",
       "</div>"
      ],
      "text/plain": [
       "            ZIP CODE       LATITUDE      LONGITUDE  \\\n",
       "count  238452.000000  231544.000000  231544.000000   \n",
       "mean    10865.578838      40.656873     -73.797699   \n",
       "std       546.056571       1.632850       2.961521   \n",
       "min     10000.000000       0.000000     -74.253930   \n",
       "25%     10452.000000      40.666750     -73.973860   \n",
       "50%     11208.000000      40.717007     -73.922770   \n",
       "75%     11354.000000      40.765715     -73.864890   \n",
       "max     11697.000000      40.912884       0.000000   \n",
       "\n",
       "       NUMBER OF PEDESTRIANS INJURED  NUMBER OF PEDESTRIANS KILLED  \\\n",
       "count                  238522.000000                 238522.000000   \n",
       "mean                        0.054523                      0.000532   \n",
       "std                         0.237834                      0.023250   \n",
       "min                         0.000000                      0.000000   \n",
       "25%                         0.000000                      0.000000   \n",
       "50%                         0.000000                      0.000000   \n",
       "75%                         0.000000                      0.000000   \n",
       "max                         6.000000                      2.000000   \n",
       "\n",
       "       NUMBER OF CYCLIST INJURED  NUMBER OF CYCLIST KILLED  \\\n",
       "count              238522.000000             238522.000000   \n",
       "mean                    0.023482                  0.000084   \n",
       "std                     0.152835                  0.009157   \n",
       "min                     0.000000                  0.000000   \n",
       "25%                     0.000000                  0.000000   \n",
       "50%                     0.000000                  0.000000   \n",
       "75%                     0.000000                  0.000000   \n",
       "max                     3.000000                  1.000000   \n",
       "\n",
       "       NUMBER OF MOTORIST INJURED  NUMBER OF MOTORIST KILLED  COLLISION_ID  \n",
       "count               238522.000000              238522.000000  2.385220e+05  \n",
       "mean                     0.178076                   0.000310  4.008044e+06  \n",
       "std                      0.587479                   0.017848  1.084693e+05  \n",
       "min                      0.000000                   0.000000  3.511951e+06  \n",
       "25%                      0.000000                   0.000000  3.913739e+06  \n",
       "50%                      0.000000                   0.000000  4.006476e+06  \n",
       "75%                      0.000000                   0.000000  4.102648e+06  \n",
       "max                     21.000000                   2.000000  4.195347e+06  "
      ]
     },
     "execution_count": 11,
     "metadata": {},
     "output_type": "execute_result"
    }
   ],
   "source": [
    "df.describe()"
   ]
  },
  {
   "cell_type": "markdown",
   "metadata": {},
   "source": [
    "Tenemos las siguientes columnas\n",
    "\n",
    "1. **BOROUGH**: el municipio en el que ocurrió el accidente\n",
    "2. **COLLISION_ID**: un identificador único para esta colisión\n",
    "3. **CONTRIBUTING FACTOR VEHICLE (1, 2, 3, 4, 5)**: Motivos del accidente\n",
    "4. **CROSS STREET NAME**: Calle transversal más cercana al lugar del accidente\n",
    "5. **DATE**: Fecha del accidente\n",
    "6. **TIME**: Hora del accidente\n",
    "7. **LATITUDE**: Latitud del accidente\n",
    "8. **LONGITUDE**: Longitud del accidente\n",
    "9. **NUMBER OF (CYCLISTS, MOTORISTS, PEDESTRIANS) INJURED**: Lesión por categoría\n",
    "10. **NUMBER OF (CYCLISTS, MOTORISTS, PEDESTRIANS) DEATHS**: Categoría muerte sabia\n",
    "11. **ON STREET NAME**: Calle donde ocurrió el accidente\n",
    "13. **VEHICLE TYPE CODE(1, 2, 3, 4, 5)**: Tipos de vehículos involucrados en el accidente\n",
    "14. **ZIP CODE**: código postal del lugar del accidente"
   ]
  },
  {
   "cell_type": "markdown",
   "metadata": {},
   "source": [
    "### Exercise 1 (30 min):\n",
    "\n",
    "Desde 2014, la ciudad de Nueva York ha estado implementando un plan de seguridad vial llamado [Vision Zero](https://www1.nyc.gov/content/visionzero/pages/). Su objetivo es reducir el número de muertes por accidentes de tránsito a *cero* para fines de 2024. El plan está creando nuevas y mejorando las medidas de seguridad actuales, algunas de ellas incluyen:\n",
    "\n",
    "- [ ] Detección de peatones automatizada\n",
    "- [ ] Auditorías de seguridad vial en lugares de alto riesgo\n",
    "- [ ] Ampliación de la red de carriles bici\n",
    "- [ ] Iniciativas específicas de educación y sensibilización\n",
    "- [ ] Creación de islas de refugio peatonal\n",
    "- [ ] Lanzamiento del programa integrado de reductor de velocidad basado en datos (topes y amortiguadores de velocidad)\n",
    "\n",
    "¿Cuáles de estas iniciativas podrían beneficiarse directamente de un análisis de los datos proporcionados? Marque todo lo que corresponda.\n",
    "\n",
    "**Nota:** Puede crear marcas de verificación haciendo doble clic en esta celda y agregando una ```[x]``` en las líneas correspondientes."
   ]
  },
  {
   "cell_type": "markdown",
   "metadata": {},
   "source": [
    "**Answer.**\n",
    "\n",
    "- [ ] Detecciòn de peatones automatizada\n",
    "- [X] Auditorías de seguridadvial en lugares de alto riesgo\n",
    "- [X] Ampliación de la red de carriles bici\n",
    "- [ ] Iniciativas especificas de educación y sensibilización\n",
    "- [ ] Creación de islas de refugio peatonal\n",
    "- [ ] Lanzamiento del programa integrado de reductor de velocidad en datos (topes y amortiguadores de velocidad)\n"
   ]
  },
  {
   "cell_type": "markdown",
   "metadata": {},
   "source": [
    "Sigamos adelante y respondamos a cada una de las preguntas del cliente."
   ]
  },
  {
   "cell_type": "markdown",
   "metadata": {},
   "source": [
    "## Respondiendo las preguntas del cliente "
   ]
  },
  {
   "cell_type": "markdown",
   "metadata": {},
   "source": [
    "### Exercise 2 (30 min):\n",
    "\n",
    "Agrupe los datos disponibles mensualmente y genere un line plot de accidentes a lo largo del tiempo. ¿Ha aumentado el número de accidentes durante el último año y medio?\n",
    "\n",
    "**Sugerencia**: Puede encontrar útiles las funciones de pandas ```to_datetime ()``` y ```dt.to_period ()```."
   ]
  },
  {
   "cell_type": "markdown",
   "metadata": {},
   "source": [
    "**Answer.** "
   ]
  },
  {
   "cell_type": "code",
   "execution_count": 12,
   "metadata": {},
   "outputs": [
    {
     "data": {
      "text/plain": [
       "0        2018-09-26\n",
       "1        2018-09-25\n",
       "2        2019-08-22\n",
       "3        2018-09-23\n",
       "4        2019-08-20\n",
       "            ...    \n",
       "238517   2018-01-20\n",
       "238518   2018-01-04\n",
       "238519   2018-01-20\n",
       "238520   2018-01-29\n",
       "238521   2018-01-23\n",
       "Name: DATE, Length: 238522, dtype: datetime64[ns]"
      ]
     },
     "execution_count": 12,
     "metadata": {},
     "output_type": "execute_result"
    }
   ],
   "source": [
    "df['DATE'] = pd.to_datetime(df.DATE)\n",
    "df['DATE']"
   ]
  },
  {
   "cell_type": "code",
   "execution_count": 13,
   "metadata": {},
   "outputs": [
    {
     "name": "stdout",
     "output_type": "stream",
     "text": [
      "<class 'pandas.core.frame.DataFrame'>\n",
      "RangeIndex: 238522 entries, 0 to 238521\n",
      "Data columns (total 24 columns):\n",
      " #   Column                         Non-Null Count   Dtype         \n",
      "---  ------                         --------------   -----         \n",
      " 0   DATE                           238522 non-null  datetime64[ns]\n",
      " 1   TIME                           238522 non-null  object        \n",
      " 2   BOROUGH                        238522 non-null  object        \n",
      " 3   ZIP CODE                       238452 non-null  float64       \n",
      " 4   LATITUDE                       231544 non-null  float64       \n",
      " 5   LONGITUDE                      231544 non-null  float64       \n",
      " 6   ON STREET NAME                 153918 non-null  object        \n",
      " 7   NUMBER OF PEDESTRIANS INJURED  238522 non-null  int64         \n",
      " 8   NUMBER OF PEDESTRIANS KILLED   238522 non-null  int64         \n",
      " 9   NUMBER OF CYCLIST INJURED      238522 non-null  int64         \n",
      " 10  NUMBER OF CYCLIST KILLED       238522 non-null  int64         \n",
      " 11  NUMBER OF MOTORIST INJURED     238522 non-null  int64         \n",
      " 12  NUMBER OF MOTORIST KILLED      238522 non-null  int64         \n",
      " 13  CONTRIBUTING FACTOR VEHICLE 1  237638 non-null  object        \n",
      " 14  CONTRIBUTING FACTOR VEHICLE 2  198514 non-null  object        \n",
      " 15  CONTRIBUTING FACTOR VEHICLE 3  13072 non-null   object        \n",
      " 16  CONTRIBUTING FACTOR VEHICLE 4  2856 non-null    object        \n",
      " 17  CONTRIBUTING FACTOR VEHICLE 5  792 non-null     object        \n",
      " 18  COLLISION_ID                   238522 non-null  int64         \n",
      " 19  VEHICLE TYPE CODE 1            236801 non-null  object        \n",
      " 20  VEHICLE TYPE CODE 2            182932 non-null  object        \n",
      " 21  VEHICLE TYPE CODE 3            12301 non-null   object        \n",
      " 22  VEHICLE TYPE CODE 4            2716 non-null    object        \n",
      " 23  VEHICLE TYPE CODE 5            753 non-null     object        \n",
      "dtypes: datetime64[ns](1), float64(3), int64(7), object(13)\n",
      "memory usage: 43.7+ MB\n"
     ]
    }
   ],
   "source": [
    "df.info()#Ahora DATE es tipo datos de tiempo"
   ]
  },
  {
   "cell_type": "code",
   "execution_count": 14,
   "metadata": {},
   "outputs": [
    {
     "data": {
      "text/plain": [
       "DATE\n",
       "2018-01    11735\n",
       "2018-02    10395\n",
       "2018-03    12519\n",
       "2018-04    11679\n",
       "2018-05    13438\n",
       "2018-06    13314\n",
       "2018-07    12787\n",
       "2018-08    12644\n",
       "2018-09    12425\n",
       "2018-10    13336\n",
       "2018-11    12447\n",
       "2018-12    12479\n",
       "2019-01    11000\n",
       "2019-02    10310\n",
       "2019-03    11482\n",
       "2019-04    10833\n",
       "2019-05    12642\n",
       "2019-06    12577\n",
       "2019-07    12014\n",
       "2019-08     8466\n",
       "Freq: M, dtype: int64"
      ]
     },
     "execution_count": 14,
     "metadata": {},
     "output_type": "execute_result"
    }
   ],
   "source": [
    "accidentes_mensuales=df.groupby(df[\"DATE\"].dt.to_period(\"M\")).size()\n",
    "accidentes_mensuales"
   ]
  },
  {
   "cell_type": "code",
   "execution_count": 15,
   "metadata": {},
   "outputs": [
    {
     "data": {
      "text/html": [
       "<div>\n",
       "<style scoped>\n",
       "    .dataframe tbody tr th:only-of-type {\n",
       "        vertical-align: middle;\n",
       "    }\n",
       "\n",
       "    .dataframe tbody tr th {\n",
       "        vertical-align: top;\n",
       "    }\n",
       "\n",
       "    .dataframe thead th {\n",
       "        text-align: right;\n",
       "    }\n",
       "</style>\n",
       "<table border=\"1\" class=\"dataframe\">\n",
       "  <thead>\n",
       "    <tr style=\"text-align: right;\">\n",
       "      <th></th>\n",
       "      <th>DATE</th>\n",
       "      <th>TIME</th>\n",
       "      <th>BOROUGH</th>\n",
       "      <th>ZIP CODE</th>\n",
       "      <th>LATITUDE</th>\n",
       "      <th>LONGITUDE</th>\n",
       "      <th>ON STREET NAME</th>\n",
       "      <th>NUMBER OF PEDESTRIANS INJURED</th>\n",
       "      <th>NUMBER OF PEDESTRIANS KILLED</th>\n",
       "      <th>NUMBER OF CYCLIST INJURED</th>\n",
       "      <th>...</th>\n",
       "      <th>CONTRIBUTING FACTOR VEHICLE 2</th>\n",
       "      <th>CONTRIBUTING FACTOR VEHICLE 3</th>\n",
       "      <th>CONTRIBUTING FACTOR VEHICLE 4</th>\n",
       "      <th>CONTRIBUTING FACTOR VEHICLE 5</th>\n",
       "      <th>COLLISION_ID</th>\n",
       "      <th>VEHICLE TYPE CODE 1</th>\n",
       "      <th>VEHICLE TYPE CODE 2</th>\n",
       "      <th>VEHICLE TYPE CODE 3</th>\n",
       "      <th>VEHICLE TYPE CODE 4</th>\n",
       "      <th>VEHICLE TYPE CODE 5</th>\n",
       "    </tr>\n",
       "    <tr>\n",
       "      <th>DATE</th>\n",
       "      <th></th>\n",
       "      <th></th>\n",
       "      <th></th>\n",
       "      <th></th>\n",
       "      <th></th>\n",
       "      <th></th>\n",
       "      <th></th>\n",
       "      <th></th>\n",
       "      <th></th>\n",
       "      <th></th>\n",
       "      <th></th>\n",
       "      <th></th>\n",
       "      <th></th>\n",
       "      <th></th>\n",
       "      <th></th>\n",
       "      <th></th>\n",
       "      <th></th>\n",
       "      <th></th>\n",
       "      <th></th>\n",
       "      <th></th>\n",
       "      <th></th>\n",
       "    </tr>\n",
       "  </thead>\n",
       "  <tbody>\n",
       "    <tr>\n",
       "      <th>2018-01</th>\n",
       "      <td>11735</td>\n",
       "      <td>11735</td>\n",
       "      <td>11735</td>\n",
       "      <td>11732</td>\n",
       "      <td>11438</td>\n",
       "      <td>11438</td>\n",
       "      <td>7754</td>\n",
       "      <td>11735</td>\n",
       "      <td>11735</td>\n",
       "      <td>11735</td>\n",
       "      <td>...</td>\n",
       "      <td>9575</td>\n",
       "      <td>612</td>\n",
       "      <td>115</td>\n",
       "      <td>35</td>\n",
       "      <td>11735</td>\n",
       "      <td>11633</td>\n",
       "      <td>8520</td>\n",
       "      <td>553</td>\n",
       "      <td>107</td>\n",
       "      <td>35</td>\n",
       "    </tr>\n",
       "    <tr>\n",
       "      <th>2018-02</th>\n",
       "      <td>10395</td>\n",
       "      <td>10395</td>\n",
       "      <td>10395</td>\n",
       "      <td>10393</td>\n",
       "      <td>10109</td>\n",
       "      <td>10109</td>\n",
       "      <td>6865</td>\n",
       "      <td>10395</td>\n",
       "      <td>10395</td>\n",
       "      <td>10395</td>\n",
       "      <td>...</td>\n",
       "      <td>8556</td>\n",
       "      <td>561</td>\n",
       "      <td>133</td>\n",
       "      <td>45</td>\n",
       "      <td>10395</td>\n",
       "      <td>10286</td>\n",
       "      <td>7657</td>\n",
       "      <td>518</td>\n",
       "      <td>123</td>\n",
       "      <td>44</td>\n",
       "    </tr>\n",
       "    <tr>\n",
       "      <th>2018-03</th>\n",
       "      <td>12519</td>\n",
       "      <td>12519</td>\n",
       "      <td>12519</td>\n",
       "      <td>12515</td>\n",
       "      <td>12165</td>\n",
       "      <td>12165</td>\n",
       "      <td>8080</td>\n",
       "      <td>12519</td>\n",
       "      <td>12519</td>\n",
       "      <td>12519</td>\n",
       "      <td>...</td>\n",
       "      <td>10345</td>\n",
       "      <td>632</td>\n",
       "      <td>131</td>\n",
       "      <td>30</td>\n",
       "      <td>12519</td>\n",
       "      <td>12430</td>\n",
       "      <td>9302</td>\n",
       "      <td>582</td>\n",
       "      <td>128</td>\n",
       "      <td>28</td>\n",
       "    </tr>\n",
       "    <tr>\n",
       "      <th>2018-04</th>\n",
       "      <td>11679</td>\n",
       "      <td>11679</td>\n",
       "      <td>11679</td>\n",
       "      <td>11677</td>\n",
       "      <td>11300</td>\n",
       "      <td>11300</td>\n",
       "      <td>7555</td>\n",
       "      <td>11679</td>\n",
       "      <td>11679</td>\n",
       "      <td>11679</td>\n",
       "      <td>...</td>\n",
       "      <td>9797</td>\n",
       "      <td>610</td>\n",
       "      <td>146</td>\n",
       "      <td>45</td>\n",
       "      <td>11679</td>\n",
       "      <td>11608</td>\n",
       "      <td>8777</td>\n",
       "      <td>560</td>\n",
       "      <td>136</td>\n",
       "      <td>42</td>\n",
       "    </tr>\n",
       "    <tr>\n",
       "      <th>2018-05</th>\n",
       "      <td>13438</td>\n",
       "      <td>13438</td>\n",
       "      <td>13438</td>\n",
       "      <td>13433</td>\n",
       "      <td>12974</td>\n",
       "      <td>12974</td>\n",
       "      <td>8705</td>\n",
       "      <td>13438</td>\n",
       "      <td>13438</td>\n",
       "      <td>13438</td>\n",
       "      <td>...</td>\n",
       "      <td>11385</td>\n",
       "      <td>729</td>\n",
       "      <td>155</td>\n",
       "      <td>39</td>\n",
       "      <td>13438</td>\n",
       "      <td>13360</td>\n",
       "      <td>10515</td>\n",
       "      <td>696</td>\n",
       "      <td>147</td>\n",
       "      <td>34</td>\n",
       "    </tr>\n",
       "  </tbody>\n",
       "</table>\n",
       "<p>5 rows × 24 columns</p>\n",
       "</div>"
      ],
      "text/plain": [
       "          DATE   TIME  BOROUGH  ZIP CODE  LATITUDE  LONGITUDE  ON STREET NAME  \\\n",
       "DATE                                                                            \n",
       "2018-01  11735  11735    11735     11732     11438      11438            7754   \n",
       "2018-02  10395  10395    10395     10393     10109      10109            6865   \n",
       "2018-03  12519  12519    12519     12515     12165      12165            8080   \n",
       "2018-04  11679  11679    11679     11677     11300      11300            7555   \n",
       "2018-05  13438  13438    13438     13433     12974      12974            8705   \n",
       "\n",
       "         NUMBER OF PEDESTRIANS INJURED  NUMBER OF PEDESTRIANS KILLED  \\\n",
       "DATE                                                                   \n",
       "2018-01                          11735                         11735   \n",
       "2018-02                          10395                         10395   \n",
       "2018-03                          12519                         12519   \n",
       "2018-04                          11679                         11679   \n",
       "2018-05                          13438                         13438   \n",
       "\n",
       "         NUMBER OF CYCLIST INJURED  ...  CONTRIBUTING FACTOR VEHICLE 2  \\\n",
       "DATE                                ...                                  \n",
       "2018-01                      11735  ...                           9575   \n",
       "2018-02                      10395  ...                           8556   \n",
       "2018-03                      12519  ...                          10345   \n",
       "2018-04                      11679  ...                           9797   \n",
       "2018-05                      13438  ...                          11385   \n",
       "\n",
       "         CONTRIBUTING FACTOR VEHICLE 3  CONTRIBUTING FACTOR VEHICLE 4  \\\n",
       "DATE                                                                    \n",
       "2018-01                            612                            115   \n",
       "2018-02                            561                            133   \n",
       "2018-03                            632                            131   \n",
       "2018-04                            610                            146   \n",
       "2018-05                            729                            155   \n",
       "\n",
       "         CONTRIBUTING FACTOR VEHICLE 5  COLLISION_ID  VEHICLE TYPE CODE 1  \\\n",
       "DATE                                                                        \n",
       "2018-01                             35         11735                11633   \n",
       "2018-02                             45         10395                10286   \n",
       "2018-03                             30         12519                12430   \n",
       "2018-04                             45         11679                11608   \n",
       "2018-05                             39         13438                13360   \n",
       "\n",
       "         VEHICLE TYPE CODE 2  VEHICLE TYPE CODE 3  VEHICLE TYPE CODE 4  \\\n",
       "DATE                                                                     \n",
       "2018-01                 8520                  553                  107   \n",
       "2018-02                 7657                  518                  123   \n",
       "2018-03                 9302                  582                  128   \n",
       "2018-04                 8777                  560                  136   \n",
       "2018-05                10515                  696                  147   \n",
       "\n",
       "         VEHICLE TYPE CODE 5  \n",
       "DATE                          \n",
       "2018-01                   35  \n",
       "2018-02                   44  \n",
       "2018-03                   28  \n",
       "2018-04                   42  \n",
       "2018-05                   34  \n",
       "\n",
       "[5 rows x 24 columns]"
      ]
     },
     "execution_count": 15,
     "metadata": {},
     "output_type": "execute_result"
    }
   ],
   "source": [
    "accidentes_mensuales2=df.groupby(df[\"DATE\"].dt.to_period(\"M\")).count()\n",
    "accidentes_mensuales2.head()"
   ]
  },
  {
   "cell_type": "code",
   "execution_count": 16,
   "metadata": {},
   "outputs": [
    {
     "data": {
      "text/plain": [
       "DATE\n",
       "2018-01    11735\n",
       "2018-02    10395\n",
       "2018-03    12519\n",
       "2018-04    11679\n",
       "2018-05    13438\n",
       "Freq: M, dtype: int64"
      ]
     },
     "execution_count": 16,
     "metadata": {},
     "output_type": "execute_result"
    }
   ],
   "source": [
    "accidentes_mensuales.head()"
   ]
  },
  {
   "cell_type": "code",
   "execution_count": 17,
   "metadata": {},
   "outputs": [
    {
     "data": {
      "text/plain": [
       "<AxesSubplot:xlabel='DATE'>"
      ]
     },
     "execution_count": 17,
     "metadata": {},
     "output_type": "execute_result"
    },
    {
     "data": {
      "image/png": "[encoded data removed]",
      "text/plain": [
       "<Figure size 432x288 with 1 Axes>"
      ]
     },
     "metadata": {
      "needs_background": "light"
     },
     "output_type": "display_data"
    }
   ],
   "source": [
    "accidentes_mensuales.plot.line()"
   ]
  },
  {
   "cell_type": "code",
   "execution_count": 18,
   "metadata": {},
   "outputs": [
    {
     "data": {
      "text/plain": [
       "<AxesSubplot:xlabel='DATE'>"
      ]
     },
     "execution_count": 18,
     "metadata": {},
     "output_type": "execute_result"
    },
    {
     "data": {
      "image/png": "[encoded data removed]",
      "text/plain": [
       "<Figure size 432x288 with 1 Axes>"
      ]
     },
     "metadata": {
      "needs_background": "light"
     },
     "output_type": "display_data"
    }
   ],
   "source": [
    "accidentes_mensuales.plot.bar()"
   ]
  },
  {
   "cell_type": "code",
   "execution_count": 19,
   "metadata": {},
   "outputs": [
    {
     "data": {
      "text/plain": [
       "<AxesSubplot:xlabel='DATE'>"
      ]
     },
     "execution_count": 19,
     "metadata": {},
     "output_type": "execute_result"
    },
    {
     "data": {
      "image/png": "[encoded data removed]",
      "text/plain": [
       "<Figure size 432x288 with 1 Axes>"
      ]
     },
     "metadata": {
      "needs_background": "light"
     },
     "output_type": "display_data"
    }
   ],
   "source": [
    "accidentes_mensuales.plot.bar(color=\"violet\")#Cambiar código de color"
   ]
  },
  {
   "cell_type": "code",
   "execution_count": 20,
   "metadata": {},
   "outputs": [
    {
     "data": {
      "text/plain": [
       "DATE\n",
       "2018-01-01    301\n",
       "2018-01-02    422\n",
       "2018-01-03    419\n",
       "2018-01-04    292\n",
       "2018-01-05    483\n",
       "             ... \n",
       "2019-08-20    360\n",
       "2019-08-21    333\n",
       "2019-08-22    333\n",
       "2019-08-23    311\n",
       "2019-08-24    281\n",
       "Freq: D, Length: 601, dtype: int64"
      ]
     },
     "execution_count": 20,
     "metadata": {},
     "output_type": "execute_result"
    }
   ],
   "source": [
    "accidentes_mensuales2=df.groupby(df[\"DATE\"].dt.to_period(\"d\")).size()\n",
    "accidentes_mensuales2"
   ]
  },
  {
   "cell_type": "code",
   "execution_count": 21,
   "metadata": {},
   "outputs": [
    {
     "data": {
      "text/plain": [
       "<AxesSubplot:xlabel='DATE'>"
      ]
     },
     "execution_count": 21,
     "metadata": {},
     "output_type": "execute_result"
    },
    {
     "data": {
      "image/png": "[encoded data removed]",
      "text/plain": [
       "<Figure size 432x288 with 1 Axes>"
      ]
     },
     "metadata": {
      "needs_background": "light"
     },
     "output_type": "display_data"
    }
   ],
   "source": [
    "accidentes_mensuales2.plot.line()"
   ]
  },
  {
   "cell_type": "markdown",
   "metadata": {},
   "source": []
  },
  {
   "cell_type": "markdown",
   "metadata": {},
   "source": [
    "### Exercise 3 (15 min):\n",
    "\n",
    "De la gráfica anterior, ¿qué meses parecen tener el menor número de accidentes? ¿Cuáles crees que son las razones detrás de esto?"
   ]
  },
  {
   "cell_type": "markdown",
   "metadata": {},
   "source": [
    "**Answer.** \n"
   ]
  },
  {
   "cell_type": "code",
   "execution_count": 22,
   "metadata": {},
   "outputs": [
    {
     "data": {
      "text/plain": [
       "11926.1"
      ]
     },
     "execution_count": 22,
     "metadata": {},
     "output_type": "execute_result"
    }
   ],
   "source": [
    "accidentes_mensuales.mean()"
   ]
  },
  {
   "cell_type": "code",
   "execution_count": 23,
   "metadata": {},
   "outputs": [
    {
     "data": {
      "text/plain": [
       "PeriodIndex(['2018-01', '2018-02', '2018-03', '2018-04', '2018-05', '2018-06',\n",
       "             '2018-07', '2018-08', '2018-09', '2018-10', '2018-11', '2018-12',\n",
       "             '2019-01', '2019-02', '2019-03', '2019-04', '2019-05', '2019-06',\n",
       "             '2019-07', '2019-08'],\n",
       "            dtype='period[M]', name='DATE', freq='M')"
      ]
     },
     "execution_count": 23,
     "metadata": {},
     "output_type": "execute_result"
    }
   ],
   "source": [
    "accidentes_mensuales.index"
   ]
  },
  {
   "cell_type": "code",
   "execution_count": 24,
   "metadata": {},
   "outputs": [
    {
     "data": {
      "text/plain": [
       "DATE\n",
       "2018-01    11735\n",
       "2018-02    10395\n",
       "2018-03    12519\n",
       "2018-04    11679\n",
       "2018-05    13438\n",
       "2018-06    13314\n",
       "2018-07    12787\n",
       "2018-08    12644\n",
       "2018-09    12425\n",
       "2018-10    13336\n",
       "2018-11    12447\n",
       "2018-12    12479\n",
       "2019-01    11000\n",
       "2019-02    10310\n",
       "2019-03    11482\n",
       "2019-04    10833\n",
       "2019-05    12642\n",
       "2019-06    12577\n",
       "2019-07    12014\n",
       "2019-08     8466\n",
       "Freq: M, dtype: int64"
      ]
     },
     "execution_count": 24,
     "metadata": {},
     "output_type": "execute_result"
    }
   ],
   "source": [
    "accidentes_mensuales"
   ]
  },
  {
   "cell_type": "code",
   "execution_count": 25,
   "metadata": {},
   "outputs": [
    {
     "data": {
      "text/plain": [
       "11735"
      ]
     },
     "execution_count": 25,
     "metadata": {},
     "output_type": "execute_result"
    }
   ],
   "source": [
    "accidentes_mensuales[0]"
   ]
  },
  {
   "cell_type": "code",
   "execution_count": 26,
   "metadata": {},
   "outputs": [
    {
     "name": "stdout",
     "output_type": "stream",
     "text": [
      "PeriodIndex(['2018-01', '2018-02', '2018-03', '2018-04', '2018-05', '2018-06',\n",
      "             '2018-07', '2018-08', '2018-09', '2018-10', '2018-11', '2018-12',\n",
      "             '2019-01', '2019-02', '2019-03', '2019-04', '2019-05', '2019-06',\n",
      "             '2019-07', '2019-08'],\n",
      "            dtype='period[M]', name='DATE', freq='M')\n"
     ]
    }
   ],
   "source": [
    "print(accidentes_mensuales.index)"
   ]
  },
  {
   "cell_type": "code",
   "execution_count": 27,
   "metadata": {},
   "outputs": [
    {
     "data": {
      "text/plain": [
       "DATE\n",
       "2018-01    11735\n",
       "2018-02    10395\n",
       "2018-04    11679\n",
       "2019-01    11000\n",
       "2019-02    10310\n",
       "2019-03    11482\n",
       "2019-04    10833\n",
       "2019-08     8466\n",
       "Freq: M, dtype: int64"
      ]
     },
     "execution_count": 27,
     "metadata": {},
     "output_type": "execute_result"
    }
   ],
   "source": [
    "#Meses con menores números de accidentes\n",
    "accidentes_mensuales[accidentes_mensuales<accidentes_mensuales.mean()]"
   ]
  },
  {
   "cell_type": "markdown",
   "metadata": {},
   "source": [
    "Los meses con menores accidentes fueron Enero, febrero, abril del 2018\n",
    "Enero, febrero marzo abril y agosto del 2019"
   ]
  },
  {
   "cell_type": "markdown",
   "metadata": {},
   "source": [
    "### Exercise 4 (30 min):\n",
    "¿Cómo varía el número de accidentes a lo largo de un solo día? Cree una nueva columna `HOUR` basada en los datos de la columna `TIME`, luego trace un gráfico de barras de la distribución por hora a lo largo del día.\n",
    "\n",
    "**Sugerencia:** Puede encontrar útil la función ```dt.hour```."
   ]
  },
  {
   "cell_type": "markdown",
   "metadata": {},
   "source": [
    "**Answer.**"
   ]
  },
  {
   "cell_type": "code",
   "execution_count": 28,
   "metadata": {},
   "outputs": [
    {
     "data": {
      "text/html": [
       "<div>\n",
       "<style scoped>\n",
       "    .dataframe tbody tr th:only-of-type {\n",
       "        vertical-align: middle;\n",
       "    }\n",
       "\n",
       "    .dataframe tbody tr th {\n",
       "        vertical-align: top;\n",
       "    }\n",
       "\n",
       "    .dataframe thead th {\n",
       "        text-align: right;\n",
       "    }\n",
       "</style>\n",
       "<table border=\"1\" class=\"dataframe\">\n",
       "  <thead>\n",
       "    <tr style=\"text-align: right;\">\n",
       "      <th></th>\n",
       "      <th>DATE</th>\n",
       "      <th>TIME</th>\n",
       "      <th>BOROUGH</th>\n",
       "      <th>ZIP CODE</th>\n",
       "      <th>LATITUDE</th>\n",
       "      <th>LONGITUDE</th>\n",
       "      <th>ON STREET NAME</th>\n",
       "      <th>NUMBER OF PEDESTRIANS INJURED</th>\n",
       "      <th>NUMBER OF PEDESTRIANS KILLED</th>\n",
       "      <th>NUMBER OF CYCLIST INJURED</th>\n",
       "      <th>...</th>\n",
       "      <th>CONTRIBUTING FACTOR VEHICLE 2</th>\n",
       "      <th>CONTRIBUTING FACTOR VEHICLE 3</th>\n",
       "      <th>CONTRIBUTING FACTOR VEHICLE 4</th>\n",
       "      <th>CONTRIBUTING FACTOR VEHICLE 5</th>\n",
       "      <th>COLLISION_ID</th>\n",
       "      <th>VEHICLE TYPE CODE 1</th>\n",
       "      <th>VEHICLE TYPE CODE 2</th>\n",
       "      <th>VEHICLE TYPE CODE 3</th>\n",
       "      <th>VEHICLE TYPE CODE 4</th>\n",
       "      <th>VEHICLE TYPE CODE 5</th>\n",
       "    </tr>\n",
       "  </thead>\n",
       "  <tbody>\n",
       "    <tr>\n",
       "      <th>0</th>\n",
       "      <td>2018-09-26</td>\n",
       "      <td>2021-08-11 12:12:00</td>\n",
       "      <td>BRONX</td>\n",
       "      <td>10454.0</td>\n",
       "      <td>40.808987</td>\n",
       "      <td>-73.911316</td>\n",
       "      <td>NaN</td>\n",
       "      <td>0</td>\n",
       "      <td>0</td>\n",
       "      <td>0</td>\n",
       "      <td>...</td>\n",
       "      <td>NaN</td>\n",
       "      <td>NaN</td>\n",
       "      <td>NaN</td>\n",
       "      <td>NaN</td>\n",
       "      <td>3988123</td>\n",
       "      <td>Sedan</td>\n",
       "      <td>NaN</td>\n",
       "      <td>NaN</td>\n",
       "      <td>NaN</td>\n",
       "      <td>NaN</td>\n",
       "    </tr>\n",
       "    <tr>\n",
       "      <th>1</th>\n",
       "      <td>2018-09-25</td>\n",
       "      <td>2021-08-11 16:30:00</td>\n",
       "      <td>BROOKLYN</td>\n",
       "      <td>11236.0</td>\n",
       "      <td>40.636005</td>\n",
       "      <td>-73.912510</td>\n",
       "      <td>FLATLANDS AVENUE</td>\n",
       "      <td>1</td>\n",
       "      <td>0</td>\n",
       "      <td>0</td>\n",
       "      <td>...</td>\n",
       "      <td>NaN</td>\n",
       "      <td>NaN</td>\n",
       "      <td>NaN</td>\n",
       "      <td>NaN</td>\n",
       "      <td>3987962</td>\n",
       "      <td>Sedan</td>\n",
       "      <td>NaN</td>\n",
       "      <td>NaN</td>\n",
       "      <td>NaN</td>\n",
       "      <td>NaN</td>\n",
       "    </tr>\n",
       "    <tr>\n",
       "      <th>2</th>\n",
       "      <td>2019-08-22</td>\n",
       "      <td>2021-08-11 19:30:00</td>\n",
       "      <td>QUEENS</td>\n",
       "      <td>11101.0</td>\n",
       "      <td>40.755490</td>\n",
       "      <td>-73.939530</td>\n",
       "      <td>NaN</td>\n",
       "      <td>0</td>\n",
       "      <td>0</td>\n",
       "      <td>0</td>\n",
       "      <td>...</td>\n",
       "      <td>NaN</td>\n",
       "      <td>NaN</td>\n",
       "      <td>NaN</td>\n",
       "      <td>NaN</td>\n",
       "      <td>4193132</td>\n",
       "      <td>Sedan</td>\n",
       "      <td>NaN</td>\n",
       "      <td>NaN</td>\n",
       "      <td>NaN</td>\n",
       "      <td>NaN</td>\n",
       "    </tr>\n",
       "    <tr>\n",
       "      <th>3</th>\n",
       "      <td>2018-09-23</td>\n",
       "      <td>2021-08-11 13:10:00</td>\n",
       "      <td>QUEENS</td>\n",
       "      <td>11367.0</td>\n",
       "      <td>NaN</td>\n",
       "      <td>NaN</td>\n",
       "      <td>MAIN STREET</td>\n",
       "      <td>0</td>\n",
       "      <td>0</td>\n",
       "      <td>1</td>\n",
       "      <td>...</td>\n",
       "      <td>Unspecified</td>\n",
       "      <td>NaN</td>\n",
       "      <td>NaN</td>\n",
       "      <td>NaN</td>\n",
       "      <td>3985962</td>\n",
       "      <td>Bike</td>\n",
       "      <td>Station Wagon/Sport Utility Vehicle</td>\n",
       "      <td>NaN</td>\n",
       "      <td>NaN</td>\n",
       "      <td>NaN</td>\n",
       "    </tr>\n",
       "    <tr>\n",
       "      <th>4</th>\n",
       "      <td>2019-08-20</td>\n",
       "      <td>2021-08-11 22:40:00</td>\n",
       "      <td>BRONX</td>\n",
       "      <td>10468.0</td>\n",
       "      <td>40.868336</td>\n",
       "      <td>-73.901270</td>\n",
       "      <td>NaN</td>\n",
       "      <td>0</td>\n",
       "      <td>0</td>\n",
       "      <td>0</td>\n",
       "      <td>...</td>\n",
       "      <td>Unspecified</td>\n",
       "      <td>NaN</td>\n",
       "      <td>NaN</td>\n",
       "      <td>NaN</td>\n",
       "      <td>4192111</td>\n",
       "      <td>Sedan</td>\n",
       "      <td>Sedan</td>\n",
       "      <td>NaN</td>\n",
       "      <td>NaN</td>\n",
       "      <td>NaN</td>\n",
       "    </tr>\n",
       "  </tbody>\n",
       "</table>\n",
       "<p>5 rows × 24 columns</p>\n",
       "</div>"
      ],
      "text/plain": [
       "        DATE                TIME   BOROUGH  ZIP CODE   LATITUDE  LONGITUDE  \\\n",
       "0 2018-09-26 2021-08-11 12:12:00     BRONX   10454.0  40.808987 -73.911316   \n",
       "1 2018-09-25 2021-08-11 16:30:00  BROOKLYN   11236.0  40.636005 -73.912510   \n",
       "2 2019-08-22 2021-08-11 19:30:00    QUEENS   11101.0  40.755490 -73.939530   \n",
       "3 2018-09-23 2021-08-11 13:10:00    QUEENS   11367.0        NaN        NaN   \n",
       "4 2019-08-20 2021-08-11 22:40:00     BRONX   10468.0  40.868336 -73.901270   \n",
       "\n",
       "                     ON STREET NAME  NUMBER OF PEDESTRIANS INJURED  \\\n",
       "0                               NaN                              0   \n",
       "1  FLATLANDS AVENUE                                              1   \n",
       "2                               NaN                              0   \n",
       "3  MAIN STREET                                                   0   \n",
       "4                               NaN                              0   \n",
       "\n",
       "   NUMBER OF PEDESTRIANS KILLED  NUMBER OF CYCLIST INJURED  ...  \\\n",
       "0                             0                          0  ...   \n",
       "1                             0                          0  ...   \n",
       "2                             0                          0  ...   \n",
       "3                             0                          1  ...   \n",
       "4                             0                          0  ...   \n",
       "\n",
       "   CONTRIBUTING FACTOR VEHICLE 2  CONTRIBUTING FACTOR VEHICLE 3  \\\n",
       "0                            NaN                            NaN   \n",
       "1                            NaN                            NaN   \n",
       "2                            NaN                            NaN   \n",
       "3                    Unspecified                            NaN   \n",
       "4                    Unspecified                            NaN   \n",
       "\n",
       "   CONTRIBUTING FACTOR VEHICLE 4 CONTRIBUTING FACTOR VEHICLE 5 COLLISION_ID  \\\n",
       "0                            NaN                           NaN      3988123   \n",
       "1                            NaN                           NaN      3987962   \n",
       "2                            NaN                           NaN      4193132   \n",
       "3                            NaN                           NaN      3985962   \n",
       "4                            NaN                           NaN      4192111   \n",
       "\n",
       "  VEHICLE TYPE CODE 1                  VEHICLE TYPE CODE 2  \\\n",
       "0               Sedan                                  NaN   \n",
       "1               Sedan                                  NaN   \n",
       "2               Sedan                                  NaN   \n",
       "3                Bike  Station Wagon/Sport Utility Vehicle   \n",
       "4               Sedan                                Sedan   \n",
       "\n",
       "  VEHICLE TYPE CODE 3  VEHICLE TYPE CODE 4 VEHICLE TYPE CODE 5  \n",
       "0                 NaN                  NaN                 NaN  \n",
       "1                 NaN                  NaN                 NaN  \n",
       "2                 NaN                  NaN                 NaN  \n",
       "3                 NaN                  NaN                 NaN  \n",
       "4                 NaN                  NaN                 NaN  \n",
       "\n",
       "[5 rows x 24 columns]"
      ]
     },
     "execution_count": 28,
     "metadata": {},
     "output_type": "execute_result"
    }
   ],
   "source": [
    "df['TIME'] = pd.to_datetime(df['TIME'])\n",
    "df.head()"
   ]
  },
  {
   "cell_type": "code",
   "execution_count": 29,
   "metadata": {},
   "outputs": [
    {
     "data": {
      "text/plain": [
       "0        2021-08-11 12:12:00\n",
       "1        2021-08-11 16:30:00\n",
       "2        2021-08-11 19:30:00\n",
       "3        2021-08-11 13:10:00\n",
       "4        2021-08-11 22:40:00\n",
       "                 ...        \n",
       "238517   2021-08-11 15:00:00\n",
       "238518   2021-08-11 14:00:00\n",
       "238519   2021-08-11 13:05:00\n",
       "238520   2021-08-11 17:45:00\n",
       "238521   2021-08-11 16:38:00\n",
       "Name: TIME, Length: 238522, dtype: datetime64[ns]"
      ]
     },
     "execution_count": 29,
     "metadata": {},
     "output_type": "execute_result"
    }
   ],
   "source": [
    "df[\"HOUR\"]=df['TIME'].dt.time\n",
    "df[\"TIME\"]"
   ]
  },
  {
   "cell_type": "code",
   "execution_count": 30,
   "metadata": {},
   "outputs": [
    {
     "data": {
      "text/plain": [
       "0         12\n",
       "1         16\n",
       "2         19\n",
       "3         13\n",
       "4         22\n",
       "          ..\n",
       "238517    15\n",
       "238518    14\n",
       "238519    13\n",
       "238520    17\n",
       "238521    16\n",
       "Name: HOUR, Length: 238522, dtype: int64"
      ]
     },
     "execution_count": 30,
     "metadata": {},
     "output_type": "execute_result"
    }
   ],
   "source": [
    "df['HOUR'] = df[\"TIME\"].dt.hour ##Se usa para extraer únicamente la hora\n",
    "df.HOUR"
   ]
  },
  {
   "cell_type": "code",
   "execution_count": 31,
   "metadata": {},
   "outputs": [
    {
     "name": "stdout",
     "output_type": "stream",
     "text": [
      "<class 'pandas.core.frame.DataFrame'>\n",
      "RangeIndex: 238522 entries, 0 to 238521\n",
      "Data columns (total 25 columns):\n",
      " #   Column                         Non-Null Count   Dtype         \n",
      "---  ------                         --------------   -----         \n",
      " 0   DATE                           238522 non-null  datetime64[ns]\n",
      " 1   TIME                           238522 non-null  datetime64[ns]\n",
      " 2   BOROUGH                        238522 non-null  object        \n",
      " 3   ZIP CODE                       238452 non-null  float64       \n",
      " 4   LATITUDE                       231544 non-null  float64       \n",
      " 5   LONGITUDE                      231544 non-null  float64       \n",
      " 6   ON STREET NAME                 153918 non-null  object        \n",
      " 7   NUMBER OF PEDESTRIANS INJURED  238522 non-null  int64         \n",
      " 8   NUMBER OF PEDESTRIANS KILLED   238522 non-null  int64         \n",
      " 9   NUMBER OF CYCLIST INJURED      238522 non-null  int64         \n",
      " 10  NUMBER OF CYCLIST KILLED       238522 non-null  int64         \n",
      " 11  NUMBER OF MOTORIST INJURED     238522 non-null  int64         \n",
      " 12  NUMBER OF MOTORIST KILLED      238522 non-null  int64         \n",
      " 13  CONTRIBUTING FACTOR VEHICLE 1  237638 non-null  object        \n",
      " 14  CONTRIBUTING FACTOR VEHICLE 2  198514 non-null  object        \n",
      " 15  CONTRIBUTING FACTOR VEHICLE 3  13072 non-null   object        \n",
      " 16  CONTRIBUTING FACTOR VEHICLE 4  2856 non-null    object        \n",
      " 17  CONTRIBUTING FACTOR VEHICLE 5  792 non-null     object        \n",
      " 18  COLLISION_ID                   238522 non-null  int64         \n",
      " 19  VEHICLE TYPE CODE 1            236801 non-null  object        \n",
      " 20  VEHICLE TYPE CODE 2            182932 non-null  object        \n",
      " 21  VEHICLE TYPE CODE 3            12301 non-null   object        \n",
      " 22  VEHICLE TYPE CODE 4            2716 non-null    object        \n",
      " 23  VEHICLE TYPE CODE 5            753 non-null     object        \n",
      " 24  HOUR                           238522 non-null  int64         \n",
      "dtypes: datetime64[ns](2), float64(3), int64(8), object(12)\n",
      "memory usage: 45.5+ MB\n"
     ]
    }
   ],
   "source": [
    "df.info()"
   ]
  },
  {
   "cell_type": "code",
   "execution_count": 32,
   "metadata": {},
   "outputs": [
    {
     "data": {
      "text/html": [
       "<div>\n",
       "<style scoped>\n",
       "    .dataframe tbody tr th:only-of-type {\n",
       "        vertical-align: middle;\n",
       "    }\n",
       "\n",
       "    .dataframe tbody tr th {\n",
       "        vertical-align: top;\n",
       "    }\n",
       "\n",
       "    .dataframe thead th {\n",
       "        text-align: right;\n",
       "    }\n",
       "</style>\n",
       "<table border=\"1\" class=\"dataframe\">\n",
       "  <thead>\n",
       "    <tr style=\"text-align: right;\">\n",
       "      <th></th>\n",
       "      <th>accidentes</th>\n",
       "    </tr>\n",
       "    <tr>\n",
       "      <th>HOUR</th>\n",
       "      <th></th>\n",
       "    </tr>\n",
       "  </thead>\n",
       "  <tbody>\n",
       "    <tr>\n",
       "      <th>0</th>\n",
       "      <td>8160</td>\n",
       "    </tr>\n",
       "    <tr>\n",
       "      <th>1</th>\n",
       "      <td>3460</td>\n",
       "    </tr>\n",
       "    <tr>\n",
       "      <th>2</th>\n",
       "      <td>2570</td>\n",
       "    </tr>\n",
       "    <tr>\n",
       "      <th>3</th>\n",
       "      <td>2302</td>\n",
       "    </tr>\n",
       "    <tr>\n",
       "      <th>4</th>\n",
       "      <td>2562</td>\n",
       "    </tr>\n",
       "    <tr>\n",
       "      <th>5</th>\n",
       "      <td>2878</td>\n",
       "    </tr>\n",
       "    <tr>\n",
       "      <th>6</th>\n",
       "      <td>4844</td>\n",
       "    </tr>\n",
       "    <tr>\n",
       "      <th>7</th>\n",
       "      <td>7399</td>\n",
       "    </tr>\n",
       "    <tr>\n",
       "      <th>8</th>\n",
       "      <td>13403</td>\n",
       "    </tr>\n",
       "    <tr>\n",
       "      <th>9</th>\n",
       "      <td>12939</td>\n",
       "    </tr>\n",
       "    <tr>\n",
       "      <th>10</th>\n",
       "      <td>11981</td>\n",
       "    </tr>\n",
       "    <tr>\n",
       "      <th>11</th>\n",
       "      <td>12815</td>\n",
       "    </tr>\n",
       "    <tr>\n",
       "      <th>12</th>\n",
       "      <td>13731</td>\n",
       "    </tr>\n",
       "    <tr>\n",
       "      <th>13</th>\n",
       "      <td>14224</td>\n",
       "    </tr>\n",
       "    <tr>\n",
       "      <th>14</th>\n",
       "      <td>16889</td>\n",
       "    </tr>\n",
       "    <tr>\n",
       "      <th>15</th>\n",
       "      <td>15886</td>\n",
       "    </tr>\n",
       "    <tr>\n",
       "      <th>16</th>\n",
       "      <td>17536</td>\n",
       "    </tr>\n",
       "    <tr>\n",
       "      <th>17</th>\n",
       "      <td>17209</td>\n",
       "    </tr>\n",
       "    <tr>\n",
       "      <th>18</th>\n",
       "      <td>14899</td>\n",
       "    </tr>\n",
       "    <tr>\n",
       "      <th>19</th>\n",
       "      <td>11885</td>\n",
       "    </tr>\n",
       "    <tr>\n",
       "      <th>20</th>\n",
       "      <td>9597</td>\n",
       "    </tr>\n",
       "    <tr>\n",
       "      <th>21</th>\n",
       "      <td>8330</td>\n",
       "    </tr>\n",
       "    <tr>\n",
       "      <th>22</th>\n",
       "      <td>7216</td>\n",
       "    </tr>\n",
       "    <tr>\n",
       "      <th>23</th>\n",
       "      <td>5807</td>\n",
       "    </tr>\n",
       "  </tbody>\n",
       "</table>\n",
       "</div>"
      ],
      "text/plain": [
       "      accidentes\n",
       "HOUR            \n",
       "0           8160\n",
       "1           3460\n",
       "2           2570\n",
       "3           2302\n",
       "4           2562\n",
       "5           2878\n",
       "6           4844\n",
       "7           7399\n",
       "8          13403\n",
       "9          12939\n",
       "10         11981\n",
       "11         12815\n",
       "12         13731\n",
       "13         14224\n",
       "14         16889\n",
       "15         15886\n",
       "16         17536\n",
       "17         17209\n",
       "18         14899\n",
       "19         11885\n",
       "20          9597\n",
       "21          8330\n",
       "22          7216\n",
       "23          5807"
      ]
     },
     "execution_count": 32,
     "metadata": {},
     "output_type": "execute_result"
    }
   ],
   "source": [
    "accidentes_mensuales_hora=(df.groupby(\"HOUR\").agg(accidentes=(\"HOUR\", \"count\")))\n",
    "accidentes_mensuales_hora"
   ]
  },
  {
   "cell_type": "code",
   "execution_count": 33,
   "metadata": {},
   "outputs": [
    {
     "data": {
      "text/plain": [
       "<AxesSubplot:xlabel='HOUR'>"
      ]
     },
     "execution_count": 33,
     "metadata": {},
     "output_type": "execute_result"
    },
    {
     "data": {
      "image/png": "[encoded data removed]",
      "text/plain": [
       "<Figure size 432x288 with 1 Axes>"
      ]
     },
     "metadata": {
      "needs_background": "light"
     },
     "output_type": "display_data"
    }
   ],
   "source": [
    "accidentes_mensuales_hora.plot.bar(color=\"orange\")"
   ]
  },
  {
   "cell_type": "code",
   "execution_count": null,
   "metadata": {},
   "outputs": [],
   "source": []
  },
  {
   "cell_type": "markdown",
   "metadata": {},
   "source": [
    "La mayor cantidad de accidentes se encuentra desde las 14 horas hasta las 17 horas. Quizás cuando la gente se regresa hacia sus casas?"
   ]
  },
  {
   "cell_type": "markdown",
   "metadata": {},
   "source": [
    "### Exercise 5 (15 min):\n",
    "\n",
    "En la pregunta anterior hemos agregado el número de accidentes por hora sin tener en cuenta la fecha y el lugar en que ocurrieron. ¿Qué crítica le daría a este enfoque?"
   ]
  },
  {
   "cell_type": "markdown",
   "metadata": {},
   "source": [
    "**Answer.** \n"
   ]
  },
  {
   "cell_type": "markdown",
   "metadata": {},
   "source": [
    "No se puede establecer cuál es la relación de accidentalidad con respecto al lugar ni la fecha del accidente. Por ejemplo, saber cuáles lugares son los más accidentados, o si hay fechas de mucho tránsito que potencien estos accidentes, o por qué hay fechas donde la accidentalidad es baja y así poder ofrecer mejores estrategias."
   ]
  },
  {
   "cell_type": "markdown",
   "metadata": {},
   "source": [
    "### Exercise 6 (15 min):\n",
    "\n",
    "¿Cómo varía el número de accidentes en una sola semana? Trace un gráfico de barras basado en el recuento de accidentes por día de la semana.\n",
    "\n",
    "**Sugerencia:** Puede encontrar útil la función ```dt.weekday```."
   ]
  },
  {
   "cell_type": "markdown",
   "metadata": {},
   "source": [
    "**Answer.**"
   ]
  },
  {
   "cell_type": "code",
   "execution_count": 34,
   "metadata": {},
   "outputs": [
    {
     "data": {
      "text/plain": [
       "0         2\n",
       "1         1\n",
       "2         3\n",
       "3         6\n",
       "4         1\n",
       "         ..\n",
       "238517    5\n",
       "238518    3\n",
       "238519    5\n",
       "238520    0\n",
       "238521    1\n",
       "Name: WEEK, Length: 238522, dtype: int64"
      ]
     },
     "execution_count": 34,
     "metadata": {},
     "output_type": "execute_result"
    }
   ],
   "source": [
    "df['WEEK'] = df[\"DATE\"].dt.weekday\n",
    "df.WEEK"
   ]
  },
  {
   "cell_type": "code",
   "execution_count": 35,
   "metadata": {},
   "outputs": [
    {
     "data": {
      "text/plain": [
       "<AxesSubplot:xlabel='WEEK'>"
      ]
     },
     "execution_count": 35,
     "metadata": {},
     "output_type": "execute_result"
    },
    {
     "data": {
      "image/png": "[encoded data removed]",
      "text/plain": [
       "<Figure size 432x288 with 1 Axes>"
      ]
     },
     "metadata": {
      "needs_background": "light"
     },
     "output_type": "display_data"
    }
   ],
   "source": [
    "accidentes_semana=df.groupby(\"WEEK\").agg(accidentes=(\"WEEK\",'count'))\n",
    "accidentes_semana.plot.bar(color =\"blue\") "
   ]
  },
  {
   "cell_type": "markdown",
   "metadata": {},
   "source": [
    "De acuerdo a la gráfica, el día de la semana con mayor probabilidad de accidentalidad son los viernes."
   ]
  },
  {
   "cell_type": "markdown",
   "metadata": {},
   "source": [
    "### Exercise 7 (30 min):\n",
    "\n",
    "Trace una gráfica de barras del número total de accidentes en cada municipio, así como uno de los accidentes por milla cuadrada por municipio. ¿Qué puedes concluir?\n",
    "\n",
    "**Sugerencia:** Es posible que desee actualizar algunas de las claves en el diccionario del municipio para que coincidan con los nombres en el marco de datos."
   ]
  },
  {
   "cell_type": "markdown",
   "metadata": {},
   "source": [
    "**Answer.**"
   ]
  },
  {
   "cell_type": "code",
   "execution_count": 36,
   "metadata": {},
   "outputs": [
    {
     "data": {
      "text/html": [
       "<div>\n",
       "<style scoped>\n",
       "    .dataframe tbody tr th:only-of-type {\n",
       "        vertical-align: middle;\n",
       "    }\n",
       "\n",
       "    .dataframe tbody tr th {\n",
       "        vertical-align: top;\n",
       "    }\n",
       "\n",
       "    .dataframe thead th {\n",
       "        text-align: right;\n",
       "    }\n",
       "</style>\n",
       "<table border=\"1\" class=\"dataframe\">\n",
       "  <thead>\n",
       "    <tr style=\"text-align: right;\">\n",
       "      <th></th>\n",
       "      <th>accidentes</th>\n",
       "    </tr>\n",
       "    <tr>\n",
       "      <th>BOROUGH</th>\n",
       "      <th></th>\n",
       "    </tr>\n",
       "  </thead>\n",
       "  <tbody>\n",
       "    <tr>\n",
       "      <th>BRONX</th>\n",
       "      <td>37709</td>\n",
       "    </tr>\n",
       "    <tr>\n",
       "      <th>BROOKLYN</th>\n",
       "      <td>76253</td>\n",
       "    </tr>\n",
       "    <tr>\n",
       "      <th>MANHATTAN</th>\n",
       "      <td>48749</td>\n",
       "    </tr>\n",
       "    <tr>\n",
       "      <th>QUEENS</th>\n",
       "      <td>67120</td>\n",
       "    </tr>\n",
       "    <tr>\n",
       "      <th>STATEN ISLAND</th>\n",
       "      <td>8691</td>\n",
       "    </tr>\n",
       "  </tbody>\n",
       "</table>\n",
       "</div>"
      ],
      "text/plain": [
       "               accidentes\n",
       "BOROUGH                  \n",
       "BRONX               37709\n",
       "BROOKLYN            76253\n",
       "MANHATTAN           48749\n",
       "QUEENS              67120\n",
       "STATEN ISLAND        8691"
      ]
     },
     "execution_count": 36,
     "metadata": {},
     "output_type": "execute_result"
    }
   ],
   "source": [
    "accidentes_municipio=df.groupby(\"BOROUGH\").agg(accidentes=(\"BOROUGH\",\"count\"))\n",
    "accidentes_municipio"
   ]
  },
  {
   "cell_type": "markdown",
   "metadata": {},
   "source": [
    "Se empieza a analizar accidentes por municipio, y se encuentra que el lugar con menor accidentalidad es Staten Island"
   ]
  },
  {
   "cell_type": "code",
   "execution_count": 37,
   "metadata": {},
   "outputs": [
    {
     "data": {
      "text/plain": [
       "<AxesSubplot:ylabel='BOROUGH'>"
      ]
     },
     "execution_count": 37,
     "metadata": {},
     "output_type": "execute_result"
    },
    {
     "data": {
      "image/png": "[encoded data removed]",
      "text/plain": [
       "<Figure size 432x288 with 1 Axes>"
      ]
     },
     "metadata": {
      "needs_background": "light"
     },
     "output_type": "display_data"
    }
   ],
   "source": [
    "accidentes_municipio.plot.barh()"
   ]
  },
  {
   "cell_type": "markdown",
   "metadata": {},
   "source": [
    "Ahora se analizará por ZIP CODE"
   ]
  },
  {
   "cell_type": "code",
   "execution_count": 38,
   "metadata": {
    "scrolled": true
   },
   "outputs": [
    {
     "data": {
      "text/html": [
       "<div>\n",
       "<style scoped>\n",
       "    .dataframe tbody tr th:only-of-type {\n",
       "        vertical-align: middle;\n",
       "    }\n",
       "\n",
       "    .dataframe tbody tr th {\n",
       "        vertical-align: top;\n",
       "    }\n",
       "\n",
       "    .dataframe thead th {\n",
       "        text-align: right;\n",
       "    }\n",
       "</style>\n",
       "<table border=\"1\" class=\"dataframe\">\n",
       "  <thead>\n",
       "    <tr style=\"text-align: right;\">\n",
       "      <th></th>\n",
       "      <th>accidentes</th>\n",
       "    </tr>\n",
       "    <tr>\n",
       "      <th>ZIP CODE</th>\n",
       "      <th></th>\n",
       "    </tr>\n",
       "  </thead>\n",
       "  <tbody>\n",
       "    <tr>\n",
       "      <th>10000.0</th>\n",
       "      <td>103</td>\n",
       "    </tr>\n",
       "    <tr>\n",
       "      <th>10001.0</th>\n",
       "      <td>2651</td>\n",
       "    </tr>\n",
       "    <tr>\n",
       "      <th>10002.0</th>\n",
       "      <td>2493</td>\n",
       "    </tr>\n",
       "    <tr>\n",
       "      <th>10003.0</th>\n",
       "      <td>1435</td>\n",
       "    </tr>\n",
       "    <tr>\n",
       "      <th>10004.0</th>\n",
       "      <td>421</td>\n",
       "    </tr>\n",
       "    <tr>\n",
       "      <th>...</th>\n",
       "      <td>...</td>\n",
       "    </tr>\n",
       "    <tr>\n",
       "      <th>11691.0</th>\n",
       "      <td>1235</td>\n",
       "    </tr>\n",
       "    <tr>\n",
       "      <th>11692.0</th>\n",
       "      <td>338</td>\n",
       "    </tr>\n",
       "    <tr>\n",
       "      <th>11693.0</th>\n",
       "      <td>299</td>\n",
       "    </tr>\n",
       "    <tr>\n",
       "      <th>11694.0</th>\n",
       "      <td>372</td>\n",
       "    </tr>\n",
       "    <tr>\n",
       "      <th>11697.0</th>\n",
       "      <td>35</td>\n",
       "    </tr>\n",
       "  </tbody>\n",
       "</table>\n",
       "<p>221 rows × 1 columns</p>\n",
       "</div>"
      ],
      "text/plain": [
       "          accidentes\n",
       "ZIP CODE            \n",
       "10000.0          103\n",
       "10001.0         2651\n",
       "10002.0         2493\n",
       "10003.0         1435\n",
       "10004.0          421\n",
       "...              ...\n",
       "11691.0         1235\n",
       "11692.0          338\n",
       "11693.0          299\n",
       "11694.0          372\n",
       "11697.0           35\n",
       "\n",
       "[221 rows x 1 columns]"
      ]
     },
     "execution_count": 38,
     "metadata": {},
     "output_type": "execute_result"
    }
   ],
   "source": [
    "accidentes_municipio=df.groupby(\"ZIP CODE\").agg(accidentes=(\"ZIP CODE\", \"count\"))\n",
    "accidentes_municipio"
   ]
  },
  {
   "cell_type": "markdown",
   "metadata": {},
   "source": [
    "A continuación, se asocia el municipio por el zip code"
   ]
  },
  {
   "cell_type": "code",
   "execution_count": 39,
   "metadata": {},
   "outputs": [
    {
     "data": {
      "text/html": [
       "<div>\n",
       "<style scoped>\n",
       "    .dataframe tbody tr th:only-of-type {\n",
       "        vertical-align: middle;\n",
       "    }\n",
       "\n",
       "    .dataframe tbody tr th {\n",
       "        vertical-align: top;\n",
       "    }\n",
       "\n",
       "    .dataframe thead th {\n",
       "        text-align: right;\n",
       "    }\n",
       "</style>\n",
       "<table border=\"1\" class=\"dataframe\">\n",
       "  <thead>\n",
       "    <tr style=\"text-align: right;\">\n",
       "      <th></th>\n",
       "      <th></th>\n",
       "      <th>count</th>\n",
       "    </tr>\n",
       "    <tr>\n",
       "      <th>BOROUGH</th>\n",
       "      <th>ZIP CODE</th>\n",
       "      <th></th>\n",
       "    </tr>\n",
       "  </thead>\n",
       "  <tbody>\n",
       "    <tr>\n",
       "      <th rowspan=\"5\" valign=\"top\">BRONX</th>\n",
       "      <th>10451.0</th>\n",
       "      <td>2001</td>\n",
       "    </tr>\n",
       "    <tr>\n",
       "      <th>10452.0</th>\n",
       "      <td>1265</td>\n",
       "    </tr>\n",
       "    <tr>\n",
       "      <th>10453.0</th>\n",
       "      <td>1509</td>\n",
       "    </tr>\n",
       "    <tr>\n",
       "      <th>10454.0</th>\n",
       "      <td>1680</td>\n",
       "    </tr>\n",
       "    <tr>\n",
       "      <th>10455.0</th>\n",
       "      <td>1505</td>\n",
       "    </tr>\n",
       "    <tr>\n",
       "      <th>...</th>\n",
       "      <th>...</th>\n",
       "      <td>...</td>\n",
       "    </tr>\n",
       "    <tr>\n",
       "      <th rowspan=\"5\" valign=\"top\">STATEN ISLAND</th>\n",
       "      <th>10308.0</th>\n",
       "      <td>492</td>\n",
       "    </tr>\n",
       "    <tr>\n",
       "      <th>10309.0</th>\n",
       "      <td>637</td>\n",
       "    </tr>\n",
       "    <tr>\n",
       "      <th>10310.0</th>\n",
       "      <td>714</td>\n",
       "    </tr>\n",
       "    <tr>\n",
       "      <th>10312.0</th>\n",
       "      <td>1128</td>\n",
       "    </tr>\n",
       "    <tr>\n",
       "      <th>10314.0</th>\n",
       "      <td>462</td>\n",
       "    </tr>\n",
       "  </tbody>\n",
       "</table>\n",
       "<p>224 rows × 1 columns</p>\n",
       "</div>"
      ],
      "text/plain": [
       "                        count\n",
       "BOROUGH       ZIP CODE       \n",
       "BRONX         10451.0    2001\n",
       "              10452.0    1265\n",
       "              10453.0    1509\n",
       "              10454.0    1680\n",
       "              10455.0    1505\n",
       "...                       ...\n",
       "STATEN ISLAND 10308.0     492\n",
       "              10309.0     637\n",
       "              10310.0     714\n",
       "              10312.0    1128\n",
       "              10314.0     462\n",
       "\n",
       "[224 rows x 1 columns]"
      ]
     },
     "execution_count": 39,
     "metadata": {},
     "output_type": "execute_result"
    }
   ],
   "source": [
    "df3 =pd.DataFrame({\"count\": df.groupby([\"BOROUGH\", \"ZIP CODE\"]).size()})\n",
    "df3"
   ]
  },
  {
   "cell_type": "code",
   "execution_count": 40,
   "metadata": {},
   "outputs": [
    {
     "data": {
      "text/plain": [
       "count    1\n",
       "Name: (MANHATTAN, 10045.0), dtype: int64"
      ]
     },
     "execution_count": 40,
     "metadata": {},
     "output_type": "execute_result"
    }
   ],
   "source": [
    "accidentalidad_min=df3.loc[df3[\"count\"].idxmin()]\n",
    "accidentalidad_min"
   ]
  },
  {
   "cell_type": "code",
   "execution_count": 42,
   "metadata": {},
   "outputs": [
    {
     "ename": "SyntaxError",
     "evalue": "invalid syntax (<ipython-input-42-3a941a219ce9>, line 1)",
     "output_type": "error",
     "traceback": [
      "\u001b[1;36m  File \u001b[1;32m\"<ipython-input-42-3a941a219ce9>\"\u001b[1;36m, line \u001b[1;32m1\u001b[0m\n\u001b[1;33m    df3.loc[df3[\"ZIP CODE\"]=10045]\u001b[0m\n\u001b[1;37m                           ^\u001b[0m\n\u001b[1;31mSyntaxError\u001b[0m\u001b[1;31m:\u001b[0m invalid syntax\n"
     ]
    }
   ],
   "source": [
    "df3.loc[df3[\"ZIP CODE\"]=10045]"
   ]
  },
  {
   "cell_type": "code",
   "execution_count": 43,
   "metadata": {},
   "outputs": [
    {
     "data": {
      "text/plain": [
       "count    4495\n",
       "Name: (BROOKLYN, 11207.0), dtype: int64"
      ]
     },
     "execution_count": 43,
     "metadata": {},
     "output_type": "execute_result"
    }
   ],
   "source": [
    "accidentalidad_min=df3.loc[df3[\"count\"].idxmax()]\n",
    "accidentalidad_min"
   ]
  },
  {
   "cell_type": "markdown",
   "metadata": {},
   "source": []
  },
  {
   "cell_type": "markdown",
   "metadata": {},
   "source": [
    "### Exercise 8 (30 min):\n",
    "\n",
    "¿Qué horas tienen más accidentes en cada municipio? Trace un gráfico de barras para cada municipio que muestre el número de accidentes por cada hora del día.\n",
    "\n",
    "**Sugerencia:** Puede usar ```sns.FacetGrid``` para crear una cuadrícula de parcelas con los datos por hora de cada municipio."
   ]
  },
  {
   "cell_type": "markdown",
   "metadata": {},
   "source": [
    "**Answer.**"
   ]
  },
  {
   "cell_type": "code",
   "execution_count": 44,
   "metadata": {},
   "outputs": [],
   "source": [
    "import seaborn as sns"
   ]
  },
  {
   "cell_type": "code",
   "execution_count": 45,
   "metadata": {},
   "outputs": [
    {
     "data": {
      "text/html": [
       "<div>\n",
       "<style scoped>\n",
       "    .dataframe tbody tr th:only-of-type {\n",
       "        vertical-align: middle;\n",
       "    }\n",
       "\n",
       "    .dataframe tbody tr th {\n",
       "        vertical-align: top;\n",
       "    }\n",
       "\n",
       "    .dataframe thead th {\n",
       "        text-align: right;\n",
       "    }\n",
       "</style>\n",
       "<table border=\"1\" class=\"dataframe\">\n",
       "  <thead>\n",
       "    <tr style=\"text-align: right;\">\n",
       "      <th></th>\n",
       "      <th></th>\n",
       "      <th>count</th>\n",
       "    </tr>\n",
       "    <tr>\n",
       "      <th>BOROUGH</th>\n",
       "      <th>HOUR</th>\n",
       "      <th></th>\n",
       "    </tr>\n",
       "  </thead>\n",
       "  <tbody>\n",
       "    <tr>\n",
       "      <th rowspan=\"5\" valign=\"top\">BRONX</th>\n",
       "      <th>0</th>\n",
       "      <td>1329</td>\n",
       "    </tr>\n",
       "    <tr>\n",
       "      <th>1</th>\n",
       "      <td>529</td>\n",
       "    </tr>\n",
       "    <tr>\n",
       "      <th>2</th>\n",
       "      <td>402</td>\n",
       "    </tr>\n",
       "    <tr>\n",
       "      <th>3</th>\n",
       "      <td>361</td>\n",
       "    </tr>\n",
       "    <tr>\n",
       "      <th>4</th>\n",
       "      <td>418</td>\n",
       "    </tr>\n",
       "    <tr>\n",
       "      <th>...</th>\n",
       "      <th>...</th>\n",
       "      <td>...</td>\n",
       "    </tr>\n",
       "    <tr>\n",
       "      <th rowspan=\"5\" valign=\"top\">STATEN ISLAND</th>\n",
       "      <th>19</th>\n",
       "      <td>415</td>\n",
       "    </tr>\n",
       "    <tr>\n",
       "      <th>20</th>\n",
       "      <td>367</td>\n",
       "    </tr>\n",
       "    <tr>\n",
       "      <th>21</th>\n",
       "      <td>268</td>\n",
       "    </tr>\n",
       "    <tr>\n",
       "      <th>22</th>\n",
       "      <td>224</td>\n",
       "    </tr>\n",
       "    <tr>\n",
       "      <th>23</th>\n",
       "      <td>174</td>\n",
       "    </tr>\n",
       "  </tbody>\n",
       "</table>\n",
       "<p>120 rows × 1 columns</p>\n",
       "</div>"
      ],
      "text/plain": [
       "                    count\n",
       "BOROUGH       HOUR       \n",
       "BRONX         0      1329\n",
       "              1       529\n",
       "              2       402\n",
       "              3       361\n",
       "              4       418\n",
       "...                   ...\n",
       "STATEN ISLAND 19      415\n",
       "              20      367\n",
       "              21      268\n",
       "              22      224\n",
       "              23      174\n",
       "\n",
       "[120 rows x 1 columns]"
      ]
     },
     "execution_count": 45,
     "metadata": {},
     "output_type": "execute_result"
    }
   ],
   "source": [
    "df1=pd.DataFrame({\"count\":df.groupby([\"BOROUGH\",\"HOUR\"]).size()})\n",
    "df1"
   ]
  },
  {
   "cell_type": "code",
   "execution_count": 46,
   "metadata": {},
   "outputs": [
    {
     "name": "stderr",
     "output_type": "stream",
     "text": [
      "C:\\Users\\suzak\\anaconda3\\lib\\site-packages\\seaborn\\distributions.py:2551: FutureWarning: `distplot` is a deprecated function and will be removed in a future version. Please adapt your code to use either `displot` (a figure-level function with similar flexibility) or `histplot` (an axes-level function for histograms).\n",
      "  warnings.warn(msg, FutureWarning)\n",
      "C:\\Users\\suzak\\anaconda3\\lib\\site-packages\\seaborn\\distributions.py:2551: FutureWarning: `distplot` is a deprecated function and will be removed in a future version. Please adapt your code to use either `displot` (a figure-level function with similar flexibility) or `histplot` (an axes-level function for histograms).\n",
      "  warnings.warn(msg, FutureWarning)\n",
      "C:\\Users\\suzak\\anaconda3\\lib\\site-packages\\seaborn\\distributions.py:2551: FutureWarning: `distplot` is a deprecated function and will be removed in a future version. Please adapt your code to use either `displot` (a figure-level function with similar flexibility) or `histplot` (an axes-level function for histograms).\n",
      "  warnings.warn(msg, FutureWarning)\n",
      "C:\\Users\\suzak\\anaconda3\\lib\\site-packages\\seaborn\\distributions.py:2551: FutureWarning: `distplot` is a deprecated function and will be removed in a future version. Please adapt your code to use either `displot` (a figure-level function with similar flexibility) or `histplot` (an axes-level function for histograms).\n",
      "  warnings.warn(msg, FutureWarning)\n",
      "C:\\Users\\suzak\\anaconda3\\lib\\site-packages\\seaborn\\distributions.py:2551: FutureWarning: `distplot` is a deprecated function and will be removed in a future version. Please adapt your code to use either `displot` (a figure-level function with similar flexibility) or `histplot` (an axes-level function for histograms).\n",
      "  warnings.warn(msg, FutureWarning)\n"
     ]
    },
    {
     "data": {
      "text/plain": [
       "<seaborn.axisgrid.FacetGrid at 0x24ea4e3bd90>"
      ]
     },
     "execution_count": 46,
     "metadata": {},
     "output_type": "execute_result"
    },
    {
     "data": {
      "image/png": "[encoded data removed]",
      "text/plain": [
       "<Figure size 1080x216 with 5 Axes>"
      ]
     },
     "metadata": {
      "needs_background": "light"
     },
     "output_type": "display_data"
    }
   ],
   "source": [
    "g=sns.FacetGrid(df,col=\"BOROUGH\")\n",
    "g.map(sns.distplot,\"HOUR\")"
   ]
  },
  {
   "cell_type": "code",
   "execution_count": null,
   "metadata": {},
   "outputs": [],
   "source": []
  },
  {
   "cell_type": "markdown",
   "metadata": {},
   "source": [
    "**¿Es mayor el número de accidentes en diferentes momentos en diferentes distritos? ¿Deberíamos concentrarnos en diferentes momentos para cada municipio?**"
   ]
  },
  {
   "cell_type": "markdown",
   "metadata": {},
   "source": [
    "Se puede observar que el mayor número de accidentes se encuentra:\n",
    "* En Bronx, desde las 16 a las 17 horas\n",
    "* En Brooklyn, desde las 15 y luego en el periodo de las 17 a las 18 horas\n",
    "* En Queens, a las 15 y en el periodo de las 16-17 horas\n",
    "* En Manhattan, a las 14 horas y en el periodo de 16-17 horas\n",
    "* En Staten Island, son 14, 16-17 horas."
   ]
  },
  {
   "cell_type": "markdown",
   "metadata": {},
   "source": [
    "### Exercise 9 (45 min):\n",
    "\n",
    "¿Qué factores provocan la mayoría de los accidentes? Evite contar dos veces los factores que contribuyen a un solo accidente.\n",
    "\n",
    "**Sugerencia:** Una forma de lidiar con las repeticiones es concatenar las columnas correspondientes conservando sus índices, puede hacerlo con las funciones ```pd.concat()``` y ```reset_index()```. Luego, use un ```group_by``` apropiado para contar el número de repeticiones de factores contribuidos por accidente."
   ]
  },
  {
   "cell_type": "markdown",
   "metadata": {},
   "source": [
    "**Answer**.\n"
   ]
  },
  {
   "cell_type": "code",
   "execution_count": 47,
   "metadata": {
    "scrolled": false
   },
   "outputs": [
    {
     "data": {
      "text/plain": [
       "['DATE',\n",
       " 'TIME',\n",
       " 'BOROUGH',\n",
       " 'ZIP CODE',\n",
       " 'LATITUDE',\n",
       " 'LONGITUDE',\n",
       " 'ON STREET NAME',\n",
       " 'NUMBER OF PEDESTRIANS INJURED',\n",
       " 'NUMBER OF PEDESTRIANS KILLED',\n",
       " 'NUMBER OF CYCLIST INJURED',\n",
       " 'NUMBER OF CYCLIST KILLED',\n",
       " 'NUMBER OF MOTORIST INJURED',\n",
       " 'NUMBER OF MOTORIST KILLED',\n",
       " 'CONTRIBUTING FACTOR VEHICLE 1',\n",
       " 'CONTRIBUTING FACTOR VEHICLE 2',\n",
       " 'CONTRIBUTING FACTOR VEHICLE 3',\n",
       " 'CONTRIBUTING FACTOR VEHICLE 4',\n",
       " 'CONTRIBUTING FACTOR VEHICLE 5',\n",
       " 'COLLISION_ID',\n",
       " 'VEHICLE TYPE CODE 1',\n",
       " 'VEHICLE TYPE CODE 2',\n",
       " 'VEHICLE TYPE CODE 3',\n",
       " 'VEHICLE TYPE CODE 4',\n",
       " 'VEHICLE TYPE CODE 5',\n",
       " 'HOUR',\n",
       " 'WEEK']"
      ]
     },
     "execution_count": 47,
     "metadata": {},
     "output_type": "execute_result"
    }
   ],
   "source": [
    "#Recordando el nombre de las columnas\n",
    "list(df.columns)"
   ]
  },
  {
   "cell_type": "code",
   "execution_count": 48,
   "metadata": {},
   "outputs": [
    {
     "data": {
      "text/html": [
       "<div>\n",
       "<style scoped>\n",
       "    .dataframe tbody tr th:only-of-type {\n",
       "        vertical-align: middle;\n",
       "    }\n",
       "\n",
       "    .dataframe tbody tr th {\n",
       "        vertical-align: top;\n",
       "    }\n",
       "\n",
       "    .dataframe thead th {\n",
       "        text-align: right;\n",
       "    }\n",
       "</style>\n",
       "<table border=\"1\" class=\"dataframe\">\n",
       "  <thead>\n",
       "    <tr style=\"text-align: right;\">\n",
       "      <th></th>\n",
       "      <th>CONTRIBUTING FACTOR VEHICLE 1</th>\n",
       "      <th>CONTRIBUTING FACTOR VEHICLE 2</th>\n",
       "      <th>CONTRIBUTING FACTOR VEHICLE 3</th>\n",
       "      <th>CONTRIBUTING FACTOR VEHICLE 4</th>\n",
       "    </tr>\n",
       "  </thead>\n",
       "  <tbody>\n",
       "    <tr>\n",
       "      <th>0</th>\n",
       "      <td>Unspecified</td>\n",
       "      <td>NaN</td>\n",
       "      <td>NaN</td>\n",
       "      <td>NaN</td>\n",
       "    </tr>\n",
       "    <tr>\n",
       "      <th>1</th>\n",
       "      <td>Unspecified</td>\n",
       "      <td>NaN</td>\n",
       "      <td>NaN</td>\n",
       "      <td>NaN</td>\n",
       "    </tr>\n",
       "    <tr>\n",
       "      <th>2</th>\n",
       "      <td>Unspecified</td>\n",
       "      <td>NaN</td>\n",
       "      <td>NaN</td>\n",
       "      <td>NaN</td>\n",
       "    </tr>\n",
       "    <tr>\n",
       "      <th>3</th>\n",
       "      <td>Driver Inattention/Distraction</td>\n",
       "      <td>Unspecified</td>\n",
       "      <td>NaN</td>\n",
       "      <td>NaN</td>\n",
       "    </tr>\n",
       "    <tr>\n",
       "      <th>4</th>\n",
       "      <td>View Obstructed/Limited</td>\n",
       "      <td>Unspecified</td>\n",
       "      <td>NaN</td>\n",
       "      <td>NaN</td>\n",
       "    </tr>\n",
       "    <tr>\n",
       "      <th>...</th>\n",
       "      <td>...</td>\n",
       "      <td>...</td>\n",
       "      <td>...</td>\n",
       "      <td>...</td>\n",
       "    </tr>\n",
       "    <tr>\n",
       "      <th>238517</th>\n",
       "      <td>Driver Inattention/Distraction</td>\n",
       "      <td>Unspecified</td>\n",
       "      <td>NaN</td>\n",
       "      <td>NaN</td>\n",
       "    </tr>\n",
       "    <tr>\n",
       "      <th>238518</th>\n",
       "      <td>Pavement Slippery</td>\n",
       "      <td>NaN</td>\n",
       "      <td>NaN</td>\n",
       "      <td>NaN</td>\n",
       "    </tr>\n",
       "    <tr>\n",
       "      <th>238519</th>\n",
       "      <td>Unsafe Lane Changing</td>\n",
       "      <td>Unspecified</td>\n",
       "      <td>NaN</td>\n",
       "      <td>NaN</td>\n",
       "    </tr>\n",
       "    <tr>\n",
       "      <th>238520</th>\n",
       "      <td>Failure to Yield Right-of-Way</td>\n",
       "      <td>Unspecified</td>\n",
       "      <td>NaN</td>\n",
       "      <td>NaN</td>\n",
       "    </tr>\n",
       "    <tr>\n",
       "      <th>238521</th>\n",
       "      <td>Following Too Closely</td>\n",
       "      <td>Passing or Lane Usage Improper</td>\n",
       "      <td>NaN</td>\n",
       "      <td>NaN</td>\n",
       "    </tr>\n",
       "  </tbody>\n",
       "</table>\n",
       "<p>238522 rows × 4 columns</p>\n",
       "</div>"
      ],
      "text/plain": [
       "         CONTRIBUTING FACTOR VEHICLE 1   CONTRIBUTING FACTOR VEHICLE 2  \\\n",
       "0                          Unspecified                             NaN   \n",
       "1                          Unspecified                             NaN   \n",
       "2                          Unspecified                             NaN   \n",
       "3       Driver Inattention/Distraction                     Unspecified   \n",
       "4              View Obstructed/Limited                     Unspecified   \n",
       "...                                ...                             ...   \n",
       "238517  Driver Inattention/Distraction                     Unspecified   \n",
       "238518               Pavement Slippery                             NaN   \n",
       "238519            Unsafe Lane Changing                     Unspecified   \n",
       "238520   Failure to Yield Right-of-Way                     Unspecified   \n",
       "238521           Following Too Closely  Passing or Lane Usage Improper   \n",
       "\n",
       "       CONTRIBUTING FACTOR VEHICLE 3 CONTRIBUTING FACTOR VEHICLE 4  \n",
       "0                                NaN                           NaN  \n",
       "1                                NaN                           NaN  \n",
       "2                                NaN                           NaN  \n",
       "3                                NaN                           NaN  \n",
       "4                                NaN                           NaN  \n",
       "...                              ...                           ...  \n",
       "238517                           NaN                           NaN  \n",
       "238518                           NaN                           NaN  \n",
       "238519                           NaN                           NaN  \n",
       "238520                           NaN                           NaN  \n",
       "238521                           NaN                           NaN  \n",
       "\n",
       "[238522 rows x 4 columns]"
      ]
     },
     "execution_count": 48,
     "metadata": {},
     "output_type": "execute_result"
    }
   ],
   "source": [
    "causas=pd.concat([df['CONTRIBUTING FACTOR VEHICLE 1'],df['CONTRIBUTING FACTOR VEHICLE 2'],\n",
    "                  df['CONTRIBUTING FACTOR VEHICLE 3'],df['CONTRIBUTING FACTOR VEHICLE 4']],axis=1)\n",
    "causas"
   ]
  },
  {
   "cell_type": "code",
   "execution_count": 49,
   "metadata": {},
   "outputs": [],
   "source": [
    "columns=causas.columns"
   ]
  },
  {
   "cell_type": "code",
   "execution_count": 50,
   "metadata": {},
   "outputs": [],
   "source": [
    "causas['UNIQUE FACTORS'] =causas.apply(lambda x: set([x[column] for column in columns if x[column]]), axis=1)\n",
    "factors_count = {}\n",
    "for index, row in causas.iterrows():\n",
    "    for factor in row['UNIQUE FACTORS']:\n",
    "        count = factors_count.get(factor, 0)\n",
    "        count += 1\n",
    "        factors_count[factor] = count\n",
    "factor_count = sorted(factors_count.items(), key=lambda x: x[1], reverse=True)"
   ]
  },
  {
   "cell_type": "code",
   "execution_count": 51,
   "metadata": {},
   "outputs": [
    {
     "data": {
      "text/html": [
       "<div>\n",
       "<style scoped>\n",
       "    .dataframe tbody tr th:only-of-type {\n",
       "        vertical-align: middle;\n",
       "    }\n",
       "\n",
       "    .dataframe tbody tr th {\n",
       "        vertical-align: top;\n",
       "    }\n",
       "\n",
       "    .dataframe thead th {\n",
       "        text-align: right;\n",
       "    }\n",
       "</style>\n",
       "<table border=\"1\" class=\"dataframe\">\n",
       "  <thead>\n",
       "    <tr style=\"text-align: right;\">\n",
       "      <th></th>\n",
       "      <th>CONTRIBUTING FACTOR VEHICLE 1</th>\n",
       "      <th>CONTRIBUTING FACTOR VEHICLE 2</th>\n",
       "      <th>CONTRIBUTING FACTOR VEHICLE 3</th>\n",
       "      <th>CONTRIBUTING FACTOR VEHICLE 4</th>\n",
       "      <th>UNIQUE FACTORS</th>\n",
       "    </tr>\n",
       "  </thead>\n",
       "  <tbody>\n",
       "    <tr>\n",
       "      <th>0</th>\n",
       "      <td>Unspecified</td>\n",
       "      <td>NaN</td>\n",
       "      <td>NaN</td>\n",
       "      <td>NaN</td>\n",
       "      <td>{nan, Unspecified}</td>\n",
       "    </tr>\n",
       "    <tr>\n",
       "      <th>1</th>\n",
       "      <td>Unspecified</td>\n",
       "      <td>NaN</td>\n",
       "      <td>NaN</td>\n",
       "      <td>NaN</td>\n",
       "      <td>{nan, Unspecified}</td>\n",
       "    </tr>\n",
       "    <tr>\n",
       "      <th>2</th>\n",
       "      <td>Unspecified</td>\n",
       "      <td>NaN</td>\n",
       "      <td>NaN</td>\n",
       "      <td>NaN</td>\n",
       "      <td>{nan, Unspecified}</td>\n",
       "    </tr>\n",
       "    <tr>\n",
       "      <th>3</th>\n",
       "      <td>Driver Inattention/Distraction</td>\n",
       "      <td>Unspecified</td>\n",
       "      <td>NaN</td>\n",
       "      <td>NaN</td>\n",
       "      <td>{nan, Driver Inattention/Distraction, Unspecif...</td>\n",
       "    </tr>\n",
       "    <tr>\n",
       "      <th>4</th>\n",
       "      <td>View Obstructed/Limited</td>\n",
       "      <td>Unspecified</td>\n",
       "      <td>NaN</td>\n",
       "      <td>NaN</td>\n",
       "      <td>{nan, View Obstructed/Limited, Unspecified}</td>\n",
       "    </tr>\n",
       "  </tbody>\n",
       "</table>\n",
       "</div>"
      ],
      "text/plain": [
       "    CONTRIBUTING FACTOR VEHICLE 1 CONTRIBUTING FACTOR VEHICLE 2  \\\n",
       "0                     Unspecified                           NaN   \n",
       "1                     Unspecified                           NaN   \n",
       "2                     Unspecified                           NaN   \n",
       "3  Driver Inattention/Distraction                   Unspecified   \n",
       "4         View Obstructed/Limited                   Unspecified   \n",
       "\n",
       "  CONTRIBUTING FACTOR VEHICLE 3 CONTRIBUTING FACTOR VEHICLE 4  \\\n",
       "0                           NaN                           NaN   \n",
       "1                           NaN                           NaN   \n",
       "2                           NaN                           NaN   \n",
       "3                           NaN                           NaN   \n",
       "4                           NaN                           NaN   \n",
       "\n",
       "                                      UNIQUE FACTORS  \n",
       "0                                 {nan, Unspecified}  \n",
       "1                                 {nan, Unspecified}  \n",
       "2                                 {nan, Unspecified}  \n",
       "3  {nan, Driver Inattention/Distraction, Unspecif...  \n",
       "4        {nan, View Obstructed/Limited, Unspecified}  "
      ]
     },
     "execution_count": 51,
     "metadata": {},
     "output_type": "execute_result"
    }
   ],
   "source": [
    "causas.head()"
   ]
  },
  {
   "cell_type": "code",
   "execution_count": 53,
   "metadata": {},
   "outputs": [],
   "source": [
    "#freq_acc=causas['unique factors'].value_counts()\n",
    "#freq_acc"
   ]
  },
  {
   "cell_type": "markdown",
   "metadata": {},
   "source": [
    "Las mayores causas de accidentalidad son:\n",
    "* {nan, Unspecified}     \n",
    "* {nan, Driver Inattention/Distraction, Unspecified}   \n",
    "* {nan, Driver Inattention/Distraction}\n",
    "* {nan, Following Too Closely, Unspecified}\n",
    "* {nan, Unspecified, Failure to Yield Right-of-Way}"
   ]
  },
  {
   "cell_type": "code",
   "execution_count": 54,
   "metadata": {},
   "outputs": [
    {
     "data": {
      "text/plain": [
       "CONTRIBUTING FACTOR VEHICLE 1    53768\n",
       "CONTRIBUTING FACTOR VEHICLE 2    53768\n",
       "CONTRIBUTING FACTOR VEHICLE 3     3011\n",
       "CONTRIBUTING FACTOR VEHICLE 4      542\n",
       "UNIQUE FACTORS                   53768\n",
       "dtype: int64"
      ]
     },
     "execution_count": 54,
     "metadata": {},
     "output_type": "execute_result"
    }
   ],
   "source": [
    "causas[causas['CONTRIBUTING FACTOR VEHICLE 1']==causas['CONTRIBUTING FACTOR VEHICLE 2']].count()"
   ]
  },
  {
   "cell_type": "markdown",
   "metadata": {},
   "source": [
    "### Por esta forma logré hacerlo pero sin borrar repetidos"
   ]
  },
  {
   "cell_type": "code",
   "execution_count": 55,
   "metadata": {},
   "outputs": [
    {
     "data": {
      "text/plain": [
       "0                            Unspecified\n",
       "1                            Unspecified\n",
       "2                            Unspecified\n",
       "3         Driver Inattention/Distraction\n",
       "4                View Obstructed/Limited\n",
       "                       ...              \n",
       "238517                               NaN\n",
       "238518                               NaN\n",
       "238519                               NaN\n",
       "238520                               NaN\n",
       "238521                               NaN\n",
       "Length: 954088, dtype: object"
      ]
     },
     "execution_count": 55,
     "metadata": {},
     "output_type": "execute_result"
    }
   ],
   "source": [
    "causas2=pd.concat([df['CONTRIBUTING FACTOR VEHICLE 1'],df['CONTRIBUTING FACTOR VEHICLE 2'],\n",
    "                  df['CONTRIBUTING FACTOR VEHICLE 3'],df['CONTRIBUTING FACTOR VEHICLE 4']])\n",
    "causas2"
   ]
  },
  {
   "cell_type": "code",
   "execution_count": 56,
   "metadata": {},
   "outputs": [
    {
     "data": {
      "text/html": [
       "<div>\n",
       "<style scoped>\n",
       "    .dataframe tbody tr th:only-of-type {\n",
       "        vertical-align: middle;\n",
       "    }\n",
       "\n",
       "    .dataframe tbody tr th {\n",
       "        vertical-align: top;\n",
       "    }\n",
       "\n",
       "    .dataframe thead th {\n",
       "        text-align: right;\n",
       "    }\n",
       "</style>\n",
       "<table border=\"1\" class=\"dataframe\">\n",
       "  <thead>\n",
       "    <tr style=\"text-align: right;\">\n",
       "      <th></th>\n",
       "      <th>index</th>\n",
       "      <th>0</th>\n",
       "    </tr>\n",
       "  </thead>\n",
       "  <tbody>\n",
       "    <tr>\n",
       "      <th>0</th>\n",
       "      <td>0</td>\n",
       "      <td>Unspecified</td>\n",
       "    </tr>\n",
       "    <tr>\n",
       "      <th>1</th>\n",
       "      <td>1</td>\n",
       "      <td>Unspecified</td>\n",
       "    </tr>\n",
       "    <tr>\n",
       "      <th>2</th>\n",
       "      <td>2</td>\n",
       "      <td>Unspecified</td>\n",
       "    </tr>\n",
       "    <tr>\n",
       "      <th>3</th>\n",
       "      <td>3</td>\n",
       "      <td>Driver Inattention/Distraction</td>\n",
       "    </tr>\n",
       "    <tr>\n",
       "      <th>4</th>\n",
       "      <td>4</td>\n",
       "      <td>View Obstructed/Limited</td>\n",
       "    </tr>\n",
       "  </tbody>\n",
       "</table>\n",
       "</div>"
      ],
      "text/plain": [
       "   index                               0\n",
       "0      0                     Unspecified\n",
       "1      1                     Unspecified\n",
       "2      2                     Unspecified\n",
       "3      3  Driver Inattention/Distraction\n",
       "4      4         View Obstructed/Limited"
      ]
     },
     "execution_count": 56,
     "metadata": {},
     "output_type": "execute_result"
    }
   ],
   "source": [
    "causas2=causas2.dropna()\n",
    "causas2=causas2.reset_index()\n",
    "causas2.head()"
   ]
  },
  {
   "cell_type": "code",
   "execution_count": 57,
   "metadata": {},
   "outputs": [
    {
     "data": {
      "text/html": [
       "<div>\n",
       "<style scoped>\n",
       "    .dataframe tbody tr th:only-of-type {\n",
       "        vertical-align: middle;\n",
       "    }\n",
       "\n",
       "    .dataframe tbody tr th {\n",
       "        vertical-align: top;\n",
       "    }\n",
       "\n",
       "    .dataframe thead th {\n",
       "        text-align: right;\n",
       "    }\n",
       "</style>\n",
       "<table border=\"1\" class=\"dataframe\">\n",
       "  <thead>\n",
       "    <tr style=\"text-align: right;\">\n",
       "      <th></th>\n",
       "      <th>BORRAR</th>\n",
       "      <th>CAUSAS</th>\n",
       "    </tr>\n",
       "  </thead>\n",
       "  <tbody>\n",
       "    <tr>\n",
       "      <th>0</th>\n",
       "      <td>0</td>\n",
       "      <td>Unspecified</td>\n",
       "    </tr>\n",
       "    <tr>\n",
       "      <th>1</th>\n",
       "      <td>1</td>\n",
       "      <td>Unspecified</td>\n",
       "    </tr>\n",
       "    <tr>\n",
       "      <th>2</th>\n",
       "      <td>2</td>\n",
       "      <td>Unspecified</td>\n",
       "    </tr>\n",
       "    <tr>\n",
       "      <th>3</th>\n",
       "      <td>3</td>\n",
       "      <td>Driver Inattention/Distraction</td>\n",
       "    </tr>\n",
       "    <tr>\n",
       "      <th>4</th>\n",
       "      <td>4</td>\n",
       "      <td>View Obstructed/Limited</td>\n",
       "    </tr>\n",
       "    <tr>\n",
       "      <th>...</th>\n",
       "      <td>...</td>\n",
       "      <td>...</td>\n",
       "    </tr>\n",
       "    <tr>\n",
       "      <th>452075</th>\n",
       "      <td>237948</td>\n",
       "      <td>Unspecified</td>\n",
       "    </tr>\n",
       "    <tr>\n",
       "      <th>452076</th>\n",
       "      <td>238211</td>\n",
       "      <td>Unspecified</td>\n",
       "    </tr>\n",
       "    <tr>\n",
       "      <th>452077</th>\n",
       "      <td>238404</td>\n",
       "      <td>Unspecified</td>\n",
       "    </tr>\n",
       "    <tr>\n",
       "      <th>452078</th>\n",
       "      <td>238431</td>\n",
       "      <td>Unspecified</td>\n",
       "    </tr>\n",
       "    <tr>\n",
       "      <th>452079</th>\n",
       "      <td>238500</td>\n",
       "      <td>Unspecified</td>\n",
       "    </tr>\n",
       "  </tbody>\n",
       "</table>\n",
       "<p>452080 rows × 2 columns</p>\n",
       "</div>"
      ],
      "text/plain": [
       "        BORRAR                          CAUSAS\n",
       "0            0                     Unspecified\n",
       "1            1                     Unspecified\n",
       "2            2                     Unspecified\n",
       "3            3  Driver Inattention/Distraction\n",
       "4            4         View Obstructed/Limited\n",
       "...        ...                             ...\n",
       "452075  237948                     Unspecified\n",
       "452076  238211                     Unspecified\n",
       "452077  238404                     Unspecified\n",
       "452078  238431                     Unspecified\n",
       "452079  238500                     Unspecified\n",
       "\n",
       "[452080 rows x 2 columns]"
      ]
     },
     "execution_count": 57,
     "metadata": {},
     "output_type": "execute_result"
    }
   ],
   "source": [
    "causas2.columns=['BORRAR', 'CAUSAS']\n",
    "causas2"
   ]
  },
  {
   "cell_type": "code",
   "execution_count": 58,
   "metadata": {},
   "outputs": [],
   "source": [
    "causas2.drop(['BORRAR'],axis=1,inplace=True)"
   ]
  },
  {
   "cell_type": "code",
   "execution_count": 59,
   "metadata": {},
   "outputs": [
    {
     "data": {
      "text/html": [
       "<div>\n",
       "<style scoped>\n",
       "    .dataframe tbody tr th:only-of-type {\n",
       "        vertical-align: middle;\n",
       "    }\n",
       "\n",
       "    .dataframe tbody tr th {\n",
       "        vertical-align: top;\n",
       "    }\n",
       "\n",
       "    .dataframe thead th {\n",
       "        text-align: right;\n",
       "    }\n",
       "</style>\n",
       "<table border=\"1\" class=\"dataframe\">\n",
       "  <thead>\n",
       "    <tr style=\"text-align: right;\">\n",
       "      <th></th>\n",
       "      <th>CAUSAS</th>\n",
       "    </tr>\n",
       "  </thead>\n",
       "  <tbody>\n",
       "    <tr>\n",
       "      <th>0</th>\n",
       "      <td>Unspecified</td>\n",
       "    </tr>\n",
       "    <tr>\n",
       "      <th>1</th>\n",
       "      <td>Unspecified</td>\n",
       "    </tr>\n",
       "    <tr>\n",
       "      <th>2</th>\n",
       "      <td>Unspecified</td>\n",
       "    </tr>\n",
       "    <tr>\n",
       "      <th>3</th>\n",
       "      <td>Driver Inattention/Distraction</td>\n",
       "    </tr>\n",
       "    <tr>\n",
       "      <th>4</th>\n",
       "      <td>View Obstructed/Limited</td>\n",
       "    </tr>\n",
       "    <tr>\n",
       "      <th>...</th>\n",
       "      <td>...</td>\n",
       "    </tr>\n",
       "    <tr>\n",
       "      <th>452075</th>\n",
       "      <td>Unspecified</td>\n",
       "    </tr>\n",
       "    <tr>\n",
       "      <th>452076</th>\n",
       "      <td>Unspecified</td>\n",
       "    </tr>\n",
       "    <tr>\n",
       "      <th>452077</th>\n",
       "      <td>Unspecified</td>\n",
       "    </tr>\n",
       "    <tr>\n",
       "      <th>452078</th>\n",
       "      <td>Unspecified</td>\n",
       "    </tr>\n",
       "    <tr>\n",
       "      <th>452079</th>\n",
       "      <td>Unspecified</td>\n",
       "    </tr>\n",
       "  </tbody>\n",
       "</table>\n",
       "<p>452080 rows × 1 columns</p>\n",
       "</div>"
      ],
      "text/plain": [
       "                                CAUSAS\n",
       "0                          Unspecified\n",
       "1                          Unspecified\n",
       "2                          Unspecified\n",
       "3       Driver Inattention/Distraction\n",
       "4              View Obstructed/Limited\n",
       "...                                ...\n",
       "452075                     Unspecified\n",
       "452076                     Unspecified\n",
       "452077                     Unspecified\n",
       "452078                     Unspecified\n",
       "452079                     Unspecified\n",
       "\n",
       "[452080 rows x 1 columns]"
      ]
     },
     "execution_count": 59,
     "metadata": {},
     "output_type": "execute_result"
    }
   ],
   "source": [
    "causas2"
   ]
  },
  {
   "cell_type": "code",
   "execution_count": 60,
   "metadata": {},
   "outputs": [
    {
     "data": {
      "text/plain": [
       "CAUSAS                                               \n",
       "Unspecified                                              239388\n",
       "Driver Inattention/Distraction                            72203\n",
       "Failure to Yield Right-of-Way                             20413\n",
       "Following Too Closely                                     17908\n",
       "Backing Unsafely                                          15068\n",
       "Passing Too Closely                                       13378\n",
       "Passing or Lane Usage Improper                            12953\n",
       "Other Vehicular                                           11082\n",
       "Unsafe Lane Changing                                       6986\n",
       "Turning Improperly                                         6798\n",
       "Traffic Control Disregarded                                5146\n",
       "Driver Inexperience                                        4431\n",
       "Unsafe Speed                                               3530\n",
       "Reaction to Uninvolved Vehicle                             3189\n",
       "View Obstructed/Limited                                    2537\n",
       "Alcohol Involvement                                        2512\n",
       "Pavement Slippery                                          2146\n",
       "Oversized Vehicle                                          2023\n",
       "Pedestrian/Bicyclist/Other Pedestrian Error/Confusion      1895\n",
       "Aggressive Driving/Road Rage                               1152\n",
       "Passenger Distraction                                      1053\n",
       "Brakes Defective                                            842\n",
       "Fell Asleep                                                 600\n",
       "Outside Car Distraction                                     572\n",
       "Obstruction/Debris                                          457\n",
       "Glare                                                       447\n",
       "Failure to Keep Right                                       378\n",
       "Steering Failure                                            320\n",
       "Pavement Defective                                          315\n",
       "Illnes                                                      256\n",
       "Driverless/Runaway Vehicle                                  247\n",
       "Tire Failure/Inadequate                                     220\n",
       "Fatigued/Drowsy                                             218\n",
       "Lost Consciousness                                          206\n",
       "Lane Marking Improper/Inadequate                            194\n",
       "Animals Action                                              189\n",
       "Accelerator Defective                                       143\n",
       "Traffic Control Device Improper/Non-Working                 141\n",
       "Drugs (illegal)                                             118\n",
       "Cell Phone (hand-Held)                                       94\n",
       "Physical Disability                                          61\n",
       "Other Lighting Defects                                       40\n",
       "Other Electronic Device                                      31\n",
       "Tow Hitch Defective                                          28\n",
       "Tinted Windows                                               27\n",
       "Vehicle Vandalism                                            24\n",
       "Prescription Medication                                      20\n",
       "Using On Board Navigation Device                             19\n",
       "Headlights Defective                                         17\n",
       "Eating or Drinking                                           16\n",
       "Texting                                                      13\n",
       "Cell Phone (hands-free)                                      12\n",
       "Shoulders Defective/Improper                                  9\n",
       "Windshield Inadequate                                         8\n",
       "Listening/Using Headphones                                    7\n",
       "dtype: int64"
      ]
     },
     "execution_count": 60,
     "metadata": {},
     "output_type": "execute_result"
    }
   ],
   "source": [
    "freq=causas2.value_counts()\n",
    "freq"
   ]
  },
  {
   "cell_type": "code",
   "execution_count": 61,
   "metadata": {},
   "outputs": [
    {
     "data": {
      "text/html": [
       "<div>\n",
       "<style scoped>\n",
       "    .dataframe tbody tr th:only-of-type {\n",
       "        vertical-align: middle;\n",
       "    }\n",
       "\n",
       "    .dataframe tbody tr th {\n",
       "        vertical-align: top;\n",
       "    }\n",
       "\n",
       "    .dataframe thead th {\n",
       "        text-align: right;\n",
       "    }\n",
       "</style>\n",
       "<table border=\"1\" class=\"dataframe\">\n",
       "  <thead>\n",
       "    <tr style=\"text-align: right;\">\n",
       "      <th></th>\n",
       "      <th>CAUSA 1</th>\n",
       "      <th>CAUSA 2</th>\n",
       "      <th>CAUSA 3</th>\n",
       "      <th>CAUSA 4</th>\n",
       "    </tr>\n",
       "  </thead>\n",
       "  <tbody>\n",
       "    <tr>\n",
       "      <th>1</th>\n",
       "      <td>Driver Inattention/Distraction</td>\n",
       "      <td>Unspecified</td>\n",
       "      <td>Unspecified</td>\n",
       "      <td>Unspecified</td>\n",
       "    </tr>\n",
       "    <tr>\n",
       "      <th>55</th>\n",
       "      <td>Windshield Inadequate</td>\n",
       "      <td>NaN</td>\n",
       "      <td>NaN</td>\n",
       "      <td>NaN</td>\n",
       "    </tr>\n",
       "    <tr>\n",
       "      <th>0</th>\n",
       "      <td>Unspecified</td>\n",
       "      <td>NaN</td>\n",
       "      <td>NaN</td>\n",
       "      <td>NaN</td>\n",
       "    </tr>\n",
       "    <tr>\n",
       "      <th>34</th>\n",
       "      <td>Pavement Slippery</td>\n",
       "      <td>Pavement Defective</td>\n",
       "      <td>NaN</td>\n",
       "      <td>NaN</td>\n",
       "    </tr>\n",
       "    <tr>\n",
       "      <th>29</th>\n",
       "      <td>Aggressive Driving/Road Rage</td>\n",
       "      <td>Headlights Defective</td>\n",
       "      <td>Passenger Distraction</td>\n",
       "      <td>NaN</td>\n",
       "    </tr>\n",
       "  </tbody>\n",
       "</table>\n",
       "</div>"
      ],
      "text/plain": [
       "                           CAUSA 1               CAUSA 2  \\\n",
       "1   Driver Inattention/Distraction           Unspecified   \n",
       "55           Windshield Inadequate                   NaN   \n",
       "0                      Unspecified                   NaN   \n",
       "34               Pavement Slippery    Pavement Defective   \n",
       "29    Aggressive Driving/Road Rage  Headlights Defective   \n",
       "\n",
       "                  CAUSA 3      CAUSA 4  \n",
       "1             Unspecified  Unspecified  \n",
       "55                    NaN          NaN  \n",
       "0                     NaN          NaN  \n",
       "34                    NaN          NaN  \n",
       "29  Passenger Distraction          NaN  "
      ]
     },
     "execution_count": 61,
     "metadata": {},
     "output_type": "execute_result"
    }
   ],
   "source": [
    "CFV1=df['CONTRIBUTING FACTOR VEHICLE 1']\n",
    "causas1=pd.Series(CFV1.unique())\n",
    "CFV2=df['CONTRIBUTING FACTOR VEHICLE 2']\n",
    "causas2=pd.Series(CFV2.unique())\n",
    "CFV3=df['CONTRIBUTING FACTOR VEHICLE 3']\n",
    "causas3=pd.Series(CFV3.unique())\n",
    "CFV4=df['CONTRIBUTING FACTOR VEHICLE 4']\n",
    "causas4=pd.Series(CFV4.unique())\n",
    "causas=pd.concat([causas1,causas2,causas3,causas4],axis=1)\n",
    "causas.columns=['CAUSA 1', 'CAUSA 2', 'CAUSA 3', 'CAUSA 4']\n",
    "causas.sample(5)\n"
   ]
  },
  {
   "cell_type": "markdown",
   "metadata": {},
   "source": [
    "La mayor causa de accidentalidad no está especificada, seguida por distracción del conductor"
   ]
  },
  {
   "cell_type": "markdown",
   "metadata": {},
   "source": [
    "### Exercise 10 (45 min):\n",
    "\n",
    "¿Qué tipos de vehículos están más involucrados en accidentes por municipio? Evite contar dos veces el tipo de vehículos presentes en un solo accidente.\n",
    "\n",
    "**Sugerencia:** Puede aplicar un enfoque similar al utilizado en la pregunta anterior."
   ]
  },
  {
   "cell_type": "markdown",
   "metadata": {},
   "source": [
    "**Answer.** "
   ]
  },
  {
   "cell_type": "code",
   "execution_count": 155,
   "metadata": {},
   "outputs": [
    {
     "data": {
      "text/html": [
       "<div>\n",
       "<style scoped>\n",
       "    .dataframe tbody tr th:only-of-type {\n",
       "        vertical-align: middle;\n",
       "    }\n",
       "\n",
       "    .dataframe tbody tr th {\n",
       "        vertical-align: top;\n",
       "    }\n",
       "\n",
       "    .dataframe thead th {\n",
       "        text-align: right;\n",
       "    }\n",
       "</style>\n",
       "<table border=\"1\" class=\"dataframe\">\n",
       "  <thead>\n",
       "    <tr style=\"text-align: right;\">\n",
       "      <th></th>\n",
       "      <th>index</th>\n",
       "      <th>BOROUGH</th>\n",
       "      <th>VEHICLE</th>\n",
       "    </tr>\n",
       "  </thead>\n",
       "  <tbody>\n",
       "    <tr>\n",
       "      <th>0</th>\n",
       "      <td>0</td>\n",
       "      <td>BRONX</td>\n",
       "      <td>Sedan</td>\n",
       "    </tr>\n",
       "    <tr>\n",
       "      <th>1</th>\n",
       "      <td>1</td>\n",
       "      <td>BROOKLYN</td>\n",
       "      <td>Sedan</td>\n",
       "    </tr>\n",
       "    <tr>\n",
       "      <th>2</th>\n",
       "      <td>2</td>\n",
       "      <td>QUEENS</td>\n",
       "      <td>Sedan</td>\n",
       "    </tr>\n",
       "    <tr>\n",
       "      <th>3</th>\n",
       "      <td>3</td>\n",
       "      <td>QUEENS</td>\n",
       "      <td>Bike</td>\n",
       "    </tr>\n",
       "    <tr>\n",
       "      <th>4</th>\n",
       "      <td>4</td>\n",
       "      <td>BRONX</td>\n",
       "      <td>Sedan</td>\n",
       "    </tr>\n",
       "    <tr>\n",
       "      <th>...</th>\n",
       "      <td>...</td>\n",
       "      <td>...</td>\n",
       "      <td>...</td>\n",
       "    </tr>\n",
       "    <tr>\n",
       "      <th>1192605</th>\n",
       "      <td>238517</td>\n",
       "      <td>QUEENS</td>\n",
       "      <td>NaN</td>\n",
       "    </tr>\n",
       "    <tr>\n",
       "      <th>1192606</th>\n",
       "      <td>238518</td>\n",
       "      <td>BRONX</td>\n",
       "      <td>NaN</td>\n",
       "    </tr>\n",
       "    <tr>\n",
       "      <th>1192607</th>\n",
       "      <td>238519</td>\n",
       "      <td>BRONX</td>\n",
       "      <td>NaN</td>\n",
       "    </tr>\n",
       "    <tr>\n",
       "      <th>1192608</th>\n",
       "      <td>238520</td>\n",
       "      <td>QUEENS</td>\n",
       "      <td>NaN</td>\n",
       "    </tr>\n",
       "    <tr>\n",
       "      <th>1192609</th>\n",
       "      <td>238521</td>\n",
       "      <td>BROOKLYN</td>\n",
       "      <td>NaN</td>\n",
       "    </tr>\n",
       "  </tbody>\n",
       "</table>\n",
       "<p>1192610 rows × 3 columns</p>\n",
       "</div>"
      ],
      "text/plain": [
       "          index   BOROUGH VEHICLE\n",
       "0             0     BRONX   Sedan\n",
       "1             1  BROOKLYN   Sedan\n",
       "2             2    QUEENS   Sedan\n",
       "3             3    QUEENS    Bike\n",
       "4             4     BRONX   Sedan\n",
       "...         ...       ...     ...\n",
       "1192605  238517    QUEENS     NaN\n",
       "1192606  238518     BRONX     NaN\n",
       "1192607  238519     BRONX     NaN\n",
       "1192608  238520    QUEENS     NaN\n",
       "1192609  238521  BROOKLYN     NaN\n",
       "\n",
       "[1192610 rows x 3 columns]"
      ]
     },
     "execution_count": 155,
     "metadata": {},
     "output_type": "execute_result"
    }
   ],
   "source": [
    "columns = ['VEHICLE TYPE CODE 1', 'VEHICLE TYPE CODE 2', 'VEHICLE TYPE CODE 3',\n",
    "           'VEHICLE TYPE CODE 4', 'VEHICLE TYPE CODE 5']\n",
    "\n",
    "# Concatenamos los dataframes por tipos de vehiculo\n",
    "frames=[df[['BOROUGH',column]].rename(columns={'BOROUGH':'BOROUGH',column:'VEHICLE'}) for column in columns]\n",
    "vehicles_df=pd.concat(frames).reset_index()\n",
    "vehicles_df"
   ]
  },
  {
   "cell_type": "code",
   "execution_count": 158,
   "metadata": {},
   "outputs": [
    {
     "data": {
      "text/html": [
       "<div>\n",
       "<style scoped>\n",
       "    .dataframe tbody tr th:only-of-type {\n",
       "        vertical-align: middle;\n",
       "    }\n",
       "\n",
       "    .dataframe tbody tr th {\n",
       "        vertical-align: top;\n",
       "    }\n",
       "\n",
       "    .dataframe thead th {\n",
       "        text-align: right;\n",
       "    }\n",
       "</style>\n",
       "<table border=\"1\" class=\"dataframe\">\n",
       "  <thead>\n",
       "    <tr style=\"text-align: right;\">\n",
       "      <th></th>\n",
       "      <th>index</th>\n",
       "      <th>BOROUGH</th>\n",
       "      <th>VEHICLE</th>\n",
       "      <th>0</th>\n",
       "    </tr>\n",
       "  </thead>\n",
       "  <tbody>\n",
       "    <tr>\n",
       "      <th>0</th>\n",
       "      <td>0</td>\n",
       "      <td>BRONX</td>\n",
       "      <td>Sedan</td>\n",
       "      <td>1</td>\n",
       "    </tr>\n",
       "    <tr>\n",
       "      <th>1</th>\n",
       "      <td>1</td>\n",
       "      <td>BROOKLYN</td>\n",
       "      <td>Sedan</td>\n",
       "      <td>1</td>\n",
       "    </tr>\n",
       "    <tr>\n",
       "      <th>2</th>\n",
       "      <td>2</td>\n",
       "      <td>QUEENS</td>\n",
       "      <td>Sedan</td>\n",
       "      <td>1</td>\n",
       "    </tr>\n",
       "    <tr>\n",
       "      <th>3</th>\n",
       "      <td>3</td>\n",
       "      <td>QUEENS</td>\n",
       "      <td>Bike</td>\n",
       "      <td>1</td>\n",
       "    </tr>\n",
       "    <tr>\n",
       "      <th>4</th>\n",
       "      <td>3</td>\n",
       "      <td>QUEENS</td>\n",
       "      <td>Station Wagon/Sport Utility Vehicle</td>\n",
       "      <td>1</td>\n",
       "    </tr>\n",
       "    <tr>\n",
       "      <th>...</th>\n",
       "      <td>...</td>\n",
       "      <td>...</td>\n",
       "      <td>...</td>\n",
       "      <td>...</td>\n",
       "    </tr>\n",
       "    <tr>\n",
       "      <th>354071</th>\n",
       "      <td>238519</td>\n",
       "      <td>BRONX</td>\n",
       "      <td>PASSENGER VEHICLE</td>\n",
       "      <td>1</td>\n",
       "    </tr>\n",
       "    <tr>\n",
       "      <th>354072</th>\n",
       "      <td>238519</td>\n",
       "      <td>BRONX</td>\n",
       "      <td>SPORT UTILITY / STATION WAGON</td>\n",
       "      <td>1</td>\n",
       "    </tr>\n",
       "    <tr>\n",
       "      <th>354073</th>\n",
       "      <td>238520</td>\n",
       "      <td>QUEENS</td>\n",
       "      <td>PASSENGER VEHICLE</td>\n",
       "      <td>1</td>\n",
       "    </tr>\n",
       "    <tr>\n",
       "      <th>354074</th>\n",
       "      <td>238520</td>\n",
       "      <td>QUEENS</td>\n",
       "      <td>SPORT UTILITY / STATION WAGON</td>\n",
       "      <td>1</td>\n",
       "    </tr>\n",
       "    <tr>\n",
       "      <th>354075</th>\n",
       "      <td>238521</td>\n",
       "      <td>BROOKLYN</td>\n",
       "      <td>SPORT UTILITY / STATION WAGON</td>\n",
       "      <td>2</td>\n",
       "    </tr>\n",
       "  </tbody>\n",
       "</table>\n",
       "<p>354076 rows × 4 columns</p>\n",
       "</div>"
      ],
      "text/plain": [
       "         index   BOROUGH                              VEHICLE  0\n",
       "0            0     BRONX                                Sedan  1\n",
       "1            1  BROOKLYN                                Sedan  1\n",
       "2            2    QUEENS                                Sedan  1\n",
       "3            3    QUEENS                                 Bike  1\n",
       "4            3    QUEENS  Station Wagon/Sport Utility Vehicle  1\n",
       "...        ...       ...                                  ... ..\n",
       "354071  238519     BRONX                    PASSENGER VEHICLE  1\n",
       "354072  238519     BRONX        SPORT UTILITY / STATION WAGON  1\n",
       "354073  238520    QUEENS                    PASSENGER VEHICLE  1\n",
       "354074  238520    QUEENS        SPORT UTILITY / STATION WAGON  1\n",
       "354075  238521  BROOKLYN        SPORT UTILITY / STATION WAGON  2\n",
       "\n",
       "[354076 rows x 4 columns]"
      ]
     },
     "execution_count": 158,
     "metadata": {},
     "output_type": "execute_result"
    }
   ],
   "source": [
    "#Realizamos un vector de frequencias por cada municipio por cada tipo de vehiculo\n",
    "no_rep_vehicles=vehicles_df.groupby(['index','BOROUGH','VEHICLE']).size().reset_index()\n",
    "no_rep_vehicles"
   ]
  },
  {
   "cell_type": "code",
   "execution_count": 159,
   "metadata": {},
   "outputs": [
    {
     "data": {
      "text/html": [
       "<div>\n",
       "<style scoped>\n",
       "    .dataframe tbody tr th:only-of-type {\n",
       "        vertical-align: middle;\n",
       "    }\n",
       "\n",
       "    .dataframe tbody tr th {\n",
       "        vertical-align: top;\n",
       "    }\n",
       "\n",
       "    .dataframe thead th {\n",
       "        text-align: right;\n",
       "    }\n",
       "</style>\n",
       "<table border=\"1\" class=\"dataframe\">\n",
       "  <thead>\n",
       "    <tr style=\"text-align: right;\">\n",
       "      <th></th>\n",
       "      <th>BOROUGH</th>\n",
       "      <th>VEHICLE</th>\n",
       "      <th>0</th>\n",
       "    </tr>\n",
       "  </thead>\n",
       "  <tbody>\n",
       "    <tr>\n",
       "      <th>1356</th>\n",
       "      <td>MANHATTAN</td>\n",
       "      <td>Glass Rack</td>\n",
       "      <td>1</td>\n",
       "    </tr>\n",
       "    <tr>\n",
       "      <th>1065</th>\n",
       "      <td>STATEN ISLAND</td>\n",
       "      <td>garba</td>\n",
       "      <td>1</td>\n",
       "    </tr>\n",
       "    <tr>\n",
       "      <th>1138</th>\n",
       "      <td>QUEENS</td>\n",
       "      <td>const</td>\n",
       "      <td>1</td>\n",
       "    </tr>\n",
       "    <tr>\n",
       "      <th>559</th>\n",
       "      <td>QUEENS</td>\n",
       "      <td>BOX T</td>\n",
       "      <td>2</td>\n",
       "    </tr>\n",
       "    <tr>\n",
       "      <th>353</th>\n",
       "      <td>MANHATTAN</td>\n",
       "      <td>Ambul</td>\n",
       "      <td>7</td>\n",
       "    </tr>\n",
       "    <tr>\n",
       "      <th>311</th>\n",
       "      <td>BROOKLYN</td>\n",
       "      <td>MB</td>\n",
       "      <td>8</td>\n",
       "    </tr>\n",
       "    <tr>\n",
       "      <th>27</th>\n",
       "      <td>MANHATTAN</td>\n",
       "      <td>Bike</td>\n",
       "      <td>2060</td>\n",
       "    </tr>\n",
       "    <tr>\n",
       "      <th>870</th>\n",
       "      <td>BRONX</td>\n",
       "      <td>JOHND</td>\n",
       "      <td>1</td>\n",
       "    </tr>\n",
       "    <tr>\n",
       "      <th>358</th>\n",
       "      <td>MANHATTAN</td>\n",
       "      <td>TRK</td>\n",
       "      <td>6</td>\n",
       "    </tr>\n",
       "    <tr>\n",
       "      <th>1234</th>\n",
       "      <td>BROOKLYN</td>\n",
       "      <td>WAGON</td>\n",
       "      <td>1</td>\n",
       "    </tr>\n",
       "  </tbody>\n",
       "</table>\n",
       "</div>"
      ],
      "text/plain": [
       "            BOROUGH     VEHICLE     0\n",
       "1356      MANHATTAN  Glass Rack     1\n",
       "1065  STATEN ISLAND       garba     1\n",
       "1138         QUEENS       const     1\n",
       "559          QUEENS       BOX T     2\n",
       "353       MANHATTAN       Ambul     7\n",
       "311        BROOKLYN          MB     8\n",
       "27        MANHATTAN        Bike  2060\n",
       "870           BRONX       JOHND     1\n",
       "358       MANHATTAN         TRK     6\n",
       "1234       BROOKLYN       WAGON     1"
      ]
     },
     "execution_count": 159,
     "metadata": {},
     "output_type": "execute_result"
    }
   ],
   "source": [
    "#Obtenemos el rid de estos\n",
    "final_df=no_rep_vehicles.groupby(['BOROUGH','VEHICLE']).size().sort_values(ascending=False).reset_index()\n",
    "final_df.sample(10)"
   ]
  },
  {
   "cell_type": "code",
   "execution_count": 164,
   "metadata": {},
   "outputs": [
    {
     "data": {
      "text/html": [
       "<div>\n",
       "<style scoped>\n",
       "    .dataframe tbody tr th:only-of-type {\n",
       "        vertical-align: middle;\n",
       "    }\n",
       "\n",
       "    .dataframe tbody tr th {\n",
       "        vertical-align: top;\n",
       "    }\n",
       "\n",
       "    .dataframe thead th {\n",
       "        text-align: right;\n",
       "    }\n",
       "</style>\n",
       "<table border=\"1\" class=\"dataframe\">\n",
       "  <thead>\n",
       "    <tr style=\"text-align: right;\">\n",
       "      <th></th>\n",
       "      <th></th>\n",
       "      <th>0</th>\n",
       "    </tr>\n",
       "    <tr>\n",
       "      <th>BOROUGH</th>\n",
       "      <th>VEHICLE</th>\n",
       "      <th></th>\n",
       "    </tr>\n",
       "  </thead>\n",
       "  <tbody>\n",
       "    <tr>\n",
       "      <th rowspan=\"5\" valign=\"top\">BRONX</th>\n",
       "      <th>3-Door</th>\n",
       "      <td>25</td>\n",
       "    </tr>\n",
       "    <tr>\n",
       "      <th>38AB-</th>\n",
       "      <td>1</td>\n",
       "    </tr>\n",
       "    <tr>\n",
       "      <th>3D</th>\n",
       "      <td>3</td>\n",
       "    </tr>\n",
       "    <tr>\n",
       "      <th>ACCES</th>\n",
       "      <td>2</td>\n",
       "    </tr>\n",
       "    <tr>\n",
       "      <th>AM</th>\n",
       "      <td>42</td>\n",
       "    </tr>\n",
       "    <tr>\n",
       "      <th>...</th>\n",
       "      <th>...</th>\n",
       "      <td>...</td>\n",
       "    </tr>\n",
       "    <tr>\n",
       "      <th rowspan=\"5\" valign=\"top\">STATEN ISLAND</th>\n",
       "      <th>trail</th>\n",
       "      <td>3</td>\n",
       "    </tr>\n",
       "    <tr>\n",
       "      <th>truck</th>\n",
       "      <td>1</td>\n",
       "    </tr>\n",
       "    <tr>\n",
       "      <th>unkno</th>\n",
       "      <td>2</td>\n",
       "    </tr>\n",
       "    <tr>\n",
       "      <th>usps</th>\n",
       "      <td>1</td>\n",
       "    </tr>\n",
       "    <tr>\n",
       "      <th>van t</th>\n",
       "      <td>1</td>\n",
       "    </tr>\n",
       "  </tbody>\n",
       "</table>\n",
       "<p>1370 rows × 1 columns</p>\n",
       "</div>"
      ],
      "text/plain": [
       "                        0\n",
       "BOROUGH       VEHICLE    \n",
       "BRONX         3-Door   25\n",
       "              38AB-     1\n",
       "              3D        3\n",
       "              ACCES     2\n",
       "              AM       42\n",
       "...                    ..\n",
       "STATEN ISLAND trail     3\n",
       "              truck     1\n",
       "              unkno     2\n",
       "              usps      1\n",
       "              van t     1\n",
       "\n",
       "[1370 rows x 1 columns]"
      ]
     },
     "execution_count": 164,
     "metadata": {},
     "output_type": "execute_result"
    }
   ],
   "source": [
    "final_df.groupby(['BOROUGH','VEHICLE']).max()"
   ]
  },
  {
   "cell_type": "markdown",
   "metadata": {},
   "source": [
    "## De otra forma"
   ]
  },
  {
   "cell_type": "code",
   "execution_count": 148,
   "metadata": {},
   "outputs": [
    {
     "data": {
      "text/html": [
       "<div>\n",
       "<style scoped>\n",
       "    .dataframe tbody tr th:only-of-type {\n",
       "        vertical-align: middle;\n",
       "    }\n",
       "\n",
       "    .dataframe tbody tr th {\n",
       "        vertical-align: top;\n",
       "    }\n",
       "\n",
       "    .dataframe thead th {\n",
       "        text-align: right;\n",
       "    }\n",
       "</style>\n",
       "<table border=\"1\" class=\"dataframe\">\n",
       "  <thead>\n",
       "    <tr style=\"text-align: right;\">\n",
       "      <th></th>\n",
       "      <th>BOROUGH</th>\n",
       "      <th>VEHICLE TYPE CODE 1</th>\n",
       "      <th>VEHICLE TYPE CODE 2</th>\n",
       "      <th>VEHICLE TYPE CODE 3</th>\n",
       "      <th>VEHICLE TYPE CODE 4</th>\n",
       "      <th>VEHICLE TYPE CODE 5</th>\n",
       "    </tr>\n",
       "  </thead>\n",
       "  <tbody>\n",
       "    <tr>\n",
       "      <th>0</th>\n",
       "      <td>BRONX</td>\n",
       "      <td>Sedan</td>\n",
       "      <td>NaN</td>\n",
       "      <td>NaN</td>\n",
       "      <td>NaN</td>\n",
       "      <td>NaN</td>\n",
       "    </tr>\n",
       "    <tr>\n",
       "      <th>1</th>\n",
       "      <td>BROOKLYN</td>\n",
       "      <td>Sedan</td>\n",
       "      <td>NaN</td>\n",
       "      <td>NaN</td>\n",
       "      <td>NaN</td>\n",
       "      <td>NaN</td>\n",
       "    </tr>\n",
       "    <tr>\n",
       "      <th>2</th>\n",
       "      <td>QUEENS</td>\n",
       "      <td>Sedan</td>\n",
       "      <td>NaN</td>\n",
       "      <td>NaN</td>\n",
       "      <td>NaN</td>\n",
       "      <td>NaN</td>\n",
       "    </tr>\n",
       "    <tr>\n",
       "      <th>3</th>\n",
       "      <td>QUEENS</td>\n",
       "      <td>Bike</td>\n",
       "      <td>Station Wagon/Sport Utility Vehicle</td>\n",
       "      <td>NaN</td>\n",
       "      <td>NaN</td>\n",
       "      <td>NaN</td>\n",
       "    </tr>\n",
       "    <tr>\n",
       "      <th>4</th>\n",
       "      <td>BRONX</td>\n",
       "      <td>Sedan</td>\n",
       "      <td>Sedan</td>\n",
       "      <td>NaN</td>\n",
       "      <td>NaN</td>\n",
       "      <td>NaN</td>\n",
       "    </tr>\n",
       "  </tbody>\n",
       "</table>\n",
       "</div>"
      ],
      "text/plain": [
       "    BOROUGH VEHICLE TYPE CODE 1                  VEHICLE TYPE CODE 2  \\\n",
       "0     BRONX               Sedan                                  NaN   \n",
       "1  BROOKLYN               Sedan                                  NaN   \n",
       "2    QUEENS               Sedan                                  NaN   \n",
       "3    QUEENS                Bike  Station Wagon/Sport Utility Vehicle   \n",
       "4     BRONX               Sedan                                Sedan   \n",
       "\n",
       "  VEHICLE TYPE CODE 3 VEHICLE TYPE CODE 4 VEHICLE TYPE CODE 5  \n",
       "0                 NaN                 NaN                 NaN  \n",
       "1                 NaN                 NaN                 NaN  \n",
       "2                 NaN                 NaN                 NaN  \n",
       "3                 NaN                 NaN                 NaN  \n",
       "4                 NaN                 NaN                 NaN  "
      ]
     },
     "execution_count": 148,
     "metadata": {},
     "output_type": "execute_result"
    }
   ],
   "source": [
    "#Primero, se crea un dataframe con los vehículos presentes en el accidente\n",
    "vehiculo=pd.concat([df['BOROUGH'],df['VEHICLE TYPE CODE 1'],df['VEHICLE TYPE CODE 2'],\n",
    "                  df['VEHICLE TYPE CODE 3'],df['VEHICLE TYPE CODE 4'],df['VEHICLE TYPE CODE 5']],axis=1)\n",
    "vehiculo.head()"
   ]
  },
  {
   "cell_type": "code",
   "execution_count": 151,
   "metadata": {},
   "outputs": [],
   "source": [
    "carro_accidente=vehiculo.groupby('BOROUGH')"
   ]
  },
  {
   "cell_type": "code",
   "execution_count": 152,
   "metadata": {},
   "outputs": [
    {
     "data": {
      "text/plain": [
       "Index(['BOROUGH', 'VEHICLE TYPE CODE 1', 'VEHICLE TYPE CODE 2',\n",
       "       'VEHICLE TYPE CODE 3', 'VEHICLE TYPE CODE 4', 'VEHICLE TYPE CODE 5'],\n",
       "      dtype='object')"
      ]
     },
     "execution_count": 152,
     "metadata": {},
     "output_type": "execute_result"
    }
   ],
   "source": [
    "columns=vehiculo.columns\n",
    "columns"
   ]
  },
  {
   "cell_type": "code",
   "execution_count": null,
   "metadata": {},
   "outputs": [],
   "source": [
    "for index,new_frame in carro_accidente:\n",
    "    "
   ]
  },
  {
   "cell_type": "code",
   "execution_count": 64,
   "metadata": {},
   "outputs": [],
   "source": [
    "vehiculo['accidentes'] =vehiculo.apply(lambda x: set([x[column] for column in columns if x[column]]), axis=1)\n",
    "factors_count = {}\n",
    "for index, row in vehiculo.iterrows():\n",
    "    for factor in row['accidentes']:\n",
    "        count = factors_count.get(factor, 0)\n",
    "        count += 1\n",
    "        factors_count[factor] = count\n",
    "factor_count = sorted(factors_count.items(), key=lambda x: x[1], reverse=True)"
   ]
  },
  {
   "cell_type": "code",
   "execution_count": 67,
   "metadata": {},
   "outputs": [
    {
     "ename": "TypeError",
     "evalue": "unhashable type: 'set'",
     "output_type": "error",
     "traceback": [
      "\u001b[1;31m---------------------------------------------------------------------------\u001b[0m",
      "\u001b[1;31mTypeError\u001b[0m                                 Traceback (most recent call last)",
      "\u001b[1;32mpandas\\_libs\\hashtable_class_helper.pxi\u001b[0m in \u001b[0;36mpandas._libs.hashtable.PyObjectHashTable.map_locations\u001b[1;34m()\u001b[0m\n",
      "\u001b[1;31mTypeError\u001b[0m: unhashable type: 'set'"
     ]
    },
    {
     "name": "stderr",
     "output_type": "stream",
     "text": [
      "Exception ignored in: 'pandas._libs.index.IndexEngine._call_map_locations'\n",
      "Traceback (most recent call last):\n",
      "  File \"pandas\\_libs\\hashtable_class_helper.pxi\", line 1709, in pandas._libs.hashtable.PyObjectHashTable.map_locations\n",
      "TypeError: unhashable type: 'set'\n"
     ]
    },
    {
     "data": {
      "text/plain": [
       "{nan, Sedan}                                               50390\n",
       "{nan, Sedan, Station Wagon/Sport Utility Vehicle}          43513\n",
       "{nan, Station Wagon/Sport Utility Vehicle}                 36138\n",
       "{nan, PASSENGER VEHICLE}                                   13928\n",
       "{nan, PASSENGER VEHICLE, SPORT UTILITY / STATION WAGON}    10949\n",
       "                                                           ...  \n",
       "{nan, Sedan, dumps}                                            1\n",
       "{nan, Armored Truck, Sedan, Flat Bed}                          1\n",
       "{nan, anbul, Station Wagon/Sport Utility Vehicle}              1\n",
       "{nan, mc}                                                      1\n",
       "{nan, Pick-up Truck, LTRL}                                     1\n",
       "Name: accidentes, Length: 2246, dtype: int64"
      ]
     },
     "execution_count": 67,
     "metadata": {},
     "output_type": "execute_result"
    }
   ],
   "source": [
    "freq_accidente=vehiculo['accidentes'].value_counts()\n",
    "freq_accidente"
   ]
  },
  {
   "cell_type": "markdown",
   "metadata": {},
   "source": [
    "Los vehículos más involucrados en accidentes son:\n",
    "* {nan, Sedan}                                               50390\n",
    "* {nan, Sedan, Station Wagon/Sport Utility Vehicle}          43513\n",
    "* {nan, Station Wagon/Sport Utility Vehicle}                 36138\n",
    "* {nan, PASSENGER VEHICLE}                                   13928\n",
    "* {nan, PASSENGER VEHICLE, SPORT UTILITY / STATION WAGON}    10949"
   ]
  },
  {
   "cell_type": "code",
   "execution_count": 71,
   "metadata": {},
   "outputs": [
    {
     "data": {
      "text/plain": [
       "pandas.core.series.Series"
      ]
     },
     "execution_count": 71,
     "metadata": {},
     "output_type": "execute_result"
    }
   ],
   "source": [
    "type(freq_accidente)"
   ]
  },
  {
   "cell_type": "code",
   "execution_count": 72,
   "metadata": {},
   "outputs": [
    {
     "data": {
      "text/html": [
       "<div>\n",
       "<style scoped>\n",
       "    .dataframe tbody tr th:only-of-type {\n",
       "        vertical-align: middle;\n",
       "    }\n",
       "\n",
       "    .dataframe tbody tr th {\n",
       "        vertical-align: top;\n",
       "    }\n",
       "\n",
       "    .dataframe thead th {\n",
       "        text-align: right;\n",
       "    }\n",
       "</style>\n",
       "<table border=\"1\" class=\"dataframe\">\n",
       "  <thead>\n",
       "    <tr style=\"text-align: right;\">\n",
       "      <th></th>\n",
       "      <th>VEHICLE TYPE CODE 1</th>\n",
       "      <th>VEHICLE TYPE CODE 2</th>\n",
       "      <th>VEHICLE TYPE CODE 3</th>\n",
       "      <th>VEHICLE TYPE CODE 4</th>\n",
       "      <th>VEHICLE TYPE CODE 5</th>\n",
       "      <th>accidentes</th>\n",
       "      <th>Municipio</th>\n",
       "    </tr>\n",
       "  </thead>\n",
       "  <tbody>\n",
       "    <tr>\n",
       "      <th>0</th>\n",
       "      <td>Sedan</td>\n",
       "      <td>NaN</td>\n",
       "      <td>NaN</td>\n",
       "      <td>NaN</td>\n",
       "      <td>NaN</td>\n",
       "      <td>{nan, Sedan}</td>\n",
       "      <td>BRONX</td>\n",
       "    </tr>\n",
       "    <tr>\n",
       "      <th>1</th>\n",
       "      <td>Sedan</td>\n",
       "      <td>NaN</td>\n",
       "      <td>NaN</td>\n",
       "      <td>NaN</td>\n",
       "      <td>NaN</td>\n",
       "      <td>{nan, Sedan}</td>\n",
       "      <td>BROOKLYN</td>\n",
       "    </tr>\n",
       "    <tr>\n",
       "      <th>2</th>\n",
       "      <td>Sedan</td>\n",
       "      <td>NaN</td>\n",
       "      <td>NaN</td>\n",
       "      <td>NaN</td>\n",
       "      <td>NaN</td>\n",
       "      <td>{nan, Sedan}</td>\n",
       "      <td>QUEENS</td>\n",
       "    </tr>\n",
       "    <tr>\n",
       "      <th>3</th>\n",
       "      <td>Bike</td>\n",
       "      <td>Station Wagon/Sport Utility Vehicle</td>\n",
       "      <td>NaN</td>\n",
       "      <td>NaN</td>\n",
       "      <td>NaN</td>\n",
       "      <td>{nan, Bike, Station Wagon/Sport Utility Vehicle}</td>\n",
       "      <td>QUEENS</td>\n",
       "    </tr>\n",
       "    <tr>\n",
       "      <th>4</th>\n",
       "      <td>Sedan</td>\n",
       "      <td>Sedan</td>\n",
       "      <td>NaN</td>\n",
       "      <td>NaN</td>\n",
       "      <td>NaN</td>\n",
       "      <td>{nan, Sedan}</td>\n",
       "      <td>BRONX</td>\n",
       "    </tr>\n",
       "  </tbody>\n",
       "</table>\n",
       "</div>"
      ],
      "text/plain": [
       "  VEHICLE TYPE CODE 1                  VEHICLE TYPE CODE 2  \\\n",
       "0               Sedan                                  NaN   \n",
       "1               Sedan                                  NaN   \n",
       "2               Sedan                                  NaN   \n",
       "3                Bike  Station Wagon/Sport Utility Vehicle   \n",
       "4               Sedan                                Sedan   \n",
       "\n",
       "  VEHICLE TYPE CODE 3 VEHICLE TYPE CODE 4 VEHICLE TYPE CODE 5  \\\n",
       "0                 NaN                 NaN                 NaN   \n",
       "1                 NaN                 NaN                 NaN   \n",
       "2                 NaN                 NaN                 NaN   \n",
       "3                 NaN                 NaN                 NaN   \n",
       "4                 NaN                 NaN                 NaN   \n",
       "\n",
       "                                         accidentes Municipio  \n",
       "0                                      {nan, Sedan}     BRONX  \n",
       "1                                      {nan, Sedan}  BROOKLYN  \n",
       "2                                      {nan, Sedan}    QUEENS  \n",
       "3  {nan, Bike, Station Wagon/Sport Utility Vehicle}    QUEENS  \n",
       "4                                      {nan, Sedan}     BRONX  "
      ]
     },
     "execution_count": 72,
     "metadata": {},
     "output_type": "execute_result"
    }
   ],
   "source": [
    "vehiculo['Municipio']=df['BOROUGH']\n",
    "vehiculo.head()"
   ]
  },
  {
   "cell_type": "code",
   "execution_count": 131,
   "metadata": {
    "scrolled": true
   },
   "outputs": [
    {
     "data": {
      "text/html": [
       "<div>\n",
       "<style scoped>\n",
       "    .dataframe tbody tr th:only-of-type {\n",
       "        vertical-align: middle;\n",
       "    }\n",
       "\n",
       "    .dataframe tbody tr th {\n",
       "        vertical-align: top;\n",
       "    }\n",
       "\n",
       "    .dataframe thead th {\n",
       "        text-align: right;\n",
       "    }\n",
       "</style>\n",
       "<table border=\"1\" class=\"dataframe\">\n",
       "  <thead>\n",
       "    <tr style=\"text-align: right;\">\n",
       "      <th></th>\n",
       "      <th>Municipio</th>\n",
       "      <th>accidentes</th>\n",
       "    </tr>\n",
       "  </thead>\n",
       "  <tbody>\n",
       "    <tr>\n",
       "      <th>0</th>\n",
       "      <td>BRONX</td>\n",
       "      <td>{nan, Sedan}</td>\n",
       "    </tr>\n",
       "    <tr>\n",
       "      <th>1</th>\n",
       "      <td>BROOKLYN</td>\n",
       "      <td>{nan, Sedan}</td>\n",
       "    </tr>\n",
       "    <tr>\n",
       "      <th>2</th>\n",
       "      <td>QUEENS</td>\n",
       "      <td>{nan, Sedan}</td>\n",
       "    </tr>\n",
       "    <tr>\n",
       "      <th>3</th>\n",
       "      <td>QUEENS</td>\n",
       "      <td>{nan, Bike, Station Wagon/Sport Utility Vehicle}</td>\n",
       "    </tr>\n",
       "    <tr>\n",
       "      <th>4</th>\n",
       "      <td>BRONX</td>\n",
       "      <td>{nan, Sedan}</td>\n",
       "    </tr>\n",
       "    <tr>\n",
       "      <th>...</th>\n",
       "      <td>...</td>\n",
       "      <td>...</td>\n",
       "    </tr>\n",
       "    <tr>\n",
       "      <th>238517</th>\n",
       "      <td>QUEENS</td>\n",
       "      <td>{nan, PASSENGER VEHICLE, SPORT UTILITY / STATI...</td>\n",
       "    </tr>\n",
       "    <tr>\n",
       "      <th>238518</th>\n",
       "      <td>BRONX</td>\n",
       "      <td>{nan, SPORT UTILITY / STATION WAGON}</td>\n",
       "    </tr>\n",
       "    <tr>\n",
       "      <th>238519</th>\n",
       "      <td>BRONX</td>\n",
       "      <td>{nan, PASSENGER VEHICLE, SPORT UTILITY / STATI...</td>\n",
       "    </tr>\n",
       "    <tr>\n",
       "      <th>238520</th>\n",
       "      <td>QUEENS</td>\n",
       "      <td>{nan, PASSENGER VEHICLE, SPORT UTILITY / STATI...</td>\n",
       "    </tr>\n",
       "    <tr>\n",
       "      <th>238521</th>\n",
       "      <td>BROOKLYN</td>\n",
       "      <td>{nan, SPORT UTILITY / STATION WAGON}</td>\n",
       "    </tr>\n",
       "  </tbody>\n",
       "</table>\n",
       "<p>238522 rows × 2 columns</p>\n",
       "</div>"
      ],
      "text/plain": [
       "       Municipio                                         accidentes\n",
       "0          BRONX                                       {nan, Sedan}\n",
       "1       BROOKLYN                                       {nan, Sedan}\n",
       "2         QUEENS                                       {nan, Sedan}\n",
       "3         QUEENS   {nan, Bike, Station Wagon/Sport Utility Vehicle}\n",
       "4          BRONX                                       {nan, Sedan}\n",
       "...          ...                                                ...\n",
       "238517    QUEENS  {nan, PASSENGER VEHICLE, SPORT UTILITY / STATI...\n",
       "238518     BRONX               {nan, SPORT UTILITY / STATION WAGON}\n",
       "238519     BRONX  {nan, PASSENGER VEHICLE, SPORT UTILITY / STATI...\n",
       "238520    QUEENS  {nan, PASSENGER VEHICLE, SPORT UTILITY / STATI...\n",
       "238521  BROOKLYN               {nan, SPORT UTILITY / STATION WAGON}\n",
       "\n",
       "[238522 rows x 2 columns]"
      ]
     },
     "execution_count": 131,
     "metadata": {},
     "output_type": "execute_result"
    }
   ],
   "source": [
    "import numpy as np\n",
    "accidente_municipio= vehiculo[['Municipio','accidentes']]\n",
    "accidente_municipio"
   ]
  },
  {
   "cell_type": "markdown",
   "metadata": {},
   "source": [
    "Lo malo de esta forma, es que no logré que me contara por municipios T_T"
   ]
  },
  {
   "cell_type": "markdown",
   "metadata": {},
   "source": [
    "### Exercise 11 (15 min):\n",
    "\n",
    "En 2018 para una [entrevista](https://www.nytimes.com/2019/01/01/nyregion/traffic-deaths-decrease-nyc.html) con The New York Times, el alcalde de Blasio de Nueva York declaró que *'Vision Zero está funcionando claramente'*. Ese año, el número de muertes en accidentes de tráfico en Nueva York se redujo a un histórico 202. Sin embargo, según lo informado por [am New York Metro](https://www.amny.com/news/vision-zero-de-blasio- 1-30707464 /), el número de víctimas mortales ha aumentado un 30% en el primer trimestre de 2019 en comparación con el año anterior y el número de peatones y ciclistas heridos no ha experimentado ninguna mejora.\n",
    "\n",
    "¿Cómo utilizaría los datos proporcionados para comprender qué salió mal en el primer trimestre de 2019?\n",
    "\n",
    "\n",
    "> - [ ] Considere los accidentes del primer trimestre de 2019. Luego, busque las causas más comunes de accidentes en los que estuvieron involucrados peatones y ciclistas. Dé una recomendación basada únicamente en esta información.\n",
    "\n",
    "> - [X] Cree un par de mapas de calor de los accidentes que involucraron a peatones y ciclistas lesionados / muertos en el primer trimestre de 2018 y 2019. Compare estos dos para ver si hay algún cambio en la concentración de accidentes. En áreas críticas, estudie el tipo de factores involucrados en los accidentes. Los datos mostraron los accidentes que involucraron vehículos lugares, pero no las causas de por qué se accidentaron de parte de peatones y ciclistas (vias inadecuadas, peatones escuchando música y no prestando atención). Es necesario estudiar a profundidad el problema   \n",
    "\n",
    "> - [ ] Los datos proporcionados son insuficientes para mejorar nuestra comprensión de la situación.\n",
    "\n",
    "> - [ ] Ninguna de las anteriores. "
   ]
  },
  {
   "cell_type": "markdown",
   "metadata": {},
   "source": [
    "**Answer.**\n"
   ]
  },
  {
   "cell_type": "code",
   "execution_count": null,
   "metadata": {},
   "outputs": [],
   "source": []
  },
  {
   "cell_type": "markdown",
   "metadata": {},
   "source": [
    "### Exercise 12 (45 min):\n",
    "\n",
    "Calcula el número de muertes provocadas por cada tipo de vehículo. Trace un gráfico de barras para los 5 vehículos principales. ¿Qué vehículos están involucrados con mayor frecuencia en las muertes y cuánto más que los demás?\n",
    "\n",
    "**Por ejemplo,** si dos personas murieron en un accidente en el que estuvieron involucrados 5 vehículos: 4 son VEHÍCULOS DE PASAJEROS y 1 es un VAGÓN DEPORTIVO / ESTACIÓN. Luego, agregaríamos dos muertes a cada tipo de VEHÍCULO DE PASAJEROS y VAGÓN DE ESTACIÓN / SERVICIO DEPORTIVO.\n",
    "\n",
    "**Sugerencia:** Es posible que desee crear una nueva columna con el número total de muertes en el accidente. Para eso, puede encontrar útil la función ```.to_numpy()```. Luego, proceda como los ejercicios anteriores para evitar contabilizar dos veces el tipo de vehículos."
   ]
  },
  {
   "cell_type": "markdown",
   "metadata": {},
   "source": [
    "**Answer.**"
   ]
  },
  {
   "cell_type": "code",
   "execution_count": 91,
   "metadata": {},
   "outputs": [
    {
     "data": {
      "text/plain": [
       "Index(['DATE', 'TIME', 'BOROUGH', 'ZIP CODE', 'LATITUDE', 'LONGITUDE',\n",
       "       'ON STREET NAME', 'NUMBER OF PEDESTRIANS INJURED',\n",
       "       'NUMBER OF PEDESTRIANS KILLED', 'NUMBER OF CYCLIST INJURED',\n",
       "       'NUMBER OF CYCLIST KILLED', 'NUMBER OF MOTORIST INJURED',\n",
       "       'NUMBER OF MOTORIST KILLED', 'CONTRIBUTING FACTOR VEHICLE 1',\n",
       "       'CONTRIBUTING FACTOR VEHICLE 2', 'CONTRIBUTING FACTOR VEHICLE 3',\n",
       "       'CONTRIBUTING FACTOR VEHICLE 4', 'CONTRIBUTING FACTOR VEHICLE 5',\n",
       "       'COLLISION_ID', 'VEHICLE TYPE CODE 1', 'VEHICLE TYPE CODE 2',\n",
       "       'VEHICLE TYPE CODE 3', 'VEHICLE TYPE CODE 4', 'VEHICLE TYPE CODE 5',\n",
       "       'HOUR', 'WEEK'],\n",
       "      dtype='object')"
      ]
     },
     "execution_count": 91,
     "metadata": {},
     "output_type": "execute_result"
    }
   ],
   "source": [
    "df.columns"
   ]
  },
  {
   "cell_type": "markdown",
   "metadata": {},
   "source": []
  },
  {
   "cell_type": "code",
   "execution_count": 129,
   "metadata": {},
   "outputs": [
    {
     "name": "stderr",
     "output_type": "stream",
     "text": [
      "<ipython-input-129-06dd6c5dcb98>:4: SettingWithCopyWarning: \n",
      "A value is trying to be set on a copy of a slice from a DataFrame.\n",
      "Try using .loc[row_indexer,col_indexer] = value instead\n",
      "\n",
      "See the caveats in the documentation: https://pandas.pydata.org/pandas-docs/stable/user_guide/indexing.html#returning-a-view-versus-a-copy\n",
      "  dead['TOTAL KILLS']=df[['NUMBER OF CYCLIST KILLED','NUMBER OF PEDESTRIANS KILLED']].sum(axis=1)\n"
     ]
    },
    {
     "data": {
      "text/html": [
       "<div>\n",
       "<style scoped>\n",
       "    .dataframe tbody tr th:only-of-type {\n",
       "        vertical-align: middle;\n",
       "    }\n",
       "\n",
       "    .dataframe tbody tr th {\n",
       "        vertical-align: top;\n",
       "    }\n",
       "\n",
       "    .dataframe thead th {\n",
       "        text-align: right;\n",
       "    }\n",
       "</style>\n",
       "<table border=\"1\" class=\"dataframe\">\n",
       "  <thead>\n",
       "    <tr style=\"text-align: right;\">\n",
       "      <th></th>\n",
       "      <th>NUMBER OF CYCLIST KILLED</th>\n",
       "      <th>NUMBER OF PEDESTRIANS KILLED</th>\n",
       "      <th>TOTAL KILLS</th>\n",
       "    </tr>\n",
       "  </thead>\n",
       "  <tbody>\n",
       "    <tr>\n",
       "      <th>100897</th>\n",
       "      <td>0</td>\n",
       "      <td>0</td>\n",
       "      <td>0</td>\n",
       "    </tr>\n",
       "    <tr>\n",
       "      <th>46386</th>\n",
       "      <td>0</td>\n",
       "      <td>0</td>\n",
       "      <td>0</td>\n",
       "    </tr>\n",
       "    <tr>\n",
       "      <th>201790</th>\n",
       "      <td>0</td>\n",
       "      <td>0</td>\n",
       "      <td>0</td>\n",
       "    </tr>\n",
       "    <tr>\n",
       "      <th>10495</th>\n",
       "      <td>0</td>\n",
       "      <td>0</td>\n",
       "      <td>0</td>\n",
       "    </tr>\n",
       "    <tr>\n",
       "      <th>105556</th>\n",
       "      <td>0</td>\n",
       "      <td>0</td>\n",
       "      <td>0</td>\n",
       "    </tr>\n",
       "    <tr>\n",
       "      <th>34305</th>\n",
       "      <td>0</td>\n",
       "      <td>0</td>\n",
       "      <td>0</td>\n",
       "    </tr>\n",
       "    <tr>\n",
       "      <th>205107</th>\n",
       "      <td>0</td>\n",
       "      <td>0</td>\n",
       "      <td>0</td>\n",
       "    </tr>\n",
       "    <tr>\n",
       "      <th>58620</th>\n",
       "      <td>0</td>\n",
       "      <td>0</td>\n",
       "      <td>0</td>\n",
       "    </tr>\n",
       "    <tr>\n",
       "      <th>230954</th>\n",
       "      <td>0</td>\n",
       "      <td>0</td>\n",
       "      <td>0</td>\n",
       "    </tr>\n",
       "    <tr>\n",
       "      <th>167013</th>\n",
       "      <td>0</td>\n",
       "      <td>0</td>\n",
       "      <td>0</td>\n",
       "    </tr>\n",
       "  </tbody>\n",
       "</table>\n",
       "</div>"
      ],
      "text/plain": [
       "        NUMBER OF CYCLIST KILLED  NUMBER OF PEDESTRIANS KILLED  TOTAL KILLS\n",
       "100897                         0                             0            0\n",
       "46386                          0                             0            0\n",
       "201790                         0                             0            0\n",
       "10495                          0                             0            0\n",
       "105556                         0                             0            0\n",
       "34305                          0                             0            0\n",
       "205107                         0                             0            0\n",
       "58620                          0                             0            0\n",
       "230954                         0                             0            0\n",
       "167013                         0                             0            0"
      ]
     },
     "execution_count": 129,
     "metadata": {},
     "output_type": "execute_result"
    }
   ],
   "source": [
    "ciclistas_dead=df['NUMBER OF CYCLIST KILLED']\n",
    "peatones_dead=df['NUMBER OF PEDESTRIANS KILLED']\n",
    "dead=df[['NUMBER OF CYCLIST KILLED','NUMBER OF PEDESTRIANS KILLED']]\n",
    "dead['TOTAL KILLS']=df[['NUMBER OF CYCLIST KILLED','NUMBER OF PEDESTRIANS KILLED']].sum(axis=1)\n",
    "dead.sample(10)"
   ]
  },
  {
   "cell_type": "code",
   "execution_count": 132,
   "metadata": {},
   "outputs": [
    {
     "name": "stderr",
     "output_type": "stream",
     "text": [
      "<ipython-input-132-a1d435f3e8a5>:1: SettingWithCopyWarning: \n",
      "A value is trying to be set on a copy of a slice from a DataFrame.\n",
      "Try using .loc[row_indexer,col_indexer] = value instead\n",
      "\n",
      "See the caveats in the documentation: https://pandas.pydata.org/pandas-docs/stable/user_guide/indexing.html#returning-a-view-versus-a-copy\n",
      "  dead['ACCIDENTS']=vehiculo['accidentes']\n"
     ]
    },
    {
     "data": {
      "text/html": [
       "<div>\n",
       "<style scoped>\n",
       "    .dataframe tbody tr th:only-of-type {\n",
       "        vertical-align: middle;\n",
       "    }\n",
       "\n",
       "    .dataframe tbody tr th {\n",
       "        vertical-align: top;\n",
       "    }\n",
       "\n",
       "    .dataframe thead th {\n",
       "        text-align: right;\n",
       "    }\n",
       "</style>\n",
       "<table border=\"1\" class=\"dataframe\">\n",
       "  <thead>\n",
       "    <tr style=\"text-align: right;\">\n",
       "      <th></th>\n",
       "      <th>NUMBER OF CYCLIST KILLED</th>\n",
       "      <th>NUMBER OF PEDESTRIANS KILLED</th>\n",
       "      <th>TOTAL KILLS</th>\n",
       "      <th>ACCIDENTS</th>\n",
       "    </tr>\n",
       "  </thead>\n",
       "  <tbody>\n",
       "    <tr>\n",
       "      <th>0</th>\n",
       "      <td>0</td>\n",
       "      <td>0</td>\n",
       "      <td>0</td>\n",
       "      <td>{nan, Sedan}</td>\n",
       "    </tr>\n",
       "    <tr>\n",
       "      <th>1</th>\n",
       "      <td>0</td>\n",
       "      <td>0</td>\n",
       "      <td>0</td>\n",
       "      <td>{nan, Sedan}</td>\n",
       "    </tr>\n",
       "    <tr>\n",
       "      <th>2</th>\n",
       "      <td>0</td>\n",
       "      <td>0</td>\n",
       "      <td>0</td>\n",
       "      <td>{nan, Sedan}</td>\n",
       "    </tr>\n",
       "    <tr>\n",
       "      <th>3</th>\n",
       "      <td>0</td>\n",
       "      <td>0</td>\n",
       "      <td>0</td>\n",
       "      <td>{nan, Bike, Station Wagon/Sport Utility Vehicle}</td>\n",
       "    </tr>\n",
       "    <tr>\n",
       "      <th>4</th>\n",
       "      <td>0</td>\n",
       "      <td>0</td>\n",
       "      <td>0</td>\n",
       "      <td>{nan, Sedan}</td>\n",
       "    </tr>\n",
       "  </tbody>\n",
       "</table>\n",
       "</div>"
      ],
      "text/plain": [
       "   NUMBER OF CYCLIST KILLED  NUMBER OF PEDESTRIANS KILLED  TOTAL KILLS  \\\n",
       "0                         0                             0            0   \n",
       "1                         0                             0            0   \n",
       "2                         0                             0            0   \n",
       "3                         0                             0            0   \n",
       "4                         0                             0            0   \n",
       "\n",
       "                                          ACCIDENTS  \n",
       "0                                      {nan, Sedan}  \n",
       "1                                      {nan, Sedan}  \n",
       "2                                      {nan, Sedan}  \n",
       "3  {nan, Bike, Station Wagon/Sport Utility Vehicle}  \n",
       "4                                      {nan, Sedan}  "
      ]
     },
     "execution_count": 132,
     "metadata": {},
     "output_type": "execute_result"
    }
   ],
   "source": [
    "dead['ACCIDENTS']=vehiculo['accidentes']\n",
    "dead.head(5)"
   ]
  },
  {
   "cell_type": "markdown",
   "metadata": {},
   "source": []
  },
  {
   "cell_type": "code",
   "execution_count": 137,
   "metadata": {},
   "outputs": [
    {
     "data": {
      "text/html": [
       "<div>\n",
       "<style scoped>\n",
       "    .dataframe tbody tr th:only-of-type {\n",
       "        vertical-align: middle;\n",
       "    }\n",
       "\n",
       "    .dataframe tbody tr th {\n",
       "        vertical-align: top;\n",
       "    }\n",
       "\n",
       "    .dataframe thead th {\n",
       "        text-align: right;\n",
       "    }\n",
       "</style>\n",
       "<table border=\"1\" class=\"dataframe\">\n",
       "  <thead>\n",
       "    <tr style=\"text-align: right;\">\n",
       "      <th></th>\n",
       "      <th>NUMBER OF PEDESTRIANS KILLED</th>\n",
       "      <th>TOTAL KILLS</th>\n",
       "      <th>ACCIDENTS</th>\n",
       "    </tr>\n",
       "  </thead>\n",
       "  <tbody>\n",
       "    <tr>\n",
       "      <th>127</th>\n",
       "      <td>0</td>\n",
       "      <td>1</td>\n",
       "      <td>{nan, Box Truck, Bike}</td>\n",
       "    </tr>\n",
       "    <tr>\n",
       "      <th>221</th>\n",
       "      <td>0</td>\n",
       "      <td>1</td>\n",
       "      <td>{nan, Tractor Truck Diesel, Bike, Station Wago...</td>\n",
       "    </tr>\n",
       "    <tr>\n",
       "      <th>4552</th>\n",
       "      <td>1</td>\n",
       "      <td>1</td>\n",
       "      <td>{nan, Station Wagon/Sport Utility Vehicle}</td>\n",
       "    </tr>\n",
       "    <tr>\n",
       "      <th>4959</th>\n",
       "      <td>0</td>\n",
       "      <td>1</td>\n",
       "      <td>{nan, Box Truck, Bike}</td>\n",
       "    </tr>\n",
       "    <tr>\n",
       "      <th>5933</th>\n",
       "      <td>1</td>\n",
       "      <td>1</td>\n",
       "      <td>{nan, Sedan, Taxi}</td>\n",
       "    </tr>\n",
       "    <tr>\n",
       "      <th>...</th>\n",
       "      <td>...</td>\n",
       "      <td>...</td>\n",
       "      <td>...</td>\n",
       "    </tr>\n",
       "    <tr>\n",
       "      <th>232932</th>\n",
       "      <td>1</td>\n",
       "      <td>1</td>\n",
       "      <td>{nan, PASSENGER VEHICLE}</td>\n",
       "    </tr>\n",
       "    <tr>\n",
       "      <th>234955</th>\n",
       "      <td>1</td>\n",
       "      <td>1</td>\n",
       "      <td>{nan, PASSENGER VEHICLE}</td>\n",
       "    </tr>\n",
       "    <tr>\n",
       "      <th>237780</th>\n",
       "      <td>1</td>\n",
       "      <td>1</td>\n",
       "      <td>{nan, SPORT UTILITY / STATION WAGON}</td>\n",
       "    </tr>\n",
       "    <tr>\n",
       "      <th>237867</th>\n",
       "      <td>1</td>\n",
       "      <td>1</td>\n",
       "      <td>{nan, PASSENGER VEHICLE}</td>\n",
       "    </tr>\n",
       "    <tr>\n",
       "      <th>238205</th>\n",
       "      <td>0</td>\n",
       "      <td>1</td>\n",
       "      <td>{TN, nan, BICYCLE}</td>\n",
       "    </tr>\n",
       "  </tbody>\n",
       "</table>\n",
       "<p>146 rows × 3 columns</p>\n",
       "</div>"
      ],
      "text/plain": [
       "        NUMBER OF PEDESTRIANS KILLED  TOTAL KILLS  \\\n",
       "127                                0            1   \n",
       "221                                0            1   \n",
       "4552                               1            1   \n",
       "4959                               0            1   \n",
       "5933                               1            1   \n",
       "...                              ...          ...   \n",
       "232932                             1            1   \n",
       "234955                             1            1   \n",
       "237780                             1            1   \n",
       "237867                             1            1   \n",
       "238205                             0            1   \n",
       "\n",
       "                                                ACCIDENTS  \n",
       "127                                {nan, Box Truck, Bike}  \n",
       "221     {nan, Tractor Truck Diesel, Bike, Station Wago...  \n",
       "4552           {nan, Station Wagon/Sport Utility Vehicle}  \n",
       "4959                               {nan, Box Truck, Bike}  \n",
       "5933                                   {nan, Sedan, Taxi}  \n",
       "...                                                   ...  \n",
       "232932                           {nan, PASSENGER VEHICLE}  \n",
       "234955                           {nan, PASSENGER VEHICLE}  \n",
       "237780               {nan, SPORT UTILITY / STATION WAGON}  \n",
       "237867                           {nan, PASSENGER VEHICLE}  \n",
       "238205                                 {TN, nan, BICYCLE}  \n",
       "\n",
       "[146 rows x 3 columns]"
      ]
     },
     "execution_count": 137,
     "metadata": {},
     "output_type": "execute_result"
    }
   ],
   "source": [
    "muertos=dead.loc[dead['TOTAL KILLS']>0]\n",
    "del muertos['NUMBER OF CYCLIST KILLED']\n",
    "muertos"
   ]
  },
  {
   "cell_type": "code",
   "execution_count": 145,
   "metadata": {},
   "outputs": [
    {
     "data": {
      "text/html": [
       "<div>\n",
       "<style scoped>\n",
       "    .dataframe tbody tr th:only-of-type {\n",
       "        vertical-align: middle;\n",
       "    }\n",
       "\n",
       "    .dataframe tbody tr th {\n",
       "        vertical-align: top;\n",
       "    }\n",
       "\n",
       "    .dataframe thead th {\n",
       "        text-align: right;\n",
       "    }\n",
       "</style>\n",
       "<table border=\"1\" class=\"dataframe\">\n",
       "  <thead>\n",
       "    <tr style=\"text-align: right;\">\n",
       "      <th></th>\n",
       "      <th>TOTAL KILLS</th>\n",
       "      <th>ACCIDENTS</th>\n",
       "    </tr>\n",
       "  </thead>\n",
       "  <tbody>\n",
       "    <tr>\n",
       "      <th>127</th>\n",
       "      <td>1</td>\n",
       "      <td>{nan, Box Truck, Bike}</td>\n",
       "    </tr>\n",
       "    <tr>\n",
       "      <th>221</th>\n",
       "      <td>1</td>\n",
       "      <td>{nan, Tractor Truck Diesel, Bike, Station Wago...</td>\n",
       "    </tr>\n",
       "    <tr>\n",
       "      <th>4552</th>\n",
       "      <td>1</td>\n",
       "      <td>{nan, Station Wagon/Sport Utility Vehicle}</td>\n",
       "    </tr>\n",
       "    <tr>\n",
       "      <th>4959</th>\n",
       "      <td>1</td>\n",
       "      <td>{nan, Box Truck, Bike}</td>\n",
       "    </tr>\n",
       "    <tr>\n",
       "      <th>5933</th>\n",
       "      <td>1</td>\n",
       "      <td>{nan, Sedan, Taxi}</td>\n",
       "    </tr>\n",
       "    <tr>\n",
       "      <th>...</th>\n",
       "      <td>...</td>\n",
       "      <td>...</td>\n",
       "    </tr>\n",
       "    <tr>\n",
       "      <th>232932</th>\n",
       "      <td>1</td>\n",
       "      <td>{nan, PASSENGER VEHICLE}</td>\n",
       "    </tr>\n",
       "    <tr>\n",
       "      <th>234955</th>\n",
       "      <td>1</td>\n",
       "      <td>{nan, PASSENGER VEHICLE}</td>\n",
       "    </tr>\n",
       "    <tr>\n",
       "      <th>237780</th>\n",
       "      <td>1</td>\n",
       "      <td>{nan, SPORT UTILITY / STATION WAGON}</td>\n",
       "    </tr>\n",
       "    <tr>\n",
       "      <th>237867</th>\n",
       "      <td>1</td>\n",
       "      <td>{nan, PASSENGER VEHICLE}</td>\n",
       "    </tr>\n",
       "    <tr>\n",
       "      <th>238205</th>\n",
       "      <td>1</td>\n",
       "      <td>{TN, nan, BICYCLE}</td>\n",
       "    </tr>\n",
       "  </tbody>\n",
       "</table>\n",
       "<p>146 rows × 2 columns</p>\n",
       "</div>"
      ],
      "text/plain": [
       "        TOTAL KILLS                                          ACCIDENTS\n",
       "127               1                             {nan, Box Truck, Bike}\n",
       "221               1  {nan, Tractor Truck Diesel, Bike, Station Wago...\n",
       "4552              1         {nan, Station Wagon/Sport Utility Vehicle}\n",
       "4959              1                             {nan, Box Truck, Bike}\n",
       "5933              1                                 {nan, Sedan, Taxi}\n",
       "...             ...                                                ...\n",
       "232932            1                           {nan, PASSENGER VEHICLE}\n",
       "234955            1                           {nan, PASSENGER VEHICLE}\n",
       "237780            1               {nan, SPORT UTILITY / STATION WAGON}\n",
       "237867            1                           {nan, PASSENGER VEHICLE}\n",
       "238205            1                                 {TN, nan, BICYCLE}\n",
       "\n",
       "[146 rows x 2 columns]"
      ]
     },
     "execution_count": 145,
     "metadata": {},
     "output_type": "execute_result"
    }
   ],
   "source": [
    "muertos"
   ]
  }
 ],
 "metadata": {
  "celltoolbar": "Raw Cell Format",
  "kernelspec": {
   "display_name": "Python 3",
   "language": "python",
   "name": "python3"
  },
  "language_info": {
   "codemirror_mode": {
    "name": "ipython",
    "version": 3
   },
   "file_extension": ".py",
   "mimetype": "text/x-python",
   "name": "python",
   "nbconvert_exporter": "python",
   "pygments_lexer": "ipython3",
   "version": "3.8.5"
  }
 },
 "nbformat": 4,
 "nbformat_minor": 2
}
