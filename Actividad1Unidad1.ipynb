{
 "cells": [
  {
   "cell_type": "markdown",
   "metadata": {},
   "source": [
    "# Listado de Ejercicios a realizar"
   ]
  },
  {
   "cell_type": "markdown",
   "metadata": {},
   "source": [
    "## 1. Sin usar el computador, evalúe las siguientes expresiones, y para cada una de ellas indique el resultado y su tipo (si la expresión es válida) o qué error ocurre:\n",
    "\n",
    "### Ejemplo\n",
    "- 2 + 3      # Respuesta: tipo int, valor 5\n",
    "- 4 / 0      # Respuesta: error de división por cero\n",
    "\n",
    "### Ejercicio\n",
    "\n",
    "- 5 + 3 * 4: 17\n",
    "- '5' + '3' * 2\n",
    "- 2 ** 11 == 1000 or 2 ** 9 == 100\n",
    "- int(\"cincuenta\")\n",
    "- 16/16 + 384/24\n",
    "- 600 + 18%\n",
    "- 0 < (4096 % 10) < 6\n",
    "- 'Max' + 'Min'\n",
    "- ABC() * DEF()\n",
    "- float(-int(\"7\")+int('90))\n",
    "- abs(len('seis') - len('tres'))\n",
    "- bool(1210) or bool(-3465) \n",
    "- float(str(int('8' * 3) / 3)[3])"
   ]
  },
  {
   "cell_type": "markdown",
   "metadata": {},
   "source": [
    "#Respuesta\n",
    "- 5 + 3 * 4: 17: tipo entero\n",
    "- '5' + '3' * 2, 533: tipo str\n",
    "- 2 ** 11 == 1000 or 2 ** 9 == 100: FALSE, bool\n",
    "- int(\"cincuenta\"): ERROR\n",
    "- 16/16 + 384/24: 17.0, float\n",
    "- 600 + 18%: sintaxis inválida\n",
    "- 0 < (4096 % 10) < 6: FALSE, bool \n",
    "- 'Max' + 'Min': MaxMin, str\n",
    "- ABC() * DEF(), ERROR, porque ABC y DEF no están definidos\n",
    "- float(-int(\"7\")+int('90)): 83.0, float\n",
    "- abs(len('seis') - len('tres')): 0, int\n",
    "- bool(1210) or bool(-3465), TRUE, bool\n",
    "- float(str(int('8' * 3) / 3)[3])"
   ]
  },
  {
   "cell_type": "markdown",
   "metadata": {},
   "source": [
    "# 2. Imprima su nombre y fecha\n",
    "- Imprime: Jorge Alvarez - 20-04-2020"
   ]
  },
  {
   "cell_type": "code",
   "execution_count": 28,
   "metadata": {},
   "outputs": [
    {
     "name": "stdout",
     "output_type": "stream",
     "text": [
      "Jorge Alvarez - 20-04-2020\n"
     ]
    }
   ],
   "source": [
    "# Respuesta:\n",
    "print (\"Jorge Alvarez - 20-04-2020\")"
   ]
  },
  {
   "cell_type": "markdown",
   "metadata": {},
   "source": [
    "# 3. Solicite un nombre y que el programa salude\n",
    "### Ejemplo:\n",
    "- ingreso: 'Andres'\n",
    "- imprime: 'Hola Andres'"
   ]
  },
  {
   "cell_type": "code",
   "execution_count": 21,
   "metadata": {},
   "outputs": [
    {
     "name": "stdout",
     "output_type": "stream",
     "text": [
      "Ingrese su nombreAndrés\n",
      "Hola Andrés\n"
     ]
    }
   ],
   "source": [
    "# Respuesta:\n",
    "a=input(\"Ingrese su nombre\")\n",
    "print ('Hola ' + a)"
   ]
  },
  {
   "cell_type": "markdown",
   "metadata": {},
   "source": [
    "# 4. Solicite el radio (un numero) de un círculo e imprima como salida su diámetro, perímetro y su área\n",
    "### Ejemplo\n",
    "- ingreso: 3 \n",
    "- imprime - Diametro: 6\n",
    "- imprime - Perimetro: 18.84\n",
    "- imprime - Area: 28.27"
   ]
  },
  {
   "cell_type": "code",
   "execution_count": 41,
   "metadata": {},
   "outputs": [
    {
     "name": "stdout",
     "output_type": "stream",
     "text": [
      "Ingrese el radio del círculo:3\n",
      "El diámetro de un círculo de radio 3 es:6, su perímetro es 18.84 y su área es 28.26\n"
     ]
    }
   ],
   "source": [
    "# Respuesta:\n",
    "import math\n",
    "r=int(input('Ingrese el radio del círculo:'))\n",
    "print(\"El diámetro de un círculo de radio \"+str(r)+\" es:\"+str(2*r)+\n",
    "      \", su perímetro es \" + str(float(2*3.14*r)) + \" y su área es \" + str(float(3.14*r**2)))"
   ]
  },
  {
   "cell_type": "markdown",
   "metadata": {},
   "source": [
    "# 5. Solicite 6 notas y calcule el promedio de ellas\n",
    "### Ejemplo\n",
    "- ingreso: 1 2 3 4 5 6\n",
    "- imprime: 3.5"
   ]
  },
  {
   "cell_type": "code",
   "execution_count": 52,
   "metadata": {},
   "outputs": [
    {
     "name": "stdout",
     "output_type": "stream",
     "text": [
      "Ingrese seis notas:\n",
      "Ingrese la nota 1=3\n",
      "Ingrese la nota 2=2\n",
      "Ingrese la nota 3=4\n",
      "Ingrese la nota 4=5\n",
      "Ingrese la nota 5=2.2\n",
      "Ingrese la nota 6=3.8\n",
      "El promedio de las notas es 3.3333333333333335\n"
     ]
    }
   ],
   "source": [
    "# Respuesta:\n",
    "print(\"Ingrese seis notas:\")\n",
    "notas=[]\n",
    "for i in range (6):\n",
    "    nota=float(input(\"Ingrese la nota \" + str(i+1) + \"=\"))\n",
    "    notas.append(nota)\n",
    "    #notas(i)=float(input(\"Ingrese la nota \" + str(i+1) + \"=\"))\n",
    "promedio=sum(notas)/len(notas)\n",
    "print (\"El promedio de las notas es \" +str(promedio))"
   ]
  },
  {
   "cell_type": "markdown",
   "metadata": {},
   "source": [
    "# 6. Solicite un valor e imprima que tipo de dato es\n",
    "### Ejemplo\n",
    "- ingreso: 'A'\n",
    "- imprime: str\n",
    "- ingreso: 1\n",
    "- imprime: int"
   ]
  },
  {
   "cell_type": "code",
   "execution_count": 53,
   "metadata": {},
   "outputs": [
    {
     "name": "stdout",
     "output_type": "stream",
     "text": [
      "Ingrese un valor:A\n",
      "El valor ingresado es de tipo <class 'str'>\n"
     ]
    }
   ],
   "source": [
    "# Respuesta:\n",
    "res=input (\"Ingrese un valor:\")\n",
    "print(\"El valor ingresado es de tipo \" + str(type(res)))"
   ]
  },
  {
   "cell_type": "code",
   "execution_count": null,
   "metadata": {},
   "outputs": [],
   "source": [
    "Dato=input(\"Ingrese un valor:\")\n",
    "if str.isdigit():\n",
    "    numero=Dato\n",
    "    if Dato"
   ]
  },
  {
   "cell_type": "code",
   "execution_count": null,
   "metadata": {},
   "outputs": [],
   "source": [
    "import re\n",
    "Dato=input(\"Ingrese un valor:\")"
   ]
  },
  {
   "cell_type": "markdown",
   "metadata": {},
   "source": [
    "# 7. Escriba en código la siguiente ecuación\n",
    "$$ \\left(\\frac{5+3}{3-2}\\right)^2$$"
   ]
  },
  {
   "cell_type": "code",
   "execution_count": 68,
   "metadata": {},
   "outputs": [
    {
     "name": "stdout",
     "output_type": "stream",
     "text": [
      "64.0\n"
     ]
    }
   ],
   "source": [
    "print(((5+3)/(3-2))**2)"
   ]
  },
  {
   "cell_type": "markdown",
   "metadata": {},
   "source": [
    "# 8. Solicite número de horas trabajadas y coste por horas e imprima el valor\n",
    "### Ejemplo:\n",
    "- Ingreso: 4 (horas)\n",
    "- ingreso: 80.000 (precio x hora)\n",
    "- imprime: 320.000"
   ]
  },
  {
   "cell_type": "code",
   "execution_count": 55,
   "metadata": {},
   "outputs": [
    {
     "name": "stdout",
     "output_type": "stream",
     "text": [
      "Ingrese el número de horas trabajadas: 8\n",
      "Ingrese el coste por horas 80000\n",
      "Usted ha ganado $640000COP\n"
     ]
    }
   ],
   "source": [
    "# Respuesta\n",
    "hr_trab=int(input(\"Ingrese el número de horas trabajadas: \"))\n",
    "money=int(input(\"Ingrese el coste por horas \"))\n",
    "print(\"Usted ha ganado $\" + str(hr_trab*money) + \"COP\")"
   ]
  },
  {
   "cell_type": "markdown",
   "metadata": {},
   "source": [
    "# 9. Solicite la temperatura en grados Celsius e imprima en grados Kelvin y Fahrenheit \n",
    "### Ejemplo:\n",
    "- ingreso: 38 (°C)\n",
    "- imprime: 311.15 °K\n",
    "- imprime: 100.4 °F"
   ]
  },
  {
   "cell_type": "code",
   "execution_count": 56,
   "metadata": {},
   "outputs": [
    {
     "name": "stdout",
     "output_type": "stream",
     "text": [
      "Ingrese la temperatura en grados celsius38\n",
      "Kelvin= 311.0K\n",
      "Fahrenheit= 100.4F\n"
     ]
    }
   ],
   "source": [
    "# Respuesta\n",
    "temp_c=float(input(\"Ingrese la temperatura en grados celsius\"))\n",
    "print(\"Kelvin= \"+ str(273+temp_c) + \"K\")\n",
    "print(\"Fahrenheit= \" + str(temp_c*9/5+32)+\"F\")"
   ]
  },
  {
   "cell_type": "markdown",
   "metadata": {},
   "source": [
    "# 10. Solicite 2 numeros e imprima si el segundo es mayor  \n",
    "### Ejemplo:\n",
    "- ingreso: 2\n",
    "- ingreso: 3\n",
    "- impmrime: True"
   ]
  },
  {
   "cell_type": "code",
   "execution_count": 60,
   "metadata": {},
   "outputs": [
    {
     "name": "stdout",
     "output_type": "stream",
     "text": [
      "Ingrese el primer número:2\n",
      "Ingrese el segundo número:3\n",
      "Es 2>3?: Rta/True\n"
     ]
    }
   ],
   "source": [
    "# Respuesta\n",
    "a=input(\"Ingrese el primer número:\")\n",
    "b=input(\"Ingrese el segundo número:\")\n",
    "print(\"Es \" +str(a) + \">\" + str(b) + \"?: Rta/\" + str(b>a))"
   ]
  },
  {
   "cell_type": "markdown",
   "metadata": {},
   "source": [
    "# 11. Solicite 2 numeros e imprima si el segundo es menor  \n",
    "### Ejemplo:\n",
    "- ingreso: 2\n",
    "- ingreso: 3\n",
    "- impmrime: False"
   ]
  },
  {
   "cell_type": "code",
   "execution_count": 63,
   "metadata": {},
   "outputs": [
    {
     "name": "stdout",
     "output_type": "stream",
     "text": [
      "Ingrese el primer número:2\n",
      "Ingrese el segundo número:3\n",
      "3 no es menor que 2\n"
     ]
    }
   ],
   "source": [
    "# Respuesta\n",
    "a=input(\"Ingrese el primer número:\")\n",
    "b=input(\"Ingrese el segundo número:\")\n",
    "if a>b:\n",
    "    print(str(b) + \" es menor que \" + str(a))\n",
    "else:\n",
    "    print(str(b) + \" no es menor que \" + str(a))"
   ]
  },
  {
   "cell_type": "markdown",
   "metadata": {},
   "source": [
    "# 12. Solicite una distancia (metros) y la velocidad (metros/segundos) e imprima el tiempo que se demora el recorrido\n",
    "### Ejemplo:\n",
    "- ingreso: 150 (metros)\n",
    "- ingreso: 15 (metros/segundo)\n",
    "- Imprime: 10 segundos"
   ]
  },
  {
   "cell_type": "code",
   "execution_count": null,
   "metadata": {},
   "outputs": [],
   "source": [
    "# Respuesta\n"
   ]
  },
  {
   "cell_type": "markdown",
   "metadata": {},
   "source": [
    "# 13. Solicite al usuario tres valores y escriba en código la siguiente ecuación\n",
    "$$ \\left(\\frac{a+b}{c}\\right) ^2 + \\left(\\frac{a-b}{c}\\right) ^ 2 $$"
   ]
  },
  {
   "cell_type": "code",
   "execution_count": 64,
   "metadata": {},
   "outputs": [
    {
     "name": "stdout",
     "output_type": "stream",
     "text": [
      "ingrese el valor de a: 1\n",
      "ingrese el valor de b: 2\n",
      "ingrese el valor de c: 3\n",
      "1.1111111111111112\n"
     ]
    }
   ],
   "source": [
    "# Respuesta\n",
    "a=int(input(\"ingrese el valor de a: \"))\n",
    "b=int(input(\"ingrese el valor de b: \"))\n",
    "c=int(input(\"ingrese el valor de c: \"))\n",
    "\n",
    "print(((a+b)/c)**2+((a-b)/c)**2)"
   ]
  },
  {
   "cell_type": "markdown",
   "metadata": {},
   "source": [
    "# 14. Investigue como se saca la raíz cuadrada de un número en Python y escriba la solución en el cuadro de abajo"
   ]
  },
  {
   "cell_type": "code",
   "execution_count": 66,
   "metadata": {},
   "outputs": [
    {
     "name": "stdout",
     "output_type": "stream",
     "text": [
      "Ingrese un número al que le desee sacar la raíz cuadrada: 9\n",
      "La raíz cuadrada de 9.0 es 3.0\n",
      "La raíz cuadrada de 9.0 es 3.0\n"
     ]
    }
   ],
   "source": [
    "# Respuesta\n",
    "\n",
    "a=float(input(\"Ingrese un número al que le desee sacar la raíz cuadrada: \"))\n",
    "print(\"La raíz cuadrada de \" + str(a) + \" es \" + str(a**(1/2)))\n",
    "\n",
    "#De otra forma\n",
    "import math\n",
    "print(\"La raíz cuadrada de \" + str(a) + \" es \" + str(math.sqrt(a)))"
   ]
  },
  {
   "cell_type": "markdown",
   "metadata": {},
   "source": [
    "# 15.  Con lo anterior solicite 2 numeros (Cateto a y Cateto b) e imprima la hipotenusa.\n",
    "### Ejemplo:\n",
    "- ingreso: 3 (Cateto a)\n",
    "- ingreso: 4 (Cateto b)\n",
    "- imprime: Hipotenusa = 5"
   ]
  },
  {
   "cell_type": "code",
   "execution_count": 1,
   "metadata": {},
   "outputs": [
    {
     "name": "stdout",
     "output_type": "stream",
     "text": [
      "Cálculo de la hipotenusa\n"
     ]
    },
    {
     "name": "stdin",
     "output_type": "stream",
     "text": [
      "ingrese el valor de un cateto:  3\n",
      "ingrese el valor de otro cateto:  4\n"
     ]
    },
    {
     "name": "stdout",
     "output_type": "stream",
     "text": [
      "Valor de hipotenusa= 5.0\n"
     ]
    }
   ],
   "source": [
    "# Respuesta\n",
    "import math\n",
    "print(\"Cálculo de la hipotenusa\")\n",
    "a=int(input(\"ingrese el valor de un cateto: \"))\n",
    "b=int(input(\"ingrese el valor de otro cateto: \"))\n",
    "print(\"Valor de hipotenusa= \"+str(math.sqrt(a**2+b**2)))"
   ]
  },
  {
   "cell_type": "code",
   "execution_count": null,
   "metadata": {},
   "outputs": [],
   "source": []
  }
 ],
 "metadata": {
  "kernelspec": {
   "display_name": "Python 3",
   "language": "python",
   "name": "python3"
  },
  "language_info": {
   "codemirror_mode": {
    "name": "ipython",
    "version": 3
   },
   "file_extension": ".py",
   "mimetype": "text/x-python",
   "name": "python",
   "nbconvert_exporter": "python",
   "pygments_lexer": "ipython3",
   "version": "3.8.5"
  }
 },
 "nbformat": 4,
 "nbformat_minor": 4
}
