{
  "nbformat": 4,
  "nbformat_minor": 0,
  "metadata": {
    "colab": {
      "provenance": [],
      "authorship_tag": "ABX9TyMbzp9qwPq01UhBJTfeWd/4",
      "include_colab_link": true
    },
    "kernelspec": {
      "name": "python3",
      "display_name": "Python 3"
    },
    "language_info": {
      "name": "python"
    }
  },
  "cells": [
    {
      "cell_type": "markdown",
      "metadata": {
        "id": "view-in-github",
        "colab_type": "text"
      },
      "source": [
        "<a href=\"https://colab.research.google.com/github/SuzaDamaRoja/Talleres/blob/main/CLASE_1_Fundamentos_de_python.ipynb\" target=\"_parent\"><img src=\"https://colab.research.google.com/assets/colab-badge.svg\" alt=\"Open In Colab\"/></a>"
      ]
    },
    {
      "cell_type": "markdown",
      "source": [
        "#Comandos de python:\n",
        "\n",
        "\n",
        "1.   Comando print()\n",
        "2.   Comando input()\n",
        "3. Comando type()\n",
        "\n",
        "\n"
      ],
      "metadata": {
        "id": "0dBow0J1lza8"
      }
    },
    {
      "cell_type": "markdown",
      "source": [
        "##1. Comando print()\n",
        "a. Fundamentos\n",
        "\n",
        "b. método sep\n",
        "\n",
        "c. método end\n",
        "\n",
        "d. f en el chat"
      ],
      "metadata": {
        "id": "TUKB9b7Tm2yL"
      }
    },
    {
      "cell_type": "code",
      "execution_count": 3,
      "metadata": {
        "colab": {
          "base_uri": "https://localhost:8080/"
        },
        "id": "OXzajHsjk3Y_",
        "outputId": "9d8d85db-3ecf-42bb-ec36-7a1af6713633"
      },
      "outputs": [
        {
          "output_type": "stream",
          "name": "stdout",
          "text": [
            "Hola mundo\n"
          ]
        }
      ],
      "source": [
        "#Fundamentos de la función print:\n",
        "#La función print sirve para imprimir datos en consola\n",
        "print(\"Hola mundo\")"
      ]
    },
    {
      "cell_type": "code",
      "source": [
        "mensaje=\"Hola como estás?\"\n",
        "print(mensaje)"
      ],
      "metadata": {
        "colab": {
          "base_uri": "https://localhost:8080/"
        },
        "id": "R5H5JejXnxXS",
        "outputId": "c7300191-219a-447e-c95c-312a20817e61"
      },
      "execution_count": 8,
      "outputs": [
        {
          "output_type": "stream",
          "name": "stdout",
          "text": [
            "Hola como estás?\n"
          ]
        }
      ]
    },
    {
      "cell_type": "code",
      "source": [
        "respuesta=\"Alexandra\"\n",
        "print(mensaje,respuesta)#concatenación"
      ],
      "metadata": {
        "colab": {
          "base_uri": "https://localhost:8080/"
        },
        "id": "JOB9O_QaoX2A",
        "outputId": "fe2607e4-efca-4f8a-ffa3-e2152fa56a53"
      },
      "execution_count": 9,
      "outputs": [
        {
          "output_type": "stream",
          "name": "stdout",
          "text": [
            "Hola como estás? Alexandra\n"
          ]
        }
      ]
    },
    {
      "cell_type": "code",
      "source": [
        "#Ejercicio 1\n",
        "fruta1=\"mandarina\"\n",
        "fruta2=\"guanábana\"\n",
        "fruta3=\"banano\"\n",
        "print(\"a mi me gusta\",fruta1,fruta3,\"y la\",fruta2)"
      ],
      "metadata": {
        "colab": {
          "base_uri": "https://localhost:8080/"
        },
        "id": "80l3nJ-sqDTL",
        "outputId": "045e2fbb-a58f-4ee5-b207-7e7c61d37c25"
      },
      "execution_count": 12,
      "outputs": [
        {
          "output_type": "stream",
          "name": "stdout",
          "text": [
            "a mi me gusta mandarina banano y la guanábana\n"
          ]
        }
      ]
    },
    {
      "cell_type": "markdown",
      "source": [
        "###d. F en el chat"
      ],
      "metadata": {
        "id": "OIJWX45gz09o"
      }
    },
    {
      "cell_type": "code",
      "source": [
        "print(f\"La edad de mi mamá es {edadm}\")"
      ],
      "metadata": {
        "colab": {
          "base_uri": "https://localhost:8080/"
        },
        "id": "00Ddg96xz3-X",
        "outputId": "5593d4a4-4dcb-4f87-9394-b021aa3e53c3"
      },
      "execution_count": 20,
      "outputs": [
        {
          "output_type": "stream",
          "name": "stdout",
          "text": [
            "La edad de mi mamá es 45\n"
          ]
        }
      ]
    },
    {
      "cell_type": "markdown",
      "source": [
        "###Método sep"
      ],
      "metadata": {
        "id": "kaGLzLvwtv4-"
      }
    },
    {
      "cell_type": "code",
      "source": [
        "edadm=60\n",
        "edadp=65\n",
        "print(\"La edad de mi papá es\",edadp,\"y la edad de mi mamá es\",edadm,\"y su diferencia de edad es\",edadp-edadm)"
      ],
      "metadata": {
        "colab": {
          "base_uri": "https://localhost:8080/"
        },
        "id": "QJWrf0mironn",
        "outputId": "9202c191-dc0c-44ad-b087-e41d263e9fcc"
      },
      "execution_count": 13,
      "outputs": [
        {
          "output_type": "stream",
          "name": "stdout",
          "text": [
            "La edad de mi papá es 65 y la edad de mi mamá es 60 y su diferencia de edad es 5\n"
          ]
        }
      ]
    },
    {
      "cell_type": "code",
      "source": [
        "print(\"La edad de mi papá es\",edadp,\"y la edad de mi mamá es\",edadm,\"y su diferencia de edad es\",edadp-edadm,sep=\"\\n\")"
      ],
      "metadata": {
        "colab": {
          "base_uri": "https://localhost:8080/"
        },
        "id": "NPV5sAbkuVIO",
        "outputId": "6139931e-6ae7-4ff5-dced-e71d9f7066f3"
      },
      "execution_count": 16,
      "outputs": [
        {
          "output_type": "stream",
          "name": "stdout",
          "text": [
            "La edad de mi papá es\n",
            "65\n",
            "y la edad de mi mamá es\n",
            "60\n",
            "y su diferencia de edad es\n",
            "5\n"
          ]
        }
      ]
    },
    {
      "cell_type": "markdown",
      "source": [
        "###4.Método end\n"
      ],
      "metadata": {
        "id": "0_i9cKNSvn9D"
      }
    },
    {
      "cell_type": "code",
      "source": [
        "print(\"La edad de mi papá es\",edadp,\"y la edad de mi mamá es\",edadm,\"y su diferencia de edad es\",edadp-edadm,end=\".\")"
      ],
      "metadata": {
        "colab": {
          "base_uri": "https://localhost:8080/"
        },
        "id": "s_FqwSdLvwOL",
        "outputId": "3ae0ab9e-827a-4341-d71c-f21091923f9d"
      },
      "execution_count": 17,
      "outputs": [
        {
          "output_type": "stream",
          "name": "stdout",
          "text": [
            "La edad de mi papá es 65 y la edad de mi mamá es 60 y su diferencia de edad es 5."
          ]
        }
      ]
    },
    {
      "cell_type": "markdown",
      "source": [
        "##2.Función input\n",
        "La función input tiene doble función:\n",
        "\n",
        "*   imprime y lee\n",
        "*   Todo los datos los lee en formato string (str)\n",
        "\n"
      ],
      "metadata": {
        "id": "vq4ByS2WwXO5"
      }
    },
    {
      "cell_type": "code",
      "source": [
        "edad=input(\"¿Cuál es tu edad?\")\n",
        "nombre=input(\"¿Cuál es tu nombre?\")\n",
        "print(\"Hola\",nombre,\". Tienes\",edad,\"años\")"
      ],
      "metadata": {
        "colab": {
          "base_uri": "https://localhost:8080/"
        },
        "id": "XIta75uIxI-c",
        "outputId": "3b55030d-1731-429b-c011-f640527ff40a"
      },
      "execution_count": 18,
      "outputs": [
        {
          "output_type": "stream",
          "name": "stdout",
          "text": [
            "¿Cuál es tu edad?38\n",
            "¿Cuál es tu nombre?Alexandra\n",
            "Hola Alexandra . Tienes 38 años\n"
          ]
        }
      ]
    },
    {
      "cell_type": "code",
      "source": [
        "edadm=int(input(\"Cuál es la edad de tu mamá?\"))\n",
        "edadp=int(input(\"Cuál es la edad de tu papá?\"))\n",
        "print(\"La edad de mi papá es\",edadp,\"y la edad de mi mamá es\",edadm,\"y su diferencia de edad es\",edadp-edadm)"
      ],
      "metadata": {
        "colab": {
          "base_uri": "https://localhost:8080/"
        },
        "id": "dg0udacpybFp",
        "outputId": "bbcfd482-4523-4c96-a5da-2e0df79d5d30"
      },
      "execution_count": 19,
      "outputs": [
        {
          "output_type": "stream",
          "name": "stdout",
          "text": [
            "Cuál es la edad de tu mamá?45\n",
            "Cuál es la edad de tu papá?57\n",
            "La edad de mi papá es 57 y la edad de mi mamá es 45 y su diferencia de edad es 12\n"
          ]
        }
      ]
    },
    {
      "cell_type": "markdown",
      "source": [
        "##3.Función type()\n",
        "Sirve para saber cuál es la naturaleza de la variable que estoy manipulando"
      ],
      "metadata": {
        "id": "ZCHXFvJS01dD"
      }
    },
    {
      "cell_type": "code",
      "source": [
        "type(edadp)"
      ],
      "metadata": {
        "colab": {
          "base_uri": "https://localhost:8080/"
        },
        "id": "xVOMBBk109C0",
        "outputId": "2ec61694-415c-466e-8e2a-96563530ed14"
      },
      "execution_count": 23,
      "outputs": [
        {
          "output_type": "execute_result",
          "data": {
            "text/plain": [
              "int"
            ]
          },
          "metadata": {},
          "execution_count": 23
        }
      ]
    },
    {
      "cell_type": "code",
      "source": [
        "type(nombre)"
      ],
      "metadata": {
        "colab": {
          "base_uri": "https://localhost:8080/"
        },
        "id": "_wFI5WG21SwK",
        "outputId": "167d8d3d-8f90-474c-da58-8eed8bff37da"
      },
      "execution_count": 22,
      "outputs": [
        {
          "output_type": "execute_result",
          "data": {
            "text/plain": [
              "str"
            ]
          },
          "metadata": {},
          "execution_count": 22
        }
      ]
    },
    {
      "cell_type": "code",
      "source": [
        "nombre"
      ],
      "metadata": {
        "colab": {
          "base_uri": "https://localhost:8080/",
          "height": 35
        },
        "id": "vX6Q-m181lx6",
        "outputId": "63b6b819-1a22-42d6-9180-ed961a37354a"
      },
      "execution_count": 24,
      "outputs": [
        {
          "output_type": "execute_result",
          "data": {
            "text/plain": [
              "'Alexandra'"
            ],
            "application/vnd.google.colaboratory.intrinsic+json": {
              "type": "string"
            }
          },
          "metadata": {},
          "execution_count": 24
        }
      ]
    },
    {
      "cell_type": "markdown",
      "source": [
        "#Estructuras condicionales\n",
        "\n",
        "\n",
        "1.   Si simple (if)\n",
        "2.   Si - sino (if-else)\n",
        "3. Si - sino con terniario\n",
        "4. Según(elif)\n",
        "\n"
      ],
      "metadata": {
        "id": "9qLIrkoz2VSu"
      }
    },
    {
      "cell_type": "markdown",
      "source": [
        "##1.Si simple\n",
        "Se usa cuando sólo se desea evaluar el valor verdadero de una condición.\n",
        "\n",
        "if (condición):\n",
        "  > *aquí a el proceso si la condición es **verdadera** .*\n",
        "\n"
      ],
      "metadata": {
        "id": "4P2oRmS22vLO"
      }
    },
    {
      "cell_type": "code",
      "source": [
        "a=4\n",
        "b=5\n",
        "if a<b:  print(f\"{a} es menor\")"
      ],
      "metadata": {
        "colab": {
          "base_uri": "https://localhost:8080/"
        },
        "id": "PU_sUjX43i69",
        "outputId": "f2a15807-145b-4efb-866c-ac224d718389"
      },
      "execution_count": 29,
      "outputs": [
        {
          "output_type": "stream",
          "name": "stdout",
          "text": [
            "4 es menor\n"
          ]
        }
      ]
    },
    {
      "cell_type": "markdown",
      "source": [
        "## Estructura de condición si-sino\n",
        "Se emplea cuando deseas evaluar una condición de verdad (verdadera o falsa).\n",
        "\n",
        "if (condición):\n",
        "> *Si la condición es **verdadera**.*\n",
        "\n",
        "else:\n",
        "> *Si la condición es **falsa**.*\n",
        "\n",
        "\n",
        "\n"
      ],
      "metadata": {
        "id": "J7V_JwOn44ch"
      }
    },
    {
      "cell_type": "code",
      "source": [
        "a=4\n",
        "b=5\n",
        "if a<b:\n",
        "  print(f\"{a} es menor\")\n",
        "else:\n",
        "  print(f\"{a} es mayor\")"
      ],
      "metadata": {
        "id": "GGuY0dBS5bYS"
      },
      "execution_count": null,
      "outputs": []
    },
    {
      "cell_type": "code",
      "source": [
        "#Ejercicio 3: Crear un código que me diga cuando un estudiante pasa o pierde programación de computadores.\n",
        "#Considere que se pierde la materia cuando la nota final es menor que 3.0\n",
        "nota=float(input(\"Ingrese su nota: \"))\n",
        "if nota>3.0: print(\"El estudiante pasó la materia\")\n",
        "else: print(\"El estudiante perdió la materia\")"
      ],
      "metadata": {
        "colab": {
          "base_uri": "https://localhost:8080/"
        },
        "id": "RMR7BWi66E3Q",
        "outputId": "472623c7-57ea-4017-9194-4137f5fd5348"
      },
      "execution_count": 30,
      "outputs": [
        {
          "output_type": "stream",
          "name": "stdout",
          "text": [
            "Ingrese su nota: 4\n",
            "El estudiante pasó la materia\n"
          ]
        }
      ]
    },
    {
      "cell_type": "markdown",
      "source": [
        "##3. Si-sino con terniario"
      ],
      "metadata": {
        "id": "LkCbq82q8Bhe"
      }
    },
    {
      "cell_type": "code",
      "source": [
        "nota=float(input(\"Ingrese su nota: \"))\n",
        "mensaje=\"El estudiante pasó la materia\" if nota>3.0 else \"El estudiante perdió la materia\"\n",
        "print(mensaje)"
      ],
      "metadata": {
        "id": "mb39tQmQ8kNb"
      },
      "execution_count": null,
      "outputs": []
    },
    {
      "cell_type": "markdown",
      "source": [
        "##4. Según (elif)\n",
        "La estructura según se emplea cuando no podemos evaluar una condición con solo si o no.\n",
        "Se emplea cuando hay múltiples condiciones pero sólo un sino.\n",
        "\n",
        "Estructura\n",
        "if (condición):\n",
        "> *Aquí si condición es **verdadera**.*\n",
        "\n",
        "elif (condición2):\n",
        "> *Aquí si condición2 es **verdadera**.*\n",
        "\n",
        "if (condición3):\n",
        "> *Aquí si condición3 es **verdadera**.*\n",
        "\n",
        "if (condición_n):\n",
        "> *Aquí si condición_n es **verdadera**.*\n",
        "\n",
        "else:\n",
        "> *Aquí si condición,condición1, condición2...condición_n es **falsa**.*"
      ],
      "metadata": {
        "id": "EFxZCIZY9ylv"
      }
    },
    {
      "cell_type": "code",
      "source": [
        "letra=input(\"Ingrese una vocal\")\n",
        "if letra==\"A\": print(f\"{letra} es una vocal mayúscula\")\n",
        "elif letra==\"E\": print(f\"{letra} es una vocal mayúscula\")\n",
        "elif letra==\"I\": print(f\"{letra} es una vocal mayúscula\")\n",
        "elif letra==\"O\": print(f\"{letra} es una vocal mayúscula\")\n",
        "elif letra==\"U\": print(f\"{letra} es una vocal mayúscula\")\n",
        "elif letra==\"a\": print(f\"{letra} es una vocal minúscula\")\n",
        "elif letra==\"e\": print(f\"{letra} es una vocal minúscula\")\n",
        "elif letra==\"i\": print(f\"{letra} es una vocal minúscula\")\n",
        "elif letra==\"o\": print(f\"{letra} es una vocal minúscula\")\n",
        "elif letra==\"u\": print(f\"{letra} es una vocal minúscula\")\n",
        "else: print(f\"{letra} no es una vocal\")"
      ],
      "metadata": {
        "colab": {
          "base_uri": "https://localhost:8080/"
        },
        "id": "RaKbZVVQ-jyu",
        "outputId": "36b35617-dea5-45f2-9633-d5dde964b67b"
      },
      "execution_count": 32,
      "outputs": [
        {
          "output_type": "stream",
          "name": "stdout",
          "text": [
            "Ingrese una vocaln\n",
            "n no es una vocal\n"
          ]
        }
      ]
    }
  ]
}